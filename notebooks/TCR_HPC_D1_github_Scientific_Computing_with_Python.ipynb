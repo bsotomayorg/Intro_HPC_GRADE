{
 "cells": [
  {
   "cell_type": "markdown",
   "metadata": {},
   "source": [
    "# Section 0: Brief introduction about programming languages"
   ]
  },
  {
   "cell_type": "code",
   "execution_count": null,
   "metadata": {},
   "outputs": [],
   "source": []
  },
  {
   "cell_type": "markdown",
   "metadata": {},
   "source": [
    "## 0.1.1. What's an algorithm?"
   ]
  },
  {
   "cell_type": "markdown",
   "metadata": {},
   "source": [
    "![](imgs/slides_d1/013.PNG)"
   ]
  },
  {
   "cell_type": "markdown",
   "metadata": {},
   "source": [
    "## 0.1.2. What's a programming language?"
   ]
  },
  {
   "cell_type": "markdown",
   "metadata": {},
   "source": []
  },
  {
   "cell_type": "markdown",
   "metadata": {},
   "source": [
    "## 0.1.3. What's Python?"
   ]
  },
  {
   "cell_type": "markdown",
   "metadata": {},
   "source": []
  },
  {
   "cell_type": "markdown",
   "metadata": {},
   "source": [
    "### 0.1.3.1. Main advantages"
   ]
  },
  {
   "cell_type": "markdown",
   "metadata": {},
   "source": [
    "![](imgs/slides_d1/034.PNG)"
   ]
  },
  {
   "cell_type": "markdown",
   "metadata": {},
   "source": [
    "![](imgs/slides_d1/035.PNG)"
   ]
  },
  {
   "cell_type": "markdown",
   "metadata": {},
   "source": [
    "### 0.1.3.2. Main disadvantages"
   ]
  },
  {
   "cell_type": "markdown",
   "metadata": {},
   "source": [
    "![](imgs/slides_d1/042.PNG)"
   ]
  },
  {
   "cell_type": "markdown",
   "metadata": {},
   "source": [
    "----"
   ]
  },
  {
   "cell_type": "markdown",
   "metadata": {
    "id": "Mgzxn85UdDlq"
   },
   "source": [
    "# Section 1: Python Essentials: A quick recap"
   ]
  },
  {
   "cell_type": "markdown",
   "metadata": {
    "id": "IfKE9JGivEgV"
   },
   "source": [
    "## 1.0. What's Jupyter notebook?\n"
   ]
  },
  {
   "cell_type": "markdown",
   "metadata": {
    "id": "kBGI313-vRf5"
   },
   "source": [
    "![](https://assets.website-files.com/6141c89a3874c3702674a1c0/625012c9c0dbf1887c4bf7c7_623d8b3bd384c356fff4d0c8_memgraph-jupyter-notebook-cover-p-1080.png)\n",
    "\n",
    "(_Image source: [memgraph.com](https://memgraph.com/blog/jupyter-notebook-twitter-network-analysis)_)\n",
    "\n",
    "A notebook document can contain computer code (e.g., python scripts) and text elements (e.g., paragraph, equations, figures, links, etc). Thus, these documents contain analysis descriptions, results as well as executable cells which can be run to perform data analysis.\n"
   ]
  },
  {
   "cell_type": "markdown",
   "metadata": {
    "id": "OeKErhai7Y-0"
   },
   "source": [
    "Here, we can directly \"talk\" to the Python's interpreter. You can run the code of a cell by selecting it and pressing \"`shift` + `enter`\". Try it out!\n"
   ]
  },
  {
   "cell_type": "code",
   "execution_count": null,
   "metadata": {
    "colab": {
     "base_uri": "https://localhost:8080/"
    },
    "id": "ZTqs9G2l7Y-1",
    "outputId": "af3ab0b1-6d3b-4fe3-ae38-8c93fd152c69"
   },
   "outputs": [
    {
     "name": "stdout",
     "output_type": "stream",
     "text": [
      "Hallo Welt!\n"
     ]
    }
   ],
   "source": [
    "# method 'print(arg)': it returns the argument 'arg' to the user's console\n",
    "print(\"Hallo Welt!\")"
   ]
  },
  {
   "cell_type": "markdown",
   "metadata": {
    "id": "rBujptjD7Y-_"
   },
   "source": [
    "## 1.1. Python Data Types"
   ]
  },
  {
   "cell_type": "markdown",
   "metadata": {
    "id": "8ZE_Dl2eubgq"
   },
   "source": [
    "### 1.1.1. Variables"
   ]
  },
  {
   "cell_type": "markdown",
   "metadata": {
    "id": "STEkrhARsd1H"
   },
   "source": [
    "We can think that a variable in programming is a name or a label that we will use to refer a particular object. Such object can be value we store in the memory (e.g. `n = 15`). \n",
    "\n",
    "We can store values on variables **without specifying their types**. That's because Python is a dynamically-typed languague: If we assign a value to a variable the python interpreter will assign it a type.\n",
    "\n",
    "For example, if we do this:"
   ]
  },
  {
   "cell_type": "code",
   "execution_count": null,
   "metadata": {
    "colab": {
     "base_uri": "https://localhost:8080/"
    },
    "id": "7grini1l7Y_A",
    "outputId": "f596a461-decf-48f2-f300-c67be6f4d757"
   },
   "outputs": [
    {
     "name": "stdout",
     "output_type": "stream",
     "text": [
      "<class 'int'> 2\n",
      "<class 'float'> 7.1\n",
      "<class 'bool'> True\n",
      "<class 'str'> Hallo!\n"
     ]
    }
   ],
   "source": [
    "a = 2        # int   (integer)\n",
    "b = 7.1      # float (float/decimal)\n",
    "c = True     # bool  (boolean)\n",
    "d = \"Hallo!\" # str   (string, list of characters)\n",
    "\n",
    "print(type(a), a)\n",
    "print(type(b), b)\n",
    "print(type(c), c)\n",
    "print(type(d), d)"
   ]
  },
  {
   "cell_type": "markdown",
   "metadata": {
    "id": "MGkBsKPHs3yb"
   },
   "source": [
    "We can see with `type()` the type of each variable."
   ]
  },
  {
   "cell_type": "markdown",
   "metadata": {
    "id": "_tk6WSof7Y_A"
   },
   "source": [
    "Note that we didn't specify explicitly the type of the data of each variable. Thus, the Python interpreter **infers** which data type is from the value you want to store.\n",
    "\n",
    "You can also change the type of the variables:"
   ]
  },
  {
   "cell_type": "code",
   "execution_count": null,
   "metadata": {
    "colab": {
     "base_uri": "https://localhost:8080/",
     "height": 35
    },
    "id": "bEGT1Zdz7Y_B",
    "outputId": "97059303-92bd-45ff-c66e-7035e6d04e07"
   },
   "outputs": [
    {
     "data": {
      "application/vnd.google.colaboratory.intrinsic+json": {
       "type": "string"
      },
      "text/plain": [
       "'2'"
      ]
     },
     "execution_count": 3,
     "metadata": {},
     "output_type": "execute_result"
    }
   ],
   "source": [
    "str(a) # it converts the variable's value into a string."
   ]
  },
  {
   "cell_type": "code",
   "execution_count": null,
   "metadata": {
    "colab": {
     "base_uri": "https://localhost:8080/"
    },
    "id": "3UmwvKO17Y_C",
    "outputId": "25e2b70e-74e9-4b2c-abd1-674cc03ccae0"
   },
   "outputs": [
    {
     "data": {
      "text/plain": [
       "7"
      ]
     },
     "execution_count": 4,
     "metadata": {},
     "output_type": "execute_result"
    }
   ],
   "source": [
    "int(b) # from float (decimal) to integer"
   ]
  },
  {
   "cell_type": "markdown",
   "metadata": {
    "id": "RNvMU_sL22Ld"
   },
   "source": [
    "Notice that was `b = 7.1`. However, we are forcing to convert a decimal value into an integer. Then, the interpreter truncates the original value.\n",
    "\n",
    "\n"
   ]
  },
  {
   "cell_type": "markdown",
   "metadata": {
    "id": "AMALLPECtH8z"
   },
   "source": [
    "\n",
    "---"
   ]
  },
  {
   "cell_type": "markdown",
   "metadata": {
    "id": "nr8AKu9JeLeA"
   },
   "source": [
    "### 1.1.2. Lists"
   ]
  },
  {
   "cell_type": "markdown",
   "metadata": {
    "id": "8EowZX7Ntzlr"
   },
   "source": [
    "#### 1.1.2.1 Definition"
   ]
  },
  {
   "cell_type": "markdown",
   "metadata": {
    "id": "E938xHRSusBo"
   },
   "source": [
    "Imagine that you want to store 100 values about an specific variable (e.g., `participant_age`, `neuron_type`). It is not convenient to create 100 variables to store each value.\n",
    "\n",
    "In such cases, we use _Python lists_ (also known as vectors or arrays).\n",
    "\n",
    "For example:"
   ]
  },
  {
   "cell_type": "code",
   "execution_count": null,
   "metadata": {
    "id": "5bMFw83luqM5"
   },
   "outputs": [],
   "source": [
    "# list of integers\n",
    "my_list_int      = [3,1,2,5,6] \n",
    "# list of strings\n",
    "my_list_strings  = [\"red\", \"green\", \"blue\", \"yellow\", \"black\"]\n",
    "# list with different types of elements\n",
    "my_list_elements = [\"3\",1.5,2,True] "
   ]
  },
  {
   "cell_type": "markdown",
   "metadata": {
    "id": "aWiT7NAqvVdw"
   },
   "source": [
    "Note that a list can store different types of elements.\n",
    "\n",
    "![](https://www.learnbyexample.org/wp-content/uploads/python/Python-List-Indexing.png)\n",
    "\n",
    "_(Image source: LearnByExample.org)_\n",
    "\n"
   ]
  },
  {
   "cell_type": "markdown",
   "metadata": {
    "id": "864lE4Pqtp7E"
   },
   "source": [
    "#### 1.1.2.2. List indexing"
   ]
  },
  {
   "cell_type": "markdown",
   "metadata": {
    "id": "80PZLcAPth09"
   },
   "source": [
    "In order to have access to the elements of a given list, we should write the index of such element in the list, starting by the number 0.\n",
    "\n",
    "For example:"
   ]
  },
  {
   "cell_type": "code",
   "execution_count": null,
   "metadata": {
    "colab": {
     "base_uri": "https://localhost:8080/"
    },
    "id": "P4VUNHa6wasq",
    "outputId": "8856aca3-d0e4-44c1-8f24-e0cd3e12fda5"
   },
   "outputs": [
    {
     "name": "stdout",
     "output_type": "stream",
     "text": [
      "red\n",
      "blue\n"
     ]
    }
   ],
   "source": [
    "print(my_list_strings[0])\n",
    "print(my_list_strings[2])"
   ]
  },
  {
   "cell_type": "markdown",
   "metadata": {
    "id": "yg6-CljISHY1"
   },
   "source": [
    "Let's consider the following list of integers:"
   ]
  },
  {
   "cell_type": "code",
   "execution_count": null,
   "metadata": {
    "id": "e5VOl2G37Y_F"
   },
   "outputs": [],
   "source": [
    "list_of_integers = [1,5,2,9,4,8,6]"
   ]
  },
  {
   "cell_type": "code",
   "execution_count": null,
   "metadata": {
    "colab": {
     "base_uri": "https://localhost:8080/"
    },
    "id": "KSzdF1TE7Y_F",
    "outputId": "6aec7c06-4e15-4dd8-fb5d-1bc4f2b7e8be"
   },
   "outputs": [
    {
     "name": "stdout",
     "output_type": "stream",
     "text": [
      "[1, 5, 2, 9, 4, 8, 6]\n"
     ]
    }
   ],
   "source": [
    "print(list_of_integers)"
   ]
  },
  {
   "cell_type": "markdown",
   "metadata": {
    "id": "F2pKkbGqR3za"
   },
   "source": [
    "We can know the length of a list (i.e., the amount of elements it has) by writing `len(my_list)`:"
   ]
  },
  {
   "cell_type": "code",
   "execution_count": null,
   "metadata": {
    "colab": {
     "base_uri": "https://localhost:8080/"
    },
    "id": "lOKkVKcx7Y_F",
    "outputId": "e4371e4c-97ff-4ab8-c051-fa3c22b125d7"
   },
   "outputs": [
    {
     "data": {
      "text/plain": [
       "7"
      ]
     },
     "execution_count": 154,
     "metadata": {},
     "output_type": "execute_result"
    }
   ],
   "source": [
    "len(list_of_integers)"
   ]
  },
  {
   "cell_type": "markdown",
   "metadata": {
    "id": "hfwM5qUDRxvG"
   },
   "source": [
    "We can access each item by indicating its index:"
   ]
  },
  {
   "cell_type": "code",
   "execution_count": null,
   "metadata": {
    "colab": {
     "base_uri": "https://localhost:8080/"
    },
    "id": "jKXX5I5r7Y_G",
    "outputId": "cbb9a0b1-f5e4-4291-d41c-f40f91b2a375"
   },
   "outputs": [
    {
     "data": {
      "text/plain": [
       "9"
      ]
     },
     "execution_count": 155,
     "metadata": {},
     "output_type": "execute_result"
    }
   ],
   "source": [
    "list_of_integers[3]"
   ]
  },
  {
   "cell_type": "code",
   "execution_count": null,
   "metadata": {
    "colab": {
     "base_uri": "https://localhost:8080/"
    },
    "id": "ao0HqNHD7Y_G",
    "outputId": "e6fd9a8e-d6d8-4941-c6a9-155869bb1f0e"
   },
   "outputs": [
    {
     "data": {
      "text/plain": [
       "6"
      ]
     },
     "execution_count": 156,
     "metadata": {},
     "output_type": "execute_result"
    }
   ],
   "source": [
    "list_of_integers[-1] # -1 represent the last element!"
   ]
  },
  {
   "cell_type": "markdown",
   "metadata": {
    "id": "zE_UI-ZnRdW5"
   },
   "source": [
    "##### 1.2.2.1. Slicing\n",
    "\n",
    "\n",
    "We can access to specific sub-list of a list.\n",
    "\n",
    "If we write `our_list[:a]`, it will return every element of `our_list` until the index `a`."
   ]
  },
  {
   "cell_type": "code",
   "execution_count": null,
   "metadata": {
    "colab": {
     "base_uri": "https://localhost:8080/"
    },
    "id": "5YrMuxpI7Y_H",
    "outputId": "5e83953b-1f03-4b87-fe2f-42d81860cd20"
   },
   "outputs": [
    {
     "data": {
      "text/plain": [
       "[1, 5, 2]"
      ]
     },
     "execution_count": 157,
     "metadata": {},
     "output_type": "execute_result"
    }
   ],
   "source": [
    "list_of_integers[:3]"
   ]
  },
  {
   "cell_type": "code",
   "execution_count": null,
   "metadata": {
    "colab": {
     "base_uri": "https://localhost:8080/"
    },
    "id": "ho6lDcoB7Y_H",
    "outputId": "8b741457-2539-4331-db02-0b37484b8052"
   },
   "outputs": [
    {
     "data": {
      "text/plain": [
       "[4, 8, 6]"
      ]
     },
     "execution_count": 158,
     "metadata": {},
     "output_type": "execute_result"
    }
   ],
   "source": [
    "list_of_integers[-3:]"
   ]
  },
  {
   "cell_type": "markdown",
   "metadata": {
    "id": "F-eMq46980Zw"
   },
   "source": [
    "And also access to a sublist:"
   ]
  },
  {
   "cell_type": "code",
   "execution_count": null,
   "metadata": {
    "colab": {
     "base_uri": "https://localhost:8080/"
    },
    "id": "Fz7cOONq8yn-",
    "outputId": "513d3ceb-96b4-4e86-d807-faf73f695bf4"
   },
   "outputs": [
    {
     "data": {
      "text/plain": [
       "[5, 2, 9]"
      ]
     },
     "execution_count": 159,
     "metadata": {},
     "output_type": "execute_result"
    }
   ],
   "source": [
    "list_of_integers[1:4]"
   ]
  },
  {
   "cell_type": "markdown",
   "metadata": {
    "id": "K-W5k3hgPUbf"
   },
   "source": [
    "We can invert a Python list as follows:"
   ]
  },
  {
   "cell_type": "code",
   "execution_count": null,
   "metadata": {
    "colab": {
     "base_uri": "https://localhost:8080/"
    },
    "id": "TQ0SABeV7Y_H",
    "outputId": "1e4b9cf5-50bd-4fda-e33a-4c2a05527a35"
   },
   "outputs": [
    {
     "data": {
      "text/plain": [
       "[6, 8, 4, 9, 2, 5, 1]"
      ]
     },
     "execution_count": 160,
     "metadata": {},
     "output_type": "execute_result"
    }
   ],
   "source": [
    "list_of_integers[::-1]"
   ]
  },
  {
   "cell_type": "markdown",
   "metadata": {
    "id": "EuIrD67aupSQ"
   },
   "source": [
    "##### 1.2.2.2.Adding elements into a list\n",
    "\n",
    "To add an element use `append()` as follows:"
   ]
  },
  {
   "cell_type": "code",
   "execution_count": null,
   "metadata": {
    "id": "Ce-Ah5PXP4Fy"
   },
   "outputs": [],
   "source": [
    "list_of_integers.append(10)"
   ]
  },
  {
   "cell_type": "code",
   "execution_count": null,
   "metadata": {
    "colab": {
     "base_uri": "https://localhost:8080/"
    },
    "id": "v9Is1RGHQQzq",
    "outputId": "f4f85eff-266f-428f-ac46-71ecc75fc8f2"
   },
   "outputs": [
    {
     "name": "stdout",
     "output_type": "stream",
     "text": [
      "[1, 5, 2, 9, 4, 8, 6, 10]\n"
     ]
    }
   ],
   "source": [
    "print(list_of_integers)"
   ]
  },
  {
   "cell_type": "markdown",
   "metadata": {
    "id": "VXnLjBalQTZH"
   },
   "source": [
    "##### 1.2.2.3. Removing elements from a list\n",
    "\n",
    "You can remove an element from a list by indicating such element.\n",
    "\n",
    "For example, to remove the element `9` we do:"
   ]
  },
  {
   "cell_type": "code",
   "execution_count": null,
   "metadata": {
    "id": "sraC7S7XQTF-"
   },
   "outputs": [],
   "source": [
    "list_of_integers.remove(9)"
   ]
  },
  {
   "cell_type": "code",
   "execution_count": null,
   "metadata": {
    "colab": {
     "base_uri": "https://localhost:8080/"
    },
    "id": "v1cDyWFSQj2A",
    "outputId": "b550650b-d0b9-45ff-93b5-a909f0cdac49"
   },
   "outputs": [
    {
     "name": "stdout",
     "output_type": "stream",
     "text": [
      "[1, 5, 2, 4, 8, 6, 10, 10, 10]\n"
     ]
    }
   ],
   "source": [
    "print(list_of_integers)"
   ]
  },
  {
   "cell_type": "code",
   "execution_count": null,
   "metadata": {
    "id": "zviyfaF8QyoT"
   },
   "outputs": [],
   "source": [
    "list_of_integers = [5,1,6,1,2,3]\n",
    "list_of_integers.remove(1)"
   ]
  },
  {
   "cell_type": "code",
   "execution_count": null,
   "metadata": {
    "colab": {
     "base_uri": "https://localhost:8080/"
    },
    "id": "I72X_WHUQ1sq",
    "outputId": "c1cee13e-7e8d-4b50-f51d-fa3b0b39801b"
   },
   "outputs": [
    {
     "name": "stdout",
     "output_type": "stream",
     "text": [
      "[5, 6, 1, 2, 3]\n"
     ]
    }
   ],
   "source": [
    "print(list_of_integers)"
   ]
  },
  {
   "cell_type": "markdown",
   "metadata": {
    "id": "P4PEvMdVRFC9"
   },
   "source": [
    "Note that `remove(item)` will remove the first item it finds (not all of them) from left to right."
   ]
  },
  {
   "cell_type": "markdown",
   "metadata": {
    "id": "dorMtf8y7Y_E"
   },
   "source": [
    "#### 1.1.2.3. Nested lists"
   ]
  },
  {
   "cell_type": "markdown",
   "metadata": {
    "id": "utnvb-VyPbD3"
   },
   "source": [
    "List allow us to store different types of variables such as Integers, Floats, Strings... and also lists! In this case, we call them nested lists."
   ]
  },
  {
   "cell_type": "markdown",
   "metadata": {
    "id": "Z9hycoSPwu0Z"
   },
   "source": [
    "![](https://www.learnbyexample.org/wp-content/uploads/python/Python-Nested-List-Indexing.png)\n",
    "\n",
    "_(Image source: LearnByExample.org)_"
   ]
  },
  {
   "cell_type": "markdown",
   "metadata": {
    "id": "PPE0ohVSuIiE"
   },
   "source": [
    "Let's check the implementation of such example below:"
   ]
  },
  {
   "cell_type": "code",
   "execution_count": null,
   "metadata": {
    "colab": {
     "base_uri": "https://localhost:8080/"
    },
    "id": "OCa_X1Iiw7Oz",
    "outputId": "9602107c-c576-463b-d5be-edce8df4bb81"
   },
   "outputs": [
    {
     "name": "stdout",
     "output_type": "stream",
     "text": [
      "['cc', 'dd', ['eee', 'fff']]\n",
      "['eee', 'fff']\n",
      "eee\n"
     ]
    }
   ],
   "source": [
    "L = ['a', 'b', ['cc', 'dd', ['eee', 'fff']], 'g', 'h']\n",
    "\n",
    "print(L[2])\n",
    "# Prints ['cc', 'dd', ['eee', 'fff']]\n",
    "\n",
    "print(L[2][2])\n",
    "# Prints ['eee', 'fff']\n",
    "\n",
    "print(L[2][2][0])\n",
    "# Prints eee"
   ]
  },
  {
   "cell_type": "markdown",
   "metadata": {
    "id": "6tpVALgExyRr"
   },
   "source": [
    "We can also use this property to represent a matrix:"
   ]
  },
  {
   "cell_type": "code",
   "execution_count": null,
   "metadata": {
    "colab": {
     "base_uri": "https://localhost:8080/"
    },
    "id": "OfBcMmt08hBB",
    "outputId": "a33d35fb-1d65-481f-f23b-94ffb551eee3"
   },
   "outputs": [
    {
     "name": "stdout",
     "output_type": "stream",
     "text": [
      "A\n",
      " [[1, 2, 3], [1, 0, 5], [2, 0, 0]]\n",
      "B\n",
      " [[1, 2, 3], [1, 0, 5], [2, 0, 0]]\n",
      "C\n",
      " [[0, 0, 0], [0, 0, 0], [0, 0, 0]]\n"
     ]
    }
   ],
   "source": [
    "A = [[1,2,3],[1,0,5],[2,0,0]]\n",
    "B = [[1,2,3],[1,0,5],[2,0,0]]\n",
    "C = [[0,0,0],[0,0,0],[0,0,0]]\n",
    "\n",
    "print(\"A\\n\", A)\n",
    "print(\"B\\n\", B)\n",
    "print(\"C\\n\", C)"
   ]
  },
  {
   "cell_type": "markdown",
   "metadata": {
    "id": "OocWZwzyuQh3"
   },
   "source": [
    "In this case, a matrix would be represented by a list of list."
   ]
  },
  {
   "cell_type": "markdown",
   "metadata": {
    "id": "JNRJ6_gq9thW"
   },
   "source": [
    "#### 1.1.2.4. Dictionaries"
   ]
  },
  {
   "cell_type": "markdown",
   "metadata": {
    "id": "lsBP-uUFyDbN"
   },
   "source": [
    "Python dictionaries (`dict()`) allow us to store information on them and using keys for indexing. \n",
    "\n",
    "They are an unordered sequence of items, as pairs `(key, value)`. \n",
    "\n",
    "Just like Lists, the values of dictionaries can hold data of different types (i.e., integers, floats, strings, lists, dictionaries, etc). \n",
    "\n",
    "For example:"
   ]
  },
  {
   "cell_type": "code",
   "execution_count": null,
   "metadata": {
    "id": "w4fICOA9yDLu"
   },
   "outputs": [],
   "source": [
    "my_dict = {\n",
    "    \"firstname\" : \"Ash\", \n",
    "    \"lastname\"  : \"Ketchum\", \n",
    "    \"residence\" : \"Palette Town\",\n",
    "    \"PLZ\"       : 101,\n",
    "    \"region\"    : \"Kanto\",\n",
    "    \"Team\"      : [\n",
    "      \"Charizard\", \"Squirtle\", \"Butterfly\", \"Pidgeotto\", \"Bulbasaur\",\"Pikachu\"\n",
    "    ]}\n"
   ]
  },
  {
   "cell_type": "code",
   "execution_count": null,
   "metadata": {
    "colab": {
     "base_uri": "https://localhost:8080/"
    },
    "id": "Wm4HS1FO-Ydg",
    "outputId": "3e73dbc3-6bdf-4d43-a3db-bdbe58f15bc0"
   },
   "outputs": [
    {
     "name": "stdout",
     "output_type": "stream",
     "text": [
      "{'firstname': 'Ash', 'lastname': 'Ketchum', 'residence': 'Palette Town', 'PLZ': 101, 'region': 'Kanto', 'Team': ['Charizard', 'Squirtle', 'Butterfly', 'Pidgeotto', 'Bulbasaur', 'Pikachu']}\n"
     ]
    }
   ],
   "source": [
    "print(my_dict)"
   ]
  },
  {
   "cell_type": "code",
   "execution_count": null,
   "metadata": {
    "colab": {
     "base_uri": "https://localhost:8080/"
    },
    "id": "QZFfxQ87-ZAo",
    "outputId": "0d082c7c-b1a4-4c5c-92d4-c0347c509f24"
   },
   "outputs": [
    {
     "name": "stdout",
     "output_type": "stream",
     "text": [
      "Ash Ketchum from Palette Town\n"
     ]
    }
   ],
   "source": [
    "print(my_dict['firstname'], my_dict['lastname'], \"from\", my_dict[\"residence\"])"
   ]
  },
  {
   "cell_type": "code",
   "execution_count": null,
   "metadata": {
    "colab": {
     "base_uri": "https://localhost:8080/"
    },
    "id": "ONfnK5AF-rO5",
    "outputId": "fe19a63b-4183-4475-b369-fac94d5a99a7"
   },
   "outputs": [
    {
     "name": "stdout",
     "output_type": "stream",
     "text": [
      "Charizard\n"
     ]
    }
   ],
   "source": [
    "print(my_dict[\"Team\"][0]) # First element of \"Team\" list"
   ]
  },
  {
   "cell_type": "markdown",
   "metadata": {
    "id": "Uchm-1xO-saw"
   },
   "source": [
    "Python dictionaries help us to store our data in complex data structures."
   ]
  },
  {
   "cell_type": "markdown",
   "metadata": {
    "id": "eHcH1BNj7Y_J"
   },
   "source": [
    "## 1.2. Python Control Statements and loops"
   ]
  },
  {
   "cell_type": "markdown",
   "metadata": {
    "id": "Dy0TtC3-uh-9"
   },
   "source": [
    "### 1.2.1. Control Statements (if, elif, else)"
   ]
  },
  {
   "cell_type": "markdown",
   "metadata": {
    "id": "S1QOvkiiAvC9"
   },
   "source": [
    "In order to control the execution flow in your algorithm, in python we use `if (condition)`, `elif (condition)`, and `else`."
   ]
  },
  {
   "cell_type": "markdown",
   "metadata": {
    "id": "Mi7MNwRsZDq1"
   },
   "source": [
    "##### 1.2.1.1. Syntax\n",
    "\n",
    "```python\n",
    "if (condition):\n",
    "  # your statements if `condition` is True\n",
    "else:\n",
    "  # your statements if `condition` is False\n",
    "```\n",
    "\n",
    "if one condition is not enough, we can do:\n",
    "\n",
    "```python\n",
    "if (condition1):\n",
    "  # your statements if `condition1` is True\n",
    "else:\n",
    "  # your statements if `condition1` is False\n",
    "  if (condition2):\n",
    "    # your statements if `condition2` is True\n",
    "  else:\n",
    "    # your statements if `condition2` is False\n",
    "```\n",
    "\n",
    "or equivalently:\n",
    "\n",
    "```python\n",
    "if (condition1):\n",
    "  # your statements if `condition1` is True\n",
    "elif (condition2):\n",
    "  # your statements if `condition1` is False but `condition2` is True\n",
    "else:\n",
    "  # your statements if both `condition1` and `condition2` are False\n",
    "```\n",
    "\n"
   ]
  },
  {
   "cell_type": "markdown",
   "metadata": {
    "id": "lMPmODa-_ZP4"
   },
   "source": [
    "##### 1.2.1.2. Example\n"
   ]
  },
  {
   "cell_type": "code",
   "execution_count": null,
   "metadata": {
    "colab": {
     "base_uri": "https://localhost:8080/"
    },
    "id": "eMmwak26Zqfd",
    "outputId": "a820340e-1d00-41c2-c665-df6ff450e0f5"
   },
   "outputs": [
    {
     "name": "stdout",
     "output_type": "stream",
     "text": [
      "Negative\n"
     ]
    }
   ],
   "source": [
    "x = -10\n",
    "\n",
    "if (x > 0):\n",
    "  print(\"Positive\")\n",
    "elif (x < 0):\n",
    "  print(\"Negative\")\n",
    "else:\n",
    "  print(\"Zero\")\n"
   ]
  },
  {
   "cell_type": "markdown",
   "metadata": {
    "id": "IzgyAKqk_0I1"
   },
   "source": [
    "### 1.2.2. Control Statements (`for` and `while`)"
   ]
  },
  {
   "cell_type": "markdown",
   "metadata": {
    "id": "Gs6_mZ4__bGJ"
   },
   "source": [
    "We can access each element of a list through `for` and `while`.\n",
    "\n",
    "`for` allow us to repeat each element of an list or range. \n"
   ]
  },
  {
   "cell_type": "markdown",
   "metadata": {
    "id": "PJld-l9t_Kum"
   },
   "source": [
    "**For example:**"
   ]
  },
  {
   "cell_type": "code",
   "execution_count": null,
   "metadata": {
    "colab": {
     "base_uri": "https://localhost:8080/"
    },
    "id": "JoyFja2b7Y_J",
    "outputId": "ea378aae-4bc8-437f-93eb-de58725a4b4f"
   },
   "outputs": [
    {
     "name": "stdout",
     "output_type": "stream",
     "text": [
      "0\n",
      "1\n",
      "2\n",
      "3\n",
      "4\n"
     ]
    }
   ],
   "source": [
    "N = 5\n",
    "for i in range(N): # it goes from 0 to N-1\n",
    "    print (i)"
   ]
  },
  {
   "cell_type": "markdown",
   "metadata": {
    "id": "qqgD-FxkAEGh"
   },
   "source": [
    "On the other hand, `while` also loops but given a _condition_. \n",
    "\n",
    "```python\n",
    "while (conditional_statement):\n",
    "  # actions\n",
    "  # ...\n",
    "```\n",
    "\n",
    "While such condition is `True` all the inner statements will be executed.\n",
    "\n",
    "**Note:** Be sure that the condition will turn `False` at some point. Otherwise, the while loop will never end."
   ]
  },
  {
   "cell_type": "code",
   "execution_count": null,
   "metadata": {
    "colab": {
     "base_uri": "https://localhost:8080/"
    },
    "id": "16KDWAY6A7yf",
    "outputId": "0b50800b-b9a8-44f4-bd9d-a16937488bb2"
   },
   "outputs": [
    {
     "name": "stdout",
     "output_type": "stream",
     "text": [
      "0\n",
      "1\n",
      "2\n",
      "3\n",
      "4\n"
     ]
    }
   ],
   "source": [
    "N = 5\n",
    "i = 0\n",
    "while (i < N): # it goes from 0 to N-1\n",
    "    print(i)\n",
    "    i = i + 1"
   ]
  },
  {
   "cell_type": "markdown",
   "metadata": {
    "id": "D4D5dJWiu5ks"
   },
   "source": [
    "### 1.2.3. Exercise"
   ]
  },
  {
   "cell_type": "markdown",
   "metadata": {
    "id": "S7kQfIc9u_8E"
   },
   "source": [
    "Compute `z` as the substraction of each element of lists `x` and `y`, such that  $z_i = (x_i - y_i)^2$. Assume that input lists `x` and `y` have the same length. Finally, print each value of `z` and its index in the list.\n",
    "\n",
    "Use a repetition statement to access each element of the arrays.\n"
   ]
  },
  {
   "cell_type": "markdown",
   "metadata": {
    "id": "J9pdYIBdvUz3"
   },
   "source": [
    "_Example input_:\n",
    "```python\n",
    "x = [1,2,3,4,5]\n",
    "y = [2,2,2,2,2]\n",
    "```\n",
    "\n",
    "_Expected output_:\n",
    "```bash\n",
    "Index 0 , value: 1\n",
    "Index 1 , value: 0\n",
    "Index 2 , value: 1\n",
    "Index 3 , value: 4\n",
    "Index 4 , value: 9\n",
    "```"
   ]
  },
  {
   "cell_type": "markdown",
   "metadata": {
    "id": "xnCUurwIvGpt"
   },
   "source": [
    "**Solution**"
   ]
  },
  {
   "cell_type": "code",
   "execution_count": null,
   "metadata": {
    "id": "RySEBf4zvIpc"
   },
   "outputs": [],
   "source": [
    "# Here your code!\n",
    "\n",
    "# 1. Be sure you can generate an output as the expected one indicated above.\n",
    "\n",
    "# To compute the value of a number `x` to the power of two, you do: `x**2`. "
   ]
  },
  {
   "cell_type": "markdown",
   "metadata": {
    "id": "xvpLVmv-7Y_K"
   },
   "source": [
    "**Bonus:** \n",
    "Compute the matrix multiplication of `A = [[2,5,2],[1,0,-2],[3,1,1]]` and `B = [[-2,1,0],[-2,2,1],[0,0,3]]` and save the result in C. Then, print each row of the matrix `C`.\n",
    "\n",
    "_Example input_:\n",
    "```python\n",
    "A = [[2,5,2],[1,0,-2],[3,1,1]]\n",
    "B = [[-2,1,0],[-2,2,1],[0,0,3]]\n",
    "```\n",
    "\n",
    "_Expected output_:\n",
    "```python\n",
    "[-14, 12, 11]\n",
    "[ -2,  1, -6]\n",
    "[ -8,  5,  4]\n",
    "```\n"
   ]
  },
  {
   "cell_type": "markdown",
   "metadata": {
    "id": "IMHaOzoN0k7z"
   },
   "source": [
    "\n",
    "![](https://www.mscroggs.co.uk/img/full/multiply_matrices.gif)\n",
    "\n",
    "(_Image source: [MsCroggs.co.uk](mscroggs.co.uk)_)\n"
   ]
  },
  {
   "cell_type": "markdown",
   "metadata": {
    "id": "h9jwhW7H0rEh"
   },
   "source": [
    "**Solution**"
   ]
  },
  {
   "cell_type": "code",
   "execution_count": null,
   "metadata": {
    "id": "9QNTGx-e0rUG"
   },
   "outputs": [],
   "source": [
    "A = [[2,5,2],[1,0,-2],[3,1,1]]\n",
    "B = [[-2,1,0],[-2,2,1],[0,0,3]]"
   ]
  },
  {
   "cell_type": "code",
   "execution_count": null,
   "metadata": {
    "id": "8tev-k4i0JIh"
   },
   "outputs": [],
   "source": [
    "# Here your code!\n",
    "\n",
    "# Suggestions: Use `for` instead of the `while` statement\n",
    "# Start by defining a zero-matrix\n",
    "# Notice you have to access each element of each row of `A`\n",
    "# then, you have to access each element of each column of `B`\n",
    "# Finally, you have to access each element of the new matrix (`C`)"
   ]
  },
  {
   "cell_type": "markdown",
   "metadata": {
    "id": "0_n9Opfn7w1f"
   },
   "source": [
    "## 1.3. Functions\n"
   ]
  },
  {
   "cell_type": "markdown",
   "metadata": {
    "id": "ECa7gK-f2OTj"
   },
   "source": [
    "### 1.3.1. What's a function?\n"
   ]
  },
  {
   "cell_type": "markdown",
   "metadata": {
    "id": "7Agc_F2V20rL"
   },
   "source": [
    "+ A function is a block of code that runs when it is called. \n",
    "+ You can pass data (i.e, parameters) into a function. \n",
    "+ Functions are used to perform specific actions, and they are also known as methods.\n"
   ]
  },
  {
   "cell_type": "markdown",
   "metadata": {
    "id": "99rxe2f02oIH"
   },
   "source": [
    "### 1.3.2. Syntax"
   ]
  },
  {
   "cell_type": "markdown",
   "metadata": {
    "id": "gO5VA3JD21DG"
   },
   "source": [
    "![](https://www.learnbyexample.org/wp-content/uploads/python/Python-Function-Syntax.png)\n",
    "\n",
    "(_Image source: [LearnByExample](https://www.learnbyexample.org/python-functions/)_)"
   ]
  },
  {
   "cell_type": "markdown",
   "metadata": {
    "id": "4tEzBofg2oFQ"
   },
   "source": [
    "### 1.3.3. How to create a function?"
   ]
  },
  {
   "cell_type": "code",
   "execution_count": null,
   "metadata": {
    "id": "4XA_6PVa3ErE"
   },
   "outputs": [],
   "source": [
    "def hallo():\n",
    "  print(\"Hallo Welt!\")"
   ]
  },
  {
   "cell_type": "markdown",
   "metadata": {
    "id": "2CNtgqpl2oCj"
   },
   "source": [
    "### 1.3.4. How to call a function?"
   ]
  },
  {
   "cell_type": "code",
   "execution_count": null,
   "metadata": {
    "colab": {
     "base_uri": "https://localhost:8080/"
    },
    "id": "O3c6N9ev3Gsk",
    "outputId": "4ea0bbb3-6de4-49c8-d887-53e9ac081b19"
   },
   "outputs": [
    {
     "name": "stdout",
     "output_type": "stream",
     "text": [
      "Hallo Welt!\n"
     ]
    }
   ],
   "source": [
    "hallo()"
   ]
  },
  {
   "cell_type": "markdown",
   "metadata": {
    "id": "yr2p-VN53QJ8"
   },
   "source": [
    "A function can receive input parameters or _arguments_ to perform computations. In that case, you should add those arguments separated by commas.\n",
    "\n",
    "For example:"
   ]
  },
  {
   "cell_type": "code",
   "execution_count": null,
   "metadata": {
    "colab": {
     "base_uri": "https://localhost:8080/"
    },
    "id": "mMLPqLfh3Uk0",
    "outputId": "8a5f735c-d511-48a7-d615-6d116cdd45d8"
   },
   "outputs": [
    {
     "name": "stdout",
     "output_type": "stream",
     "text": [
      "Hallo, Eren Jäger !\n"
     ]
    }
   ],
   "source": [
    "def hallo(name, lastname):\n",
    "    print(\"Hallo,\", name, lastname, \"!\")\n",
    "\n",
    "hallo(name='Eren', lastname='Jäger')"
   ]
  },
  {
   "cell_type": "markdown",
   "metadata": {
    "id": "S8ThJm_C3YoF"
   },
   "source": [
    "If you want to allow any amount of arguments, you define a function as follows:\n"
   ]
  },
  {
   "cell_type": "code",
   "execution_count": null,
   "metadata": {
    "colab": {
     "base_uri": "https://localhost:8080/"
    },
    "id": "uN6dqGOQ3bqs",
    "outputId": "97331a60-2b21-4c49-dc75-df8902123d81"
   },
   "outputs": [
    {
     "name": "stdout",
     "output_type": "stream",
     "text": [
      "((1, 1, 3, 5, 8),)\n"
     ]
    }
   ],
   "source": [
    "def print_args(*args):\n",
    "    print(args)\n",
    "\n",
    "print_args((1,1,3,5,8))"
   ]
  },
  {
   "cell_type": "markdown",
   "metadata": {
    "id": "FjQdC4uY3fK7"
   },
   "source": [
    "Additionally, you can make it for _keyword arguments_:"
   ]
  },
  {
   "cell_type": "code",
   "execution_count": null,
   "metadata": {
    "colab": {
     "base_uri": "https://localhost:8080/"
    },
    "id": "VTs0ZP5z3hYT",
    "outputId": "fab7992c-0027-45c7-e207-82812359beaa"
   },
   "outputs": [
    {
     "name": "stdout",
     "output_type": "stream",
     "text": [
      "{'name': 'Zeke', 'lastname': 'Jäger'}\n"
     ]
    }
   ],
   "source": [
    "def print_keyword_args(**kwargs):\n",
    "    print(kwargs)\n",
    "\n",
    "print_keyword_args(name=\"Zeke\", lastname=\"Jäger\")\n"
   ]
  },
  {
   "cell_type": "markdown",
   "metadata": {
    "id": "vMTBt-bb3jx0"
   },
   "source": [
    "A function can also return values by using the `return` statement:"
   ]
  },
  {
   "cell_type": "code",
   "execution_count": null,
   "metadata": {
    "colab": {
     "base_uri": "https://localhost:8080/"
    },
    "id": "ioZ4iEH-3mXL",
    "outputId": "edc111ac-3ad1-466f-d268-d355765b7430"
   },
   "outputs": [
    {
     "name": "stdout",
     "output_type": "stream",
     "text": [
      "10\n"
     ]
    }
   ],
   "source": [
    "# It returns the sum of two values\n",
    "def my_sum(a, b):\n",
    "    return a + b\n",
    "\n",
    "x = my_sum(2, 8)\n",
    "print(x)"
   ]
  },
  {
   "cell_type": "markdown",
   "metadata": {
    "id": "ffm03r5_2n8P"
   },
   "source": [
    "### 1.3.5. Advantages of using functions"
   ]
  },
  {
   "cell_type": "markdown",
   "metadata": {
    "id": "VYSjNUAO25Ar"
   },
   "source": [
    "1. Modularity.\n",
    "2. Decomposing complex problems into simpler pieces.\n",
    "3. Reuse code, avoiding duplication.\n",
    "4. Clousure.\n",
    "5. Improving clarity."
   ]
  },
  {
   "cell_type": "markdown",
   "metadata": {
    "id": "NWUriMEvork7"
   },
   "source": [
    "### 1.3.6. Exercise\n"
   ]
  },
  {
   "cell_type": "markdown",
   "metadata": {
    "id": "Xl8LYeO13ggZ"
   },
   "source": [
    "\n",
    "1. Write a function that receives two parameters: (1) `v`, a list of numbers, and (2) `a`, an scalar. The function should return a list `y` such that `y = v*a`.\n",
    "\n",
    "> _Example input_\n",
    "> ```python\n",
    "v = [1,2,3,4,9,8,7,6,5]\n",
    "a = 10\n",
    "> ```\n",
    "> _Expected output_\n",
    "> ```python\n",
    "[10, 20, 30, 40, 90, 80, 70, 60, 50]\n",
    "```"
   ]
  },
  {
   "cell_type": "markdown",
   "metadata": {
    "id": "GJaxpR8y4Ecs"
   },
   "source": [
    "**Solution**"
   ]
  },
  {
   "cell_type": "code",
   "execution_count": null,
   "metadata": {
    "id": "-qeDyFzUWH9L"
   },
   "outputs": [],
   "source": [
    "v = [1,2,3,4,9,8,7,6,5]\n",
    "a = 10"
   ]
  },
  {
   "cell_type": "code",
   "execution_count": null,
   "metadata": {
    "id": "FpPXG7F33lKn"
   },
   "outputs": [],
   "source": [
    "# your solution here"
   ]
  },
  {
   "cell_type": "markdown",
   "metadata": {
    "id": "TiiDJOLG3iVI"
   },
   "source": [
    "**(Bonus #1)**\n",
    "\n",
    "Write a function that returns the distance, as absolute value, between every pair of components between two lists `x` and `y`. Use `abs()`. Call such function and print the result, separating each row.\n",
    "\n",
    ">_Example Input:_\n",
    "> ```python\n",
    "x=[1,2,3,4,5]; y=[1,2,3,4,5]\n",
    ">```\n",
    "> _Expected Output:_\n",
    ">```python\n",
    "[0, 1, 2, 3, 4]\n",
    "[1, 0, 1, 2, 3]\n",
    "[2, 1, 0, 1, 2]\n",
    "[3, 2, 1, 0, 1]\n",
    "[4, 3, 2, 1, 0]\n",
    ">```"
   ]
  },
  {
   "cell_type": "markdown",
   "metadata": {
    "id": "Pv6vmnNIWQ-Q"
   },
   "source": [
    "**Solution Bonus #1**"
   ]
  },
  {
   "cell_type": "code",
   "execution_count": null,
   "metadata": {
    "id": "OOfFNsjlWQ-S"
   },
   "outputs": [],
   "source": [
    "x=[1,2,3,4,5]\n",
    "y=[1,2,3,4,5]"
   ]
  },
  {
   "cell_type": "code",
   "execution_count": null,
   "metadata": {
    "id": "FqaKM1-M3lwQ"
   },
   "outputs": [],
   "source": [
    "# your solution here"
   ]
  },
  {
   "cell_type": "markdown",
   "metadata": {
    "id": "18PF46Cr3j3n"
   },
   "source": [
    "**(Bonus #2)**\n",
    "\n",
    "3. Write a function that returns the multiplication of two matrices `A` and `B` (each one represented as a list of lists). Print each row of the resulting matrix separately.\n",
    "\n",
    "> _Example Input:_\n",
    "> ```python\n",
    "A = [[1,2,3],[2,0,5],[8,0,0]]\n",
    "B = [[1,2,3],[1,2,3],[1,2,3]]\n",
    "> ```\n",
    "> _Expected Output_\n",
    "> ```python\n",
    "[6, 12, 18]\n",
    "[7, 14, 21]\n",
    "[8, 16, 24]\n",
    "> ```"
   ]
  },
  {
   "cell_type": "markdown",
   "metadata": {
    "id": "u62kePpHWhdD"
   },
   "source": [
    "**Solution Bonus #2**"
   ]
  },
  {
   "cell_type": "code",
   "execution_count": null,
   "metadata": {
    "id": "8ErRb98nWhdE"
   },
   "outputs": [],
   "source": [
    "A = [[1,2,3],[2,0,5],[8,0,0]]\n",
    "B = [[1,2,3],[1,2,3],[1,2,3]]"
   ]
  },
  {
   "cell_type": "code",
   "execution_count": null,
   "metadata": {
    "id": "dQLPdLIQ3mmS"
   },
   "outputs": [],
   "source": [
    "# your solution here"
   ]
  },
  {
   "cell_type": "markdown",
   "metadata": {
    "id": "ovOSisCiawfM"
   },
   "source": [
    "## 1.4. Decorators"
   ]
  },
  {
   "cell_type": "markdown",
   "metadata": {
    "id": "KcNIf8yF4u4E"
   },
   "source": [
    "### 1.4.1. Definition\n"
   ]
  },
  {
   "cell_type": "markdown",
   "metadata": {
    "id": "pYRyAqSuDGs7"
   },
   "source": [
    "A decorator is a function that allow us to extend the behavior of another input function (without explicitly changing it).\n",
    "\n"
   ]
  },
  {
   "cell_type": "markdown",
   "metadata": {
    "id": "kQq9jHf443H1"
   },
   "source": [
    "### 1.4.2. Example\n",
    "\n",
    "Let's consider the next function to sum to numbers `a` and `b`:"
   ]
  },
  {
   "cell_type": "code",
   "execution_count": null,
   "metadata": {
    "colab": {
     "base_uri": "https://localhost:8080/"
    },
    "id": "aCJoP4FocfGq",
    "outputId": "922e7ed5-3bd0-4419-f850-7e1b13d30aed"
   },
   "outputs": [
    {
     "name": "stdout",
     "output_type": "stream",
     "text": [
      "5\n"
     ]
    }
   ],
   "source": [
    "def add_together(a, b):\n",
    "    return a + b\n",
    "\n",
    "print(add_together(2,3))"
   ]
  },
  {
   "cell_type": "markdown",
   "metadata": {
    "id": "ZC7d9QWcDNVl"
   },
   "source": [
    "Let's try to extends its behavior and make it operate for a list of pairs (`a`,`b`)."
   ]
  },
  {
   "cell_type": "code",
   "execution_count": null,
   "metadata": {
    "id": "P3sRGK_kcfIp"
   },
   "outputs": [],
   "source": [
    "def decorator_list(func):\n",
    "    def inner(list_of_tuples):\n",
    "    l_result = []\n",
    "    for val in list_of_tuples:\n",
    "      # Note that `func` exists in this context\n",
    "      l_result.append( func(val[0],val[1]) )\n",
    "    return l_result\n",
    "    return inner\n",
    "\n",
    "@decorator_list\n",
    "def add_together(a, b):\n",
    "    return a + b"
   ]
  },
  {
   "cell_type": "code",
   "execution_count": null,
   "metadata": {
    "colab": {
     "base_uri": "https://localhost:8080/"
    },
    "id": "tzvudvOacfLE",
    "outputId": "5af5b490-f6e9-4304-888d-74689acd7125"
   },
   "outputs": [
    {
     "name": "stdout",
     "output_type": "stream",
     "text": [
      "[3, 5, 7, 9, 11, 13]\n"
     ]
    }
   ],
   "source": [
    "print(add_together([(1,2),(2,3),(3,4),(4,5),(5,6),(6,7)]))"
   ]
  },
  {
   "cell_type": "markdown",
   "metadata": {
    "id": "vPPyz8OBEbxl"
   },
   "source": [
    "As you saw, we did not need to change anything from our first function called `add_together`. Instead, we just added `@decorator_name` before its definition.\n",
    "\n",
    "This helps a lot to expand the functionalities of your functions without the need of modifying them."
   ]
  },
  {
   "cell_type": "markdown",
   "metadata": {
    "id": "3OCigvivfGX1"
   },
   "source": [
    "So, decorators are an elegant way to extend functionalities of your functoins without the need of modifying them!\n",
    "\n",
    "**(Spoiler)** We will use decorators in more detail tomorrow. It will help us to speed-up our python code 🔥!."
   ]
  },
  {
   "cell_type": "markdown",
   "metadata": {
    "id": "fFbwznee2c3Z"
   },
   "source": [
    "### 1.4.3. Exercise\n"
   ]
  },
  {
   "cell_type": "markdown",
   "metadata": {
    "id": "N4RhXjiRIEYJ"
   },
   "source": [
    "Given the function `divide` as follows:"
   ]
  },
  {
   "cell_type": "code",
   "execution_count": null,
   "metadata": {
    "id": "i4x8f-Vs5k3O"
   },
   "outputs": [],
   "source": [
    "def divide(a, b):\n",
    "    print(a/b)"
   ]
  },
  {
   "cell_type": "markdown",
   "metadata": {
    "id": "xZeB5Rv35ozV"
   },
   "source": [
    "Create a decorator called `smart_divide(func)` that receives as input the function called `divide(a,b)` and executes it only if `b` is not `0`. Otherwise, print `\"I cannot divide!\"` and `return None`.  "
   ]
  },
  {
   "cell_type": "markdown",
   "metadata": {
    "id": "0Ijk9e9pIHcq"
   },
   "source": [
    "\n",
    "### 1.4.4. Solution\n"
   ]
  },
  {
   "cell_type": "code",
   "execution_count": null,
   "metadata": {
    "id": "hnw7XZXuIGoo"
   },
   "outputs": [],
   "source": [
    "def smart_divide(func):\n",
    "    # your code here\n",
    "\n",
    "@smart_divide\n",
    "def divide(a, b):\n",
    "    print(a/b)"
   ]
  },
  {
   "cell_type": "code",
   "execution_count": null,
   "metadata": {
    "colab": {
     "base_uri": "https://localhost:8080/"
    },
    "id": "UhrgioysJP0D",
    "outputId": "4cf494ae-6c56-4c40-eade-b5d1fcd0cbef"
   },
   "outputs": [
    {
     "name": "stdout",
     "output_type": "stream",
     "text": [
      "I am going to divide 7 and 2\n",
      "3.5\n"
     ]
    }
   ],
   "source": [
    "divide(a=7, b=2)"
   ]
  },
  {
   "cell_type": "code",
   "execution_count": null,
   "metadata": {
    "colab": {
     "base_uri": "https://localhost:8080/"
    },
    "id": "lQ5YnsIZJLkC",
    "outputId": "6f052ccc-6096-4d30-a2c8-27003d7414cd"
   },
   "outputs": [
    {
     "name": "stdout",
     "output_type": "stream",
     "text": [
      "I am going to divide 7 and 0\n",
      "Whoops! cannot divide\n"
     ]
    }
   ],
   "source": [
    "divide(a=7, b=0)"
   ]
  },
  {
   "cell_type": "markdown",
   "metadata": {
    "id": "r1VMeUYoIEwB"
   },
   "source": [
    "\n",
    "---\n",
    "\n"
   ]
  },
  {
   "cell_type": "markdown",
   "metadata": {
    "id": "26NZ8rI3jaGo"
   },
   "source": [
    "## 1.5. Practical part: Python built-in functions."
   ]
  },
  {
   "cell_type": "markdown",
   "metadata": {
    "id": "UGuBEOhZj48P"
   },
   "source": [
    "### 1.5.1. Section Exercise"
   ]
  },
  {
   "cell_type": "markdown",
   "metadata": {
    "id": "0fbj40nmjhAS"
   },
   "source": [
    "**A distance measure between two vectors as lists**\n",
    "\n",
    "Create a function called `vector_distance` that receives three input parameters:\n",
    "+ `x`: a list of integers.\n",
    "+ `y`: a list of integers.\n",
    "+ `f`: a function that operates two input parameters: `a` and `b`.\n",
    "\n",
    "\n",
    "Then, `vector_distance` should return the mean distance after operating each pair of element (`a`,`b`) by the function `f`.\n",
    "\n",
    "Note: assume that `x` and `y` have the same lengths (i.e., number of elements)\n",
    "\n",
    "\n"
   ]
  },
  {
   "cell_type": "markdown",
   "metadata": {
    "id": "zqtIUU_Xhgq0"
   },
   "source": [
    "### 1.5.2. Solution"
   ]
  },
  {
   "cell_type": "code",
   "execution_count": null,
   "metadata": {
    "id": "_sdWOvukjgDp"
   },
   "outputs": [],
   "source": [
    "x = [1,2,4,8]\n",
    "y = [1,3,9,27]\n",
    "\n",
    "def abs_distance(a, b):\n",
    "    return abs(a-b)\n",
    "\n",
    "def sq_distance(a, b):\n",
    "    return (a-b)**2\n",
    "\n",
    "def inter_distance(a, b):\n",
    "    _min = min(a,b)\n",
    "    _max = max(a,b)\n",
    "    return (_max / (_min + _max))\n",
    "\n",
    "def vector_distance(x, y, f):\n",
    "    # your code here!\n",
    "    print(\"Not implemented yet!\")"
   ]
  },
  {
   "cell_type": "markdown",
   "metadata": {
    "id": "xbqUdFGvkumR"
   },
   "source": [
    "Try your implementation:"
   ]
  },
  {
   "cell_type": "code",
   "execution_count": null,
   "metadata": {
    "colab": {
     "base_uri": "https://localhost:8080/"
    },
    "id": "mBRF8I5ikuSA",
    "outputId": "6861b088-efd9-42c2-a1d3-4bf17af18d75"
   },
   "outputs": [
    {
     "name": "stdout",
     "output_type": "stream",
     "text": [
      "Not implemented yet!\n",
      "abs_distance  : None \n",
      "\n",
      "Not implemented yet!\n",
      "sq_distance   : None \n",
      "\n",
      "Not implemented yet!\n",
      "inter_distance: None \n",
      "\n"
     ]
    }
   ],
   "source": [
    "print(\"abs_distance  :\", vector_distance(x, y, abs_distance))\n",
    "print(\"sq_distance   :\", vector_distance(x, y, sq_distance))\n",
    "print(\"inter_distance:\", vector_distance(x, y, inter_distance))"
   ]
  },
  {
   "cell_type": "markdown",
   "metadata": {
    "id": "4wgCDbdYrpFl"
   },
   "source": [
    "\n",
    "**Bonus: A distance measure between two matrices as nested lists.**\n",
    "\n",
    "1. A distance function called `matrix_distance` which, instead of computing a distance `f(a,b)` receives as inputs two matrices `X` and `Y` as nested lists.\n",
    "\n",
    "2. Create a function called `matmut` to multiply two matrices `X` and `Y` (nested lists).\n",
    "\n",
    "3. Modify the previous function `matmul` to apply the function `vector_distance` instead of multiplying and sum the element of a row and a column."
   ]
  },
  {
   "cell_type": "markdown",
   "metadata": {
    "id": "vvLgpg5CmIUy"
   },
   "source": [
    "-----"
   ]
  },
  {
   "cell_type": "markdown",
   "metadata": {
    "id": "7QZiMhKa7F38"
   },
   "source": [
    "## 1.6. Python **modules**"
   ]
  },
  {
   "cell_type": "markdown",
   "metadata": {
    "id": "YxT_OKnAe25g"
   },
   "source": [
    "### 1.6.1. What is a Python module?"
   ]
  },
  {
   "cell_type": "markdown",
   "metadata": {
    "id": "QQDpo5yq6Hf1"
   },
   "source": [
    "A python module is a reusable chunk of code that you may want to include in your programs / projects.\n",
    "\n",
    "Compared to languages like C/C++, a Python libraries do not pertain to any specific context in Python. \n",
    "\n",
    "Then, a library is a collection of modules."
   ]
  },
  {
   "cell_type": "markdown",
   "metadata": {
    "id": "DyTqEUQfk-yX"
   },
   "source": [
    "### 1.6.2. Importing Python's modules"
   ]
  },
  {
   "cell_type": "markdown",
   "metadata": {
    "id": "TpEOmvLtKCGN"
   },
   "source": [
    "#### 1.6.2.1. Math Module"
   ]
  },
  {
   "cell_type": "code",
   "execution_count": null,
   "metadata": {
    "id": "qAHzMaub8_X5"
   },
   "outputs": [],
   "source": [
    "import math"
   ]
  },
  {
   "cell_type": "code",
   "execution_count": null,
   "metadata": {
    "colab": {
     "base_uri": "https://localhost:8080/"
    },
    "id": "Ue_5SXKw93kl",
    "outputId": "0cfe118d-c5b0-42d6-d3fb-65578c108ca5"
   },
   "outputs": [
    {
     "data": {
      "text/plain": [
       "-1.0"
      ]
     },
     "execution_count": 34,
     "metadata": {},
     "output_type": "execute_result"
    }
   ],
   "source": [
    "math.cos(math.pi) # -1.0"
   ]
  },
  {
   "cell_type": "code",
   "execution_count": null,
   "metadata": {
    "colab": {
     "base_uri": "https://localhost:8080/"
    },
    "id": "xFmbmyA-B8g6",
    "outputId": "1ca8ae69-845c-44e6-d75e-95ae9b25e2d1"
   },
   "outputs": [
    {
     "data": {
      "text/plain": [
       "1.2246467991473532e-16"
      ]
     },
     "execution_count": 35,
     "metadata": {},
     "output_type": "execute_result"
    }
   ],
   "source": [
    "math.sin(math.pi) #  0.0"
   ]
  },
  {
   "cell_type": "code",
   "execution_count": null,
   "metadata": {
    "colab": {
     "base_uri": "https://localhost:8080/"
    },
    "id": "o8loo5J8Cmov",
    "outputId": "ad565b1d-7510-4dc2-a115-ee041404c5e1"
   },
   "outputs": [
    {
     "name": "stdout",
     "output_type": "stream",
     "text": [
      "4\n",
      "3\n"
     ]
    }
   ],
   "source": [
    "# round a float up or down\n",
    "print( math.ceil(3.3))\n",
    "print( math.floor(3.3))"
   ]
  },
  {
   "cell_type": "markdown",
   "metadata": {
    "id": "74YkmCU8KEel"
   },
   "source": [
    "#### 1.6.2.2. Random Module"
   ]
  },
  {
   "cell_type": "code",
   "execution_count": null,
   "metadata": {
    "id": "XCIIpXUJCDN3"
   },
   "outputs": [],
   "source": [
    "import random"
   ]
  },
  {
   "cell_type": "code",
   "execution_count": null,
   "metadata": {
    "colab": {
     "base_uri": "https://localhost:8080/"
    },
    "id": "gAqV9bXh_RNa",
    "outputId": "0717977c-4404-4306-fd0a-3124f17791a0"
   },
   "outputs": [
    {
     "name": "stdout",
     "output_type": "stream",
     "text": [
      "Construct a seeded random number generator:\n",
      "0.5824475071608946\n"
     ]
    }
   ],
   "source": [
    "print(\"Construct a seeded random number generator:\")\n",
    "print(random.random())"
   ]
  },
  {
   "cell_type": "markdown",
   "metadata": {
    "id": "j8Prpb3GKGsF"
   },
   "source": [
    "#### 1.6.2.3. Time Module"
   ]
  },
  {
   "cell_type": "code",
   "execution_count": null,
   "metadata": {
    "id": "9OarX5ZkSr9c"
   },
   "outputs": [],
   "source": [
    "from time import time"
   ]
  },
  {
   "cell_type": "code",
   "execution_count": null,
   "metadata": {
    "colab": {
     "base_uri": "https://localhost:8080/"
    },
    "id": "fjX_u9hNKZMF",
    "outputId": "99b4a40a-6a30-473a-d3d3-61b2df7f7b72"
   },
   "outputs": [
    {
     "name": "stdout",
     "output_type": "stream",
     "text": [
      "Total time 0.0014522075653076172 Seconds\n"
     ]
    }
   ],
   "source": [
    "t_start = time()\n",
    "n_numbers = 10_000\n",
    "for i in range(n_numbers):\n",
    "    temp = random.random()\n",
    "t_end = time()\n",
    "total_time = time() - t_start\n",
    "print(\"Total time\", total_time, \"Seconds\")"
   ]
  },
  {
   "cell_type": "markdown",
   "metadata": {
    "id": "XbVivF-a7Rq_"
   },
   "source": [
    "Computation times usually fluctuate a lot. In order to have a better estimation we compute the mean (and standard deviation) of a vector of times.\n",
    "\n",
    "Let's see this point with an example:"
   ]
  },
  {
   "cell_type": "code",
   "execution_count": null,
   "metadata": {
    "id": "jNKfuoqU8NM4"
   },
   "outputs": [],
   "source": []
  },
  {
   "cell_type": "code",
   "execution_count": null,
   "metadata": {
    "id": "aUWFBsBSC6R6"
   },
   "outputs": [],
   "source": [
    "l_times = []\n",
    "\n",
    "# define a method to sum\n",
    "def my_sum(my_list):\n",
    "    result = 0\n",
    "    for i in range(len(my_list)):\n",
    "        result = result + my_list[i]\n",
    "    return result \n",
    "\n",
    "# generating random numbers\n",
    "random_numbers = []\n",
    "for i in range(n_numbers):\n",
    "    temp = random.random()\n",
    "    random_numbers.append( temp )\n",
    "\n",
    "# measuring time\n",
    "for i in range(10):\n",
    "    t_start = time()\n",
    "    my_sum(random_numbers)\n",
    "    total_time = time() - t_start\n",
    "    l_times.append( total_time )\n"
   ]
  },
  {
   "cell_type": "code",
   "execution_count": null,
   "metadata": {
    "colab": {
     "base_uri": "https://localhost:8080/"
    },
    "id": "FtBK3e83TGxl",
    "outputId": "79cf1288-01e0-4ddb-9fcf-ea48b34be056"
   },
   "outputs": [
    {
     "data": {
      "text/plain": [
       "[0.002279996871948242,\n",
       " 0.009655237197875977,\n",
       " 0.0012543201446533203,\n",
       " 0.0012154579162597656,\n",
       " 0.011293411254882812,\n",
       " 0.0012998580932617188,\n",
       " 0.003256082534790039,\n",
       " 0.0012285709381103516,\n",
       " 0.0011463165283203125,\n",
       " 0.0012488365173339844]"
      ]
     },
     "execution_count": 34,
     "metadata": {},
     "output_type": "execute_result"
    }
   ],
   "source": [
    "l_times"
   ]
  },
  {
   "cell_type": "code",
   "execution_count": null,
   "metadata": {
    "colab": {
     "base_uri": "https://localhost:8080/"
    },
    "id": "Lh_AhFsm7jTn",
    "outputId": "ddc2eca5-83c2-4239-fc99-fbdcd7393a1b"
   },
   "outputs": [
    {
     "name": "stdout",
     "output_type": "stream",
     "text": [
      "mean 0.0033878087997436523\n"
     ]
    }
   ],
   "source": [
    "print(\"mean\", sum(l_times)/len(l_times))"
   ]
  },
  {
   "cell_type": "markdown",
   "metadata": {
    "id": "ZrC-MXhfMCGA"
   },
   "source": [
    "#### 1.6.2.4. Exercises"
   ]
  },
  {
   "cell_type": "markdown",
   "metadata": {
    "id": "4vFGlqgQMEaR"
   },
   "source": [
    "Create function that returns a list of $n \\geq 1$ random numbers between -1 and 1.\n",
    "Validate $n$: if $n$ is less than 1, then return an empty list.\n",
    "\n",
    "**(Bonus):**\n",
    "\n",
    "Measure the time needed to compute the sum of 1000 random numbers (in seconds)."
   ]
  },
  {
   "cell_type": "markdown",
   "metadata": {
    "id": "HiN327yN-ddR"
   },
   "source": [
    "**Solution**"
   ]
  },
  {
   "cell_type": "code",
   "execution_count": null,
   "metadata": {
    "id": "UZXA6ZaWQp2X"
   },
   "outputs": [],
   "source": [
    "# your code here !"
   ]
  },
  {
   "cell_type": "markdown",
   "metadata": {
    "id": "MWqNG0jxZNkF"
   },
   "source": [
    "---"
   ]
  },
  {
   "cell_type": "markdown",
   "metadata": {
    "id": "6_wqDGsG9yv2"
   },
   "source": [
    "## 1.7. Creating Python's modules\n",
    "\n",
    "![](https://www.cognizantsoftvision.com/wp-content/uploads/2017/12/06014912/Top-10-Python-libraries-of-2016.jpg)\n",
    "\n",
    "(_Image source: Cognizant Softvision_)."
   ]
  },
  {
   "cell_type": "markdown",
   "metadata": {
    "id": "sqUisK2X_ELy"
   },
   "source": [
    "### 1.7.1. Introduction"
   ]
  },
  {
   "cell_type": "markdown",
   "metadata": {
    "id": "W7Poaa6Z_PCC"
   },
   "source": [
    "You can create your own modules and packages in Python. This will make easier to maintain and debug your code.\n",
    "\n",
    "Some of the benefits of modularizing your code are:\n",
    "+ Keeping a clear distritribution of functions you use, avoiding duplication.\n",
    "+ Sharing your code with colleagues or a community.\n",
    "+ You can show that a certain method works or an algorithm. For example: after finishing a paper, you can upload and make public the data and the code (if possible).\n",
    "+ Many others!"
   ]
  },
  {
   "cell_type": "markdown",
   "metadata": {
    "id": "yCgs9tqetu88"
   },
   "source": [
    "### 1.7.2. My first python module (Google Colab)\n",
    "\n"
   ]
  },
  {
   "cell_type": "markdown",
   "metadata": {
    "id": "mt4yjT2NQ8uN"
   },
   "source": [
    "If you have a Python file and you want to use it from another script or notebook.\n",
    "\n",
    "You can import all the functions and use it!\n",
    "\n",
    "Let's see an example:"
   ]
  },
  {
   "cell_type": "markdown",
   "metadata": {
    "id": "iW9pW2N2zQXx"
   },
   "source": [
    "#### 1.7.2.1. Creating a python module\n",
    "Follow the next steps:\n",
    "\n",
    "1. Go to \"Files\", to the right of \"Table of contents\" panel.\n",
    "2. Do right-click and select \"New file\". We will create a python file (`*.py`). Name such file as `my_python_module.py`.\n",
    "3.  Do double left-click on it. A new panel will appear in our Colab user interface. There write your own module!.\n",
    "4. We can start with the following code:\n",
    "> ```python\n",
    "> import random\n",
    ">\n",
    ">def create_random_numbers(n):\n",
    "  my_list = []\n",
    "  for i in range(n):\n",
    "    random_num = random.random()\n",
    "    random_num = (random_num*2) - 1\n",
    "    my_list.append( random_num )\n",
    "  return my_list\n",
    "> ```"
   ]
  },
  {
   "cell_type": "markdown",
   "metadata": {
    "id": "V_uMU1RZw9QG"
   },
   "source": [
    "#### 1.7.2.2. Importing my python module\n",
    "\n",
    "We can import the module as follows:"
   ]
  },
  {
   "cell_type": "code",
   "execution_count": null,
   "metadata": {
    "id": "wdsimX5-w9QI"
   },
   "outputs": [],
   "source": [
    "import my_python_module"
   ]
  },
  {
   "cell_type": "markdown",
   "metadata": {
    "id": "hJRY2grew9QJ"
   },
   "source": [
    "One way to see what is the content of your python module is by doing `dir(your_module)`."
   ]
  },
  {
   "cell_type": "code",
   "execution_count": null,
   "metadata": {
    "colab": {
     "base_uri": "https://localhost:8080/"
    },
    "id": "598Tb_Phw9QK",
    "outputId": "64d00419-b427-4ee8-8d5a-e9b18cbecfa7"
   },
   "outputs": [
    {
     "data": {
      "text/plain": [
       "['__builtins__',\n",
       " '__cached__',\n",
       " '__doc__',\n",
       " '__file__',\n",
       " '__loader__',\n",
       " '__name__',\n",
       " '__package__',\n",
       " '__spec__',\n",
       " 'create_random_numbers',\n",
       " 'random']"
      ]
     },
     "execution_count": 4,
     "metadata": {},
     "output_type": "execute_result"
    }
   ],
   "source": [
    "dir(my_python_module)"
   ]
  },
  {
   "cell_type": "markdown",
   "metadata": {
    "id": "rX31Okesw9QL"
   },
   "source": [
    "Let's use the function of `my_python_lib`"
   ]
  },
  {
   "cell_type": "code",
   "execution_count": null,
   "metadata": {
    "id": "Dyw1hhA-xR0B"
   },
   "outputs": [],
   "source": [
    "n_random_numbers = 50\n",
    "random_numbers = my_python_module.create_random_numbers(n_random_numbers)"
   ]
  },
  {
   "cell_type": "markdown",
   "metadata": {
    "id": "uyhE2HEJwM9R"
   },
   "source": [
    "That's it! ✨.\n",
    "\n",
    "By using modules, we can make our analysis more robust as we are leveraging existing code. When we create our own modules, we can publish them and helps ourselves and other programmers/scientists to use them in furture analyses 😀. "
   ]
  },
  {
   "cell_type": "markdown",
   "metadata": {
    "id": "oVLcpJrEyUNJ"
   },
   "source": [
    "#### 1.7.2.3. Exercise\n",
    "\n",
    "Add and test the following function into your module called `my_python_module`:\n",
    "\n",
    "```python\n",
    "def add_together(a, b):\n",
    "  return a + b\n",
    "```"
   ]
  },
  {
   "cell_type": "markdown",
   "metadata": {
    "id": "pPvTVZoOy_Hs"
   },
   "source": [
    "#### 1.7.2.4. Solution"
   ]
  },
  {
   "cell_type": "code",
   "execution_count": null,
   "metadata": {
    "id": "mHoPQLAXy-qy"
   },
   "outputs": [],
   "source": [
    "# your code here :)"
   ]
  },
  {
   "cell_type": "markdown",
   "metadata": {
    "id": "M9p0XDntkErv"
   },
   "source": [
    "---"
   ]
  },
  {
   "cell_type": "markdown",
   "metadata": {
    "id": "bN8iNUpfksXL"
   },
   "source": [
    "# Section 2: Scientific Computing with Python"
   ]
  },
  {
   "cell_type": "markdown",
   "metadata": {
    "id": "8L1N11obj1ym"
   },
   "source": [
    "## 2.1. Introduction to Scientific Computing\n",
    "\n"
   ]
  },
  {
   "cell_type": "markdown",
   "metadata": {
    "id": "8qWUylSyj7D0"
   },
   "source": [
    "![](imgs/slides_d1/081.PNG)"
   ]
  },
  {
   "cell_type": "markdown",
   "metadata": {},
   "source": [
    "### 2.1.1. Preprocessing"
   ]
  },
  {
   "cell_type": "markdown",
   "metadata": {},
   "source": [
    "![](imgs/slides_d1/083.PNG)"
   ]
  },
  {
   "cell_type": "markdown",
   "metadata": {},
   "source": [
    "### 2.1.2. Data Analysis"
   ]
  },
  {
   "cell_type": "markdown",
   "metadata": {},
   "source": [
    "![](imgs/slides_d1/084.PNG)"
   ]
  },
  {
   "cell_type": "markdown",
   "metadata": {},
   "source": [
    "### 2.1.3. Visualization"
   ]
  },
  {
   "cell_type": "markdown",
   "metadata": {},
   "source": [
    "![](imgs/slides_d1/085.PNG)"
   ]
  },
  {
   "cell_type": "markdown",
   "metadata": {
    "id": "PworPof12ROO"
   },
   "source": [
    "## 2.1. Python libraries for scientific computing: Numpy, Scipy, and Matplotlib "
   ]
  },
  {
   "cell_type": "markdown",
   "metadata": {
    "id": "NR76RXfA2s0Y"
   },
   "source": [
    "### 2.1.1. NumPy"
   ]
  },
  {
   "cell_type": "markdown",
   "metadata": {},
   "source": [
    "### 2.1.1.1. Introduction\n",
    "\n",
    "NumPy (**Num**erical **Py**thon) is a scientific computing package. It provides functions to do linear algebra, matrix computations, and speeds up data analysis."
   ]
  },
  {
   "cell_type": "markdown",
   "metadata": {},
   "source": [
    "![](imgs/slides_d1/086.PNG)"
   ]
  },
  {
   "cell_type": "markdown",
   "metadata": {},
   "source": [
    "### 2.1.1.2. Main features"
   ]
  },
  {
   "cell_type": "markdown",
   "metadata": {},
   "source": [
    "![](imgs/slides_d1/091.PNG)"
   ]
  },
  {
   "cell_type": "markdown",
   "metadata": {
    "id": "QA28fH-c3T8g"
   },
   "source": [
    "#### 2.1.1.1. How to use NumPy?"
   ]
  },
  {
   "cell_type": "markdown",
   "metadata": {
    "id": "3mfuT3Mk3SSY"
   },
   "source": [
    "We need to import numpy as follows:"
   ]
  },
  {
   "cell_type": "code",
   "execution_count": null,
   "metadata": {
    "colab": {
     "base_uri": "https://localhost:8080/"
    },
    "id": "T7qpUf2x3ZBB",
    "outputId": "c3a3326e-c040-44f6-db2b-52f60c166d38"
   },
   "outputs": [
    {
     "name": "stdout",
     "output_type": "stream",
     "text": [
      "1.21.6\n"
     ]
    }
   ],
   "source": [
    "import numpy as np\n",
    "print(np.__version__) # it shows our numpy version"
   ]
  },
  {
   "cell_type": "markdown",
   "metadata": {
    "id": "xrDhUGuQ3iqI"
   },
   "source": [
    "Here we added an alias just to simplify the way we call each function (i.e, `np.function_name()` instead of `numpy.function_name()`)."
   ]
  },
  {
   "cell_type": "markdown",
   "metadata": {
    "id": "v-cs_i2N3m-R"
   },
   "source": [
    "#### 2.1.1.2 Basic operations"
   ]
  },
  {
   "cell_type": "markdown",
   "metadata": {
    "id": "pPWTL5U33tEZ"
   },
   "source": [
    "Starting from the basics, how we create an array? We specified a Python list as the input parameter:"
   ]
  },
  {
   "cell_type": "code",
   "execution_count": null,
   "metadata": {
    "colab": {
     "base_uri": "https://localhost:8080/"
    },
    "id": "JnpHKgHo2K31",
    "outputId": "84b8cda7-e3a2-43a9-a576-7d1cae4068cb"
   },
   "outputs": [
    {
     "name": "stdout",
     "output_type": "stream",
     "text": [
      "[1 4 7]\n",
      "<class 'numpy.ndarray'>\n"
     ]
    }
   ],
   "source": [
    "# creating arrays\n",
    "a = np.array([1,4,7])\n",
    "print(a)\n",
    "print(type(a))"
   ]
  },
  {
   "cell_type": "markdown",
   "metadata": {
    "id": "v-vnYhJL4Br6"
   },
   "source": [
    "Now `a` is an instance of the class `ndarray` (N-dimensional array). In this case, it is a 1D array. \n",
    "\n",
    "We can also create 2D arrays or with even higher dimensions:"
   ]
  },
  {
   "cell_type": "code",
   "execution_count": null,
   "metadata": {
    "colab": {
     "base_uri": "https://localhost:8080/"
    },
    "id": "NHIrFkJA3zm6",
    "outputId": "d87cc786-7f03-4335-c460-631149c81857"
   },
   "outputs": [
    {
     "name": "stdout",
     "output_type": "stream",
     "text": [
      "[[1 2 3]\n",
      " [4 6 8]]\n",
      "<class 'numpy.ndarray'>\n"
     ]
    }
   ],
   "source": [
    "b = np.array([[1,2,3],[4,6,8]])\n",
    "print(b)\n",
    "print(type(b))"
   ]
  },
  {
   "cell_type": "markdown",
   "metadata": {
    "id": "vCKaD_qq4Q6y"
   },
   "source": [
    "**Inspecting your array**"
   ]
  },
  {
   "cell_type": "markdown",
   "metadata": {
    "id": "8Vihq-A74ULB"
   },
   "source": [
    "We can use some _attributes_ of our array as follows:"
   ]
  },
  {
   "cell_type": "code",
   "execution_count": null,
   "metadata": {
    "colab": {
     "base_uri": "https://localhost:8080/"
    },
    "id": "rZCD-4mb4GrG",
    "outputId": "e3529cf2-45a2-4666-e580-1b84fe871281"
   },
   "outputs": [
    {
     "name": "stdout",
     "output_type": "stream",
     "text": [
      "[1 4 7]\n",
      "array dimensions            (3,)\n",
      "length of array             3\n",
      "number of array dimensions  1\n",
      "number of array elements    3\n",
      "Data type of array elements int64\n"
     ]
    }
   ],
   "source": [
    "print(a)\n",
    "print(\"array dimensions           \", a.shape) \n",
    "print(\"length of array            \", len(a) ) \n",
    "print(\"number of array dimensions \", a.ndim )\n",
    "print(\"number of array elements   \", a.size )\n",
    "print(\"Data type of array elements\", a.dtype)"
   ]
  },
  {
   "cell_type": "markdown",
   "metadata": {
    "id": "wNCHOfLHQsb9"
   },
   "source": [
    "**Copying Arrays**"
   ]
  },
  {
   "cell_type": "code",
   "execution_count": null,
   "metadata": {
    "colab": {
     "base_uri": "https://localhost:8080/"
    },
    "id": "nL0vPnr4Qsb-",
    "outputId": "8038a553-0284-4132-c871-766f72a0bc5d"
   },
   "outputs": [
    {
     "name": "stdout",
     "output_type": "stream",
     "text": [
      "h     : [1 4 7]\n",
      "h     : [2 5 8]\n",
      "a     : [2 5 8]\n",
      "a_copy: [1 4 7]\n"
     ]
    }
   ],
   "source": [
    "# aggregate functions\n",
    "h      = a.view()   # create a view of the array with the same data\n",
    "a_copy = np.copy(a) # create a copy of the array\n",
    "print (\"h     :\", h)\n",
    "h += 1\n",
    "print (\"h     :\", h)\n",
    "print (\"a     :\", a) # we modified the array by operating the view `h`\n",
    "print (\"a_copy:\", a_copy)"
   ]
  },
  {
   "cell_type": "markdown",
   "metadata": {
    "id": "SQA32E3W4--b"
   },
   "source": [
    "Note: Be sure of copying an array in case you want a copy of it. If you do `new_array = old_array`, `old_array` will be modified after any operation you do over `new_array`."
   ]
  },
  {
   "cell_type": "markdown",
   "metadata": {
    "id": "dEDgIARi4uQC"
   },
   "source": [
    "**Aggregate functions**"
   ]
  },
  {
   "cell_type": "code",
   "execution_count": null,
   "metadata": {
    "colab": {
     "base_uri": "https://localhost:8080/"
    },
    "id": "ajwQY4wo4WPa",
    "outputId": "74823075-5c09-4fb2-a99c-712a3a4e9681"
   },
   "outputs": [
    {
     "name": "stdout",
     "output_type": "stream",
     "text": [
      "Array-wise sum           : 12\n",
      "Array-wise minimum value : 1\n",
      "Array-wise maximum value : 7\n",
      "Array-wise cumulative sum: [ 1  5 12]\n",
      "Array-wise mean          : 4.0\n",
      "Array-wise median        : 4.0\n",
      "Array-wise std           : 2.449489742783178\n"
     ]
    }
   ],
   "source": [
    "# aggregate functions\n",
    "print (\"Array-wise sum           :\", np.sum(a))\n",
    "print (\"Array-wise minimum value :\", np.min(a))\n",
    "print (\"Array-wise maximum value :\", np.max(a))\n",
    "print (\"Array-wise cumulative sum:\", np.cumsum(a))\n",
    "print (\"Array-wise mean          :\", np.mean(a))\n",
    "print (\"Array-wise median        :\", np.median(a))\n",
    "print (\"Array-wise std           :\", np.std(a))"
   ]
  },
  {
   "cell_type": "markdown",
   "metadata": {
    "id": "m_O9Ch2qSmoy"
   },
   "source": [
    "**Sorting Arrays**"
   ]
  },
  {
   "cell_type": "code",
   "execution_count": null,
   "metadata": {
    "colab": {
     "base_uri": "https://localhost:8080/"
    },
    "id": "W0REIxEtSmoz",
    "outputId": "fcf4fb89-42f6-45b7-c146-299085a506cb"
   },
   "outputs": [
    {
     "name": "stdout",
     "output_type": "stream",
     "text": [
      "[6 1 4 3 5 2 7]\n",
      "[1 2 3 4 5 6 7]\n"
     ]
    }
   ],
   "source": [
    "x = np.array([6,1,4,3,5,2,7])\n",
    "print(x)\n",
    "x = np.sort(x)\n",
    "print(x)"
   ]
  },
  {
   "cell_type": "code",
   "execution_count": null,
   "metadata": {
    "colab": {
     "base_uri": "https://localhost:8080/"
    },
    "id": "h_6HN9AFTk0l",
    "outputId": "211473a6-1ee9-469a-be6a-5d2b72b221e5"
   },
   "outputs": [
    {
     "name": "stdout",
     "output_type": "stream",
     "text": [
      "x\n",
      " [[6 1 4 3 5 2 7]\n",
      " [4 1 3 2 1 4 3]]\n",
      "sort (axis=0)\n",
      " [[4 1 3 2 1 2 3]\n",
      " [6 1 4 3 5 4 7]]\n",
      "sort (axis=1)\n",
      " [[1 2 3 4 5 6 7]\n",
      " [1 1 2 3 3 4 4]]\n"
     ]
    }
   ],
   "source": [
    "x = np.array([[6,1,4,3,5,2,7],[4,1,3,2,1,4,3]])\n",
    "print (\"x\\n\", x)\n",
    "\n",
    "x = np.sort(x, axis=0)\n",
    "print (\"sort (axis=0)\\n\", x)\n",
    "\n",
    "x = np.array([[6,1,4,3,5,2,7],[4,1,3,2,1,4,3]])\n",
    "x = np.sort(x, axis=1)\n",
    "print (\"sort (axis=1)\\n\", x)"
   ]
  },
  {
   "cell_type": "markdown",
   "metadata": {
    "id": "ihxBivtdbKF7"
   },
   "source": [
    "**Slicing**"
   ]
  },
  {
   "cell_type": "code",
   "execution_count": null,
   "metadata": {
    "colab": {
     "base_uri": "https://localhost:8080/"
    },
    "id": "dUpRaMkObKF8",
    "outputId": "b32407ad-83d0-4f91-f703-e4cd59109423"
   },
   "outputs": [
    {
     "name": "stdout",
     "output_type": "stream",
     "text": [
      "a       [8 4 7 9 1 5 2 3]\n",
      "a[0]    8\n",
      "a[2]    7\n",
      "a[-1]   3\n",
      "a[::-1] [3 2 5 1 9 7 4 8]\n",
      "a[::2]  [8 7 1 2]\n",
      "a[::-2] [3 5 9 4]\n",
      "a[1:4]  [4 7 9]\n"
     ]
    }
   ],
   "source": [
    "a = np.array([8,4,7,9,1,5,2,3])\n",
    "\n",
    "# subsetting\n",
    "print (\"a      \", a   )\n",
    "print (\"a[0]   \", a[0])\n",
    "print (\"a[2]   \", a[2])\n",
    "print (\"a[-1]  \", a[-1])\n",
    "\n",
    "# slicing\n",
    "print (\"a[::-1]\", a[::-1])\n",
    "print (\"a[::2] \", a[::2])\n",
    "print (\"a[::-2]\", a[::-2])\n",
    "print (\"a[1:4] \", a[1:4])"
   ]
  },
  {
   "cell_type": "code",
   "execution_count": null,
   "metadata": {
    "colab": {
     "base_uri": "https://localhost:8080/"
    },
    "id": "PPb9f8R8fuoy",
    "outputId": "c2b42d1f-f755-44c7-fe8a-fdb005b4bf7e"
   },
   "outputs": [
    {
     "name": "stdout",
     "output_type": "stream",
     "text": [
      "b\n",
      "  [[8 4 7 9 1 5 2 3]\n",
      " [3 4 5 3 4 5 1 2]]\n",
      "b[0,1:4]  [4 7 9]\n",
      "b[1,1:4]  [4 5 3]\n"
     ]
    }
   ],
   "source": [
    "b = np.array([[8,4,7,9,1,5,2,3],[3,4,5,3,4,5,1,2]])\n",
    "print (\"b\\n \", b   )\n",
    "print (\"b[0,1:4] \", b[0,1:4])\n",
    "print (\"b[1,1:4] \", b[1,1:4])"
   ]
  },
  {
   "cell_type": "code",
   "execution_count": null,
   "metadata": {
    "colab": {
     "base_uri": "https://localhost:8080/"
    },
    "id": "CUdeoFewiMnq",
    "outputId": "c478bd14-82d4-4d72-d31e-fec4afe23053"
   },
   "outputs": [
    {
     "name": "stdout",
     "output_type": "stream",
     "text": [
      "b[b < 5]\n",
      "  [4 1 2 3]\n",
      "b[b < 5]\n",
      "  [3 4 3 4 1 2]\n",
      "b[b < 5]\n",
      "  [4 1 2 3 3 4 3 4 1 2]\n"
     ]
    }
   ],
   "source": [
    "# boolean indexing\n",
    "b = np.array([[8,4,7,9,1,5,2,3],[3,4,5,3,4,5,1,2]])\n",
    "bool_indices = b < 5\n",
    "print (\"b[b < 5]\\n \", b[0][bool_indices[0]]   )\n",
    "print (\"b[b < 5]\\n \", b[1][bool_indices[1]]   )\n",
    "print (\"b[b < 5]\\n \", b[bool_indices]   )"
   ]
  },
  {
   "cell_type": "markdown",
   "metadata": {
    "id": "r2_wRHth56Mk"
   },
   "source": [
    "#### 2.1.1.3 Measuring speed-up!"
   ]
  },
  {
   "cell_type": "code",
   "execution_count": null,
   "metadata": {
    "colab": {
     "base_uri": "https://localhost:8080/"
    },
    "id": "7kLVYBpwsokt",
    "outputId": "fe155c5b-2ca3-4502-e662-0b59bd451ea0"
   },
   "outputs": [
    {
     "name": "stdout",
     "output_type": "stream",
     "text": [
      "a_py [2, 6, 7, 1, 6, 2, 0, 2, 0, 3, 4, 2, 9, 3, 4, 7, 5, 8, 1, 8, 3, 5, 2, 1, 1, 3, 0, 7, 4, 8]\n",
      "b_py 10\n"
     ]
    }
   ],
   "source": [
    "a_py = [2, 6, 7, 1, 6, 2, 0, 2, 0, 3, 4, 2, 9, 3, 4, 7, 5, 8, 1, 8, 3, 5, 2, 1, 1, 3, 0, 7, 4, 8]\n",
    "b_py = 10\n",
    "print (\"a_py\", a_py)\n",
    "print (\"b_py\", b_py)"
   ]
  },
  {
   "cell_type": "markdown",
   "metadata": {
    "id": "wl62_H-W2seU"
   },
   "source": [
    "In this case, we have a Python list called `a_py` and an scalar (integer) `b_py = 2`.\n",
    "\n",
    "If we want to multiply each element of the list, then we need to access each element in a loop (e.g., `while`, `for`)."
   ]
  },
  {
   "cell_type": "code",
   "execution_count": null,
   "metadata": {
    "colab": {
     "base_uri": "https://localhost:8080/"
    },
    "id": "knVyzsZUuGUX",
    "outputId": "3f1a3ea4-c1cd-409b-cb4d-e62bfd73ba29"
   },
   "outputs": [
    {
     "name": "stdout",
     "output_type": "stream",
     "text": [
      "[20, 60, 70, 10, 60, 20, 0, 20, 0, 30, 40, 20, 90, 30, 40, 70, 50, 80, 10, 80, 30, 50, 20, 10, 10, 30, 0, 70, 40, 80]\n"
     ]
    }
   ],
   "source": [
    "def py_multiply(a, b):\n",
    "  c = [] # creating empty list `c`\n",
    "\n",
    "  # we will go throught each element of the lists `a` and compute c = a * b\n",
    "  for i in range(len(a)):\n",
    "    c.append(a[i]*b)\n",
    "  \n",
    "  return c\n",
    "\n",
    "print(py_multiply(a_py, b_py))"
   ]
  },
  {
   "cell_type": "markdown",
   "metadata": {
    "id": "juEFRJPQ7abR"
   },
   "source": [
    "Now, let's convert a list into an array and multiply `a` and `b`. "
   ]
  },
  {
   "cell_type": "code",
   "execution_count": null,
   "metadata": {
    "id": "vAWv6DfmuGaX"
   },
   "outputs": [],
   "source": [
    "# creating arrays\n",
    "a = np.array(a_py) # <class 'numpy.ndarray'>"
   ]
  },
  {
   "cell_type": "code",
   "execution_count": null,
   "metadata": {
    "colab": {
     "base_uri": "https://localhost:8080/"
    },
    "id": "P_vl5IRrwOMr",
    "outputId": "7f7bcb97-5de2-4567-a70b-57b20b32210c"
   },
   "outputs": [
    {
     "name": "stdout",
     "output_type": "stream",
     "text": [
      "[20 60 70 10 60 20  0 20  0 30 40 20 90 30 40 70 50 80 10 80 30 50 20 10\n",
      " 10 30  0 70 40 80]\n"
     ]
    }
   ],
   "source": [
    "c = a * b_py\n",
    "print(c)"
   ]
  },
  {
   "cell_type": "markdown",
   "metadata": {
    "id": "pmMfvupCNpnx"
   },
   "source": [
    "Did we improve the performance of such computation?"
   ]
  },
  {
   "cell_type": "code",
   "execution_count": null,
   "metadata": {
    "colab": {
     "base_uri": "https://localhost:8080/"
    },
    "id": "hONqyuncNta1",
    "outputId": "fc16cf4a-de07-4fe2-f317-b93246cb865a"
   },
   "outputs": [
    {
     "name": "stdout",
     "output_type": "stream",
     "text": [
      "The slowest run took 12.56 times longer than the fastest. This could mean that an intermediate result is being cached.\n",
      "100000 loops, best of 5: 5.16 µs per loop\n"
     ]
    }
   ],
   "source": [
    "%timeit py_multiply(a, b) "
   ]
  },
  {
   "cell_type": "code",
   "execution_count": null,
   "metadata": {
    "colab": {
     "base_uri": "https://localhost:8080/"
    },
    "id": "5BQTVQHENtVQ",
    "outputId": "478535bc-492d-4573-c4cf-b6f6a2853063"
   },
   "outputs": [
    {
     "name": "stdout",
     "output_type": "stream",
     "text": [
      "The slowest run took 63.06 times longer than the fastest. This could mean that an intermediate result is being cached.\n",
      "1000000 loops, best of 5: 775 ns per loop\n"
     ]
    }
   ],
   "source": [
    "%timeit a*b_py"
   ]
  },
  {
   "cell_type": "markdown",
   "metadata": {
    "id": "xMC0PMYVF7Ps"
   },
   "source": [
    "As you can see, here we improved the performance by avoiding any `for` loops in our code. \n",
    "\n",
    "That happened because Numpy is optimized to operates with matrix and N-dimensional arrays. \n",
    "\n"
   ]
  },
  {
   "cell_type": "markdown",
   "metadata": {
    "id": "O5-Qdqay5Lq8"
   },
   "source": [
    "#### 2.1.1.3 Advanced features\n",
    "\n",
    "\n"
   ]
  },
  {
   "cell_type": "markdown",
   "metadata": {},
   "source": [
    "![](imgs/slides_d1/097.PNG)"
   ]
  },
  {
   "cell_type": "markdown",
   "metadata": {
    "id": "NasbZ-W5irgH"
   },
   "source": [
    "##### 2.1.1.3.1 Broadcasting"
   ]
  },
  {
   "cell_type": "code",
   "execution_count": null,
   "metadata": {
    "colab": {
     "base_uri": "https://localhost:8080/"
    },
    "id": "vwruSi5lzimE",
    "outputId": "03a54a39-48a5-42b6-fde1-17659796a3b5"
   },
   "outputs": [
    {
     "name": "stdout",
     "output_type": "stream",
     "text": [
      "[[[ 0  1  2]\n",
      "  [ 3  4  5]\n",
      "  [ 6  7  8]\n",
      "  [ 9 10 11]]\n",
      "\n",
      " [[12 13 14]\n",
      "  [15 16 17]\n",
      "  [18 19 20]\n",
      "  [21 22 23]]\n",
      "\n",
      " [[24 25 26]\n",
      "  [27 28 29]\n",
      "  [30 31 32]\n",
      "  [33 34 35]]]\n"
     ]
    }
   ],
   "source": [
    "A = np.arange(0, 36, 1, dtype=int).reshape(3,4,3)\n",
    "print(A)"
   ]
  },
  {
   "cell_type": "markdown",
   "metadata": {
    "id": "uYH1aIzOyhuB"
   },
   "source": [
    "<img src=\"https://files.realpython.com/media/arr3d.7442cd4e11c6.jpg\" alt=\"drawing\" width=\"500\"/>\n",
    "\n",
    "(_Image source: [RealPython.com](https://realpython.com/numpy-array-programming/)_)"
   ]
  },
  {
   "cell_type": "code",
   "execution_count": null,
   "metadata": {
    "colab": {
     "base_uri": "https://localhost:8080/"
    },
    "id": "OCVVDggb1Erd",
    "outputId": "c2abc371-ae58-4996-ebc6-4637762e486c"
   },
   "outputs": [
    {
     "name": "stdout",
     "output_type": "stream",
     "text": [
      "[[[  0   3   6]\n",
      "  [  9  12  15]\n",
      "  [ 18  21  24]\n",
      "  [ 27  30  33]]\n",
      "\n",
      " [[ 36  39  42]\n",
      "  [ 45  48  51]\n",
      "  [ 54  57  60]\n",
      "  [ 63  66  69]]\n",
      "\n",
      " [[ 72  75  78]\n",
      "  [ 81  84  87]\n",
      "  [ 90  93  96]\n",
      "  [ 99 102 105]]]\n"
     ]
    }
   ],
   "source": [
    "b = 3\n",
    "\n",
    "print(A*b)"
   ]
  },
  {
   "cell_type": "markdown",
   "metadata": {
    "id": "mCfyZOHd6SIe"
   },
   "source": [
    "----"
   ]
  },
  {
   "cell_type": "markdown",
   "metadata": {
    "id": "adwX8vOkQTTI"
   },
   "source": [
    "##### 2.1.1.3.2 Indexing"
   ]
  },
  {
   "cell_type": "markdown",
   "metadata": {
    "id": "-6U_d2x4REpj"
   },
   "source": [
    "**np.non-zero(`my_array`)**"
   ]
  },
  {
   "cell_type": "code",
   "execution_count": null,
   "metadata": {
    "colab": {
     "base_uri": "https://localhost:8080/"
    },
    "id": "jUtuA_Y9QndU",
    "outputId": "be965d03-77ec-4069-b59d-f34eb794829c"
   },
   "outputs": [
    {
     "name": "stdout",
     "output_type": "stream",
     "text": [
      "[0 7 1 2 6 8 1 9 2 8 8 7 4 6 8 0 3 2 1 8 3 0 2 3 9 1 2 5 3 5 1 1 5 9 7 3 9\n",
      " 9 7 4 4 1 8 0 7 1 2 5 9 7]\n"
     ]
    }
   ],
   "source": [
    "A = np.random.randint(10, size=50)\n",
    "print(A)"
   ]
  },
  {
   "cell_type": "code",
   "execution_count": null,
   "metadata": {
    "id": "uj3fFxrDQl0G"
   },
   "outputs": [],
   "source": [
    "sel_index = np.nonzero(A)[0]"
   ]
  },
  {
   "cell_type": "code",
   "execution_count": null,
   "metadata": {
    "colab": {
     "base_uri": "https://localhost:8080/"
    },
    "id": "5-DDzeTUQ_ws",
    "outputId": "9ed565f4-1813-4c04-e995-787bfdfe3406"
   },
   "outputs": [
    {
     "data": {
      "text/plain": [
       "array([7, 1, 2, 6, 8, 1, 9, 2, 8, 8, 7, 4, 6, 8, 3, 2, 1, 8, 3, 2, 3, 9,\n",
       "       1, 2, 5, 3, 5, 1, 1, 5, 9, 7, 3, 9, 9, 7, 4, 4, 1, 8, 7, 1, 2, 5,\n",
       "       9, 7])"
      ]
     },
     "execution_count": 38,
     "metadata": {},
     "output_type": "execute_result"
    }
   ],
   "source": [
    "A[sel_index]"
   ]
  },
  {
   "cell_type": "markdown",
   "metadata": {
    "id": "TXVgm9vcR28X"
   },
   "source": [
    "**np.where(`condition`)**"
   ]
  },
  {
   "cell_type": "code",
   "execution_count": null,
   "metadata": {
    "id": "_lO4BpJxSElv"
   },
   "outputs": [],
   "source": [
    "sel_index = np.where(A < 5)[0]"
   ]
  },
  {
   "cell_type": "code",
   "execution_count": null,
   "metadata": {
    "colab": {
     "base_uri": "https://localhost:8080/"
    },
    "id": "ohmB3bewSVqC",
    "outputId": "8ad6ca63-baa6-40b2-ab3d-e189d16317b9"
   },
   "outputs": [
    {
     "data": {
      "text/plain": [
       "array([0, 1, 2, 1, 2, 4, 0, 3, 2, 1, 3, 0, 2, 3, 1, 2, 3, 1, 1, 3, 4, 4,\n",
       "       1, 0, 1, 2])"
      ]
     },
     "execution_count": 45,
     "metadata": {},
     "output_type": "execute_result"
    }
   ],
   "source": [
    "A[sel_index]"
   ]
  },
  {
   "cell_type": "markdown",
   "metadata": {
    "id": "GhN8WIFYSiAO"
   },
   "source": [
    "Note: `A < 5` is an array of booleans!"
   ]
  },
  {
   "cell_type": "markdown",
   "metadata": {
    "id": "J7lL2uVpRmvo"
   },
   "source": [
    "You can find the full list of functions [here!](https://numpy.org/doc/stable/reference/arrays.indexing.html)."
   ]
  },
  {
   "cell_type": "markdown",
   "metadata": {
    "id": "b4_gULVgjM8L"
   },
   "source": [
    "##### 2.1.1.3.3 Vectorization\n",
    "\n",
    "Vectorization, also known as \"_Array Programming_\", allow us to **express operations in terms of entire arrays** rather than individual elements.\n",
    "\n",
    "This is another way to improve the speed-up of your code.\n",
    "\n",
    "There is a concise definition:\n",
    "\n",
    "> \"_This practice of replacing explicit loops with array expressions is commonly referred to as vectorization. In general, vectorized array operations will often be one or two (or more) orders of magnitude faster than their pure Python equivalents, with the biggest impact [seen] in any kind of numerical computations.\"_, Wes McKinney.\n",
    "\n",
    "So here we want to replace explicit `for`-loops with array expressions, and use Numpy's low-level functions for computing.\n",
    "\n",
    "How we do that? It depends of the problem we want to solve."
   ]
  },
  {
   "cell_type": "markdown",
   "metadata": {
    "id": "pSFPYjvStCAX"
   },
   "source": [
    "Let's see an Example:\n",
    "\n",
    "Imagine that you have a binary signal (1s and 0s, integers) and need to count the amount of transitions from 0 to 1.\n",
    "\n"
   ]
  },
  {
   "cell_type": "code",
   "execution_count": null,
   "metadata": {
    "id": "AfPwuaMbTftx"
   },
   "outputs": [],
   "source": [
    "# generating data\n",
    "x = np.random.randint(2, size=10_000, dtype=int) #np.random.choice([False, True], size=100000) "
   ]
  },
  {
   "cell_type": "markdown",
   "metadata": {
    "id": "rzGTYE1sxCTF"
   },
   "source": [
    "Then, we can define a function `count_transitions_py(x)` that computes from a binary array the amount of transitions from False to True."
   ]
  },
  {
   "cell_type": "code",
   "execution_count": null,
   "metadata": {
    "id": "bv8jx4wCtVSM"
   },
   "outputs": [],
   "source": [
    "def count_transitions_py(x):\n",
    "    count = 0\n",
    "    for i in range(1,len(x)):\n",
    "    if (x[i-1] == 0 and x[i] == 1):\n",
    "    #if (x[i-1] == True and x[i]==False)# or (x[i-1] == False and x[i] == True):\n",
    "      count = count + 1\n",
    "    return count"
   ]
  },
  {
   "cell_type": "code",
   "execution_count": null,
   "metadata": {
    "colab": {
     "base_uri": "https://localhost:8080/"
    },
    "id": "lk-vfI8judka",
    "outputId": "3f4c19dc-407d-46df-fd78-1d47b37fe8a6"
   },
   "outputs": [
    {
     "data": {
      "text/plain": [
       "2505"
      ]
     },
     "execution_count": 88,
     "metadata": {},
     "output_type": "execute_result"
    }
   ],
   "source": [
    "count_transitions_py(x)"
   ]
  },
  {
   "cell_type": "markdown",
   "metadata": {},
   "source": [
    "Another way to solve it is by thinking in terms of arrays:"
   ]
  },
  {
   "cell_type": "markdown",
   "metadata": {},
   "source": [
    "![](imgs/slides_d1/095.PNG)"
   ]
  },
  {
   "cell_type": "markdown",
   "metadata": {},
   "source": [
    "Then,"
   ]
  },
  {
   "cell_type": "code",
   "execution_count": null,
   "metadata": {
    "colab": {
     "base_uri": "https://localhost:8080/"
    },
    "id": "SJmYQuQSuRTP",
    "outputId": "1e1c3317-671f-4b99-a488-d3ead6b916ad"
   },
   "outputs": [
    {
     "data": {
      "text/plain": [
       "2505"
      ]
     },
     "execution_count": 95,
     "metadata": {},
     "output_type": "execute_result"
    }
   ],
   "source": [
    "np.sum((x[1:]==1) & (x[:-1]==0))"
   ]
  },
  {
   "cell_type": "code",
   "execution_count": null,
   "metadata": {
    "colab": {
     "base_uri": "https://localhost:8080/"
    },
    "id": "Z5Nd5drrvUA3",
    "outputId": "31f9ae87-597d-4b19-db55-3c71c29d486d"
   },
   "outputs": [
    {
     "data": {
      "text/plain": [
       "2505"
      ]
     },
     "execution_count": 97,
     "metadata": {},
     "output_type": "execute_result"
    }
   ],
   "source": [
    "np.count_nonzero(x[:-1] < x[1:])"
   ]
  },
  {
   "cell_type": "code",
   "execution_count": null,
   "metadata": {
    "colab": {
     "base_uri": "https://localhost:8080/"
    },
    "id": "N9EtqEy7uy3z",
    "outputId": "7fc8c954-ec2f-43e2-d1f8-de9fef959256"
   },
   "outputs": [
    {
     "name": "stdout",
     "output_type": "stream",
     "text": [
      "100 loops, best of 5: 4.34 ms per loop\n"
     ]
    }
   ],
   "source": [
    "%timeit count_transitions_py(x)"
   ]
  },
  {
   "cell_type": "code",
   "execution_count": null,
   "metadata": {
    "colab": {
     "base_uri": "https://localhost:8080/"
    },
    "id": "pL7pvqGRuJ8f",
    "outputId": "e97d6c6f-4719-4075-e159-b67de12f6c52"
   },
   "outputs": [
    {
     "name": "stdout",
     "output_type": "stream",
     "text": [
      "The slowest run took 65.65 times longer than the fastest. This could mean that an intermediate result is being cached.\n",
      "10000 loops, best of 5: 27.1 µs per loop\n"
     ]
    }
   ],
   "source": [
    "%timeit np.sum((x[1:]==1) & (x[:-1]==0))"
   ]
  },
  {
   "cell_type": "code",
   "execution_count": null,
   "metadata": {
    "colab": {
     "base_uri": "https://localhost:8080/"
    },
    "id": "v_WYcgcUvdlY",
    "outputId": "b37445dd-6cf1-484d-dbc9-f02896d9d0dd"
   },
   "outputs": [
    {
     "name": "stdout",
     "output_type": "stream",
     "text": [
      "The slowest run took 37.01 times longer than the fastest. This could mean that an intermediate result is being cached.\n",
      "100000 loops, best of 5: 7.73 µs per loop\n"
     ]
    }
   ],
   "source": [
    "%timeit np.count_nonzero(x[:-1] < x[1:])"
   ]
  },
  {
   "cell_type": "markdown",
   "metadata": {
    "id": "7tCOMkgMar2h"
   },
   "source": [
    "So, **vectorization** here refers to the concept of replacing explicit for-loops with array expressions, which in this case can then be computed internally with a low-level language."
   ]
  },
  {
   "cell_type": "markdown",
   "metadata": {
    "id": "BstxXT9ovy0h"
   },
   "source": [
    "##### 2.1.1.3.4 Reduction"
   ]
  },
  {
   "cell_type": "markdown",
   "metadata": {
    "id": "YpknhBzTR8bb"
   },
   "source": [
    "Numpy allow us to reduces array's dimension by one, by applying a function along one axis.\n",
    "\n",
    "Example:"
   ]
  },
  {
   "cell_type": "code",
   "execution_count": null,
   "metadata": {
    "id": "dSwe60HiwFLB"
   },
   "outputs": [],
   "source": [
    "import numpy as np"
   ]
  },
  {
   "cell_type": "code",
   "execution_count": null,
   "metadata": {
    "id": "Ae1wEk_Sv4NX"
   },
   "outputs": [],
   "source": [
    "B = np.array([\n",
    "    [0, 1, 2],\n",
    "    [3, 4, 5],\n",
    "    [6, 7, 8],\n",
    "    [9,10,11],\n",
    "])"
   ]
  },
  {
   "cell_type": "code",
   "execution_count": null,
   "metadata": {
    "colab": {
     "base_uri": "https://localhost:8080/"
    },
    "id": "nOD6-L40wB3w",
    "outputId": "08278621-f656-4e73-9c48-f5bbdba4beaa"
   },
   "outputs": [
    {
     "name": "stdout",
     "output_type": "stream",
     "text": [
      "[18 22 26]\n",
      "[ 3 12 21 30]\n",
      "66\n"
     ]
    }
   ],
   "source": [
    "print(np.sum(B, axis=0))\n",
    "print(np.sum(B, axis=1))\n",
    "print(np.sum(B))"
   ]
  },
  {
   "cell_type": "markdown",
   "metadata": {
    "id": "zkbx-bA2KbZd"
   },
   "source": [
    "-----\n",
    "\n",
    "#### 2.1.4 Practical part"
   ]
  },
  {
   "cell_type": "markdown",
   "metadata": {
    "id": "m_z6TlQPFxmn"
   },
   "source": [
    "##### 2.1.4.1. Exercise"
   ]
  },
  {
   "cell_type": "markdown",
   "metadata": {
    "id": "PLEl34gcKcZW"
   },
   "source": [
    "Multiply the matrix $A =\\begin{bmatrix} 1 & 2 & 1 \\\\ 3 & 0 & 1 \\\\ 0 & 2 & 4 \\end{bmatrix}$ by the scalar $b = 9$. Use `np.matmul()` function (Check documentation if you need it: [matmul doc](https://numpy.org/doc/stable/reference/generated/numpy.matmul.html). Compare execution times vs pure python method `my_matmul(A,B)`.\n"
   ]
  },
  {
   "cell_type": "markdown",
   "metadata": {
    "id": "opYcrUH0SHRB"
   },
   "source": [
    "#### 2.1.4.2. Solution"
   ]
  },
  {
   "cell_type": "code",
   "execution_count": null,
   "metadata": {
    "id": "ayMJ-hqsDUQg"
   },
   "outputs": [],
   "source": [
    "# your solution here!"
   ]
  },
  {
   "cell_type": "markdown",
   "metadata": {
    "id": "GCTnQ1hVDnKd"
   },
   "source": [
    "#### 2.1.5. Bonus part\n"
   ]
  },
  {
   "cell_type": "markdown",
   "metadata": {
    "id": "_0D9joaRSaAX"
   },
   "source": [
    "#### 2.1.5.1. The tasks"
   ]
  },
  {
   "cell_type": "markdown",
   "metadata": {
    "id": "xGZA-eXBSPGB"
   },
   "source": [
    "1. Download pokemon dataset provided.\n",
    "\n",
    "2. Show the name of the first 151 elements of `pokemon_names` numpy array.\n",
    "\n",
    "3. Show a descritive statistics (max, min, range, mean, standard deviation) of the first 151 elements of `pokemon_attacks` numpy array.\n",
    "\n",
    "4. Check `np.argsort()` function (`np.argsort` doc: [here](https://numpy.org/doc/stable/reference/generated/numpy.argsort.html)). Then, print the TOP 10 attack points from `pokemon attacks`.\n",
    "\n",
    "5. Use `pokemon_names` to show the TOP 10 pokemon's name based on their attacks."
   ]
  },
  {
   "cell_type": "code",
   "execution_count": null,
   "metadata": {
    "id": "JTk5Iuv2Ekrt"
   },
   "outputs": [],
   "source": [
    "# downloading and loading dataset"
   ]
  },
  {
   "cell_type": "code",
   "execution_count": null,
   "metadata": {
    "colab": {
     "base_uri": "https://localhost:8080/"
    },
    "id": "-gfvJyKTF3cb",
    "outputId": "c278d68e-f24c-47ca-b66a-b456cba67f69"
   },
   "outputs": [
    {
     "name": "stdout",
     "output_type": "stream",
     "text": [
      "--2022-06-27 12:17:46--  https://gist.githubusercontent.com/armgilles/194bcff35001e7eb53a2a8b441e8b2c6/raw/92200bc0a673d5ce2110aaad4544ed6c4010f687/pokemon.csv\n",
      "Resolving gist.githubusercontent.com (gist.githubusercontent.com)... 185.199.108.133, 185.199.109.133, 185.199.110.133, ...\n",
      "Connecting to gist.githubusercontent.com (gist.githubusercontent.com)|185.199.108.133|:443... connected.\n",
      "HTTP request sent, awaiting response... 200 OK\n",
      "Length: 44028 (43K) [text/plain]\n",
      "Saving to: ‘pokemon.csv’\n",
      "\n",
      "pokemon.csv         100%[===================>]  43.00K  --.-KB/s    in 0.02s   \n",
      "\n",
      "2022-06-27 12:17:47 (2.34 MB/s) - ‘pokemon.csv’ saved [44028/44028]\n",
      "\n"
     ]
    }
   ],
   "source": [
    "! wget https://gist.githubusercontent.com/armgilles/194bcff35001e7eb53a2a8b441e8b2c6/raw/92200bc0a673d5ce2110aaad4544ed6c4010f687/pokemon.csv"
   ]
  },
  {
   "cell_type": "code",
   "execution_count": null,
   "metadata": {
    "id": "lcHoLCIeGM2a"
   },
   "outputs": [],
   "source": [
    "import numpy as np\n",
    "def get_pokemon_dataset():\n",
    "    # function to read `pokemon.csv` into a dict of list (columns)\n",
    "\n",
    "    with open('pokemon.csv') as f:\n",
    "    first_line = True\n",
    "    pokedata = {} # dict\n",
    "    for line in f:\n",
    "        if first_line:\n",
    "            first_line = False\n",
    "            pokedata[\"ID\"] = []\n",
    "            pokedata[\"Name\"] = []\n",
    "            pokedata[\"Type1\"] = []\n",
    "            pokedata[\"Type2\"] = []\n",
    "            pokedata[\"Total\"] = []\n",
    "            pokedata[\"HP\"] = []\n",
    "            pokedata[\"Attack\"] = []\n",
    "            pokedata[\"Defense\"] = []\n",
    "            pokedata[\"Speed\"] = []\n",
    "            pokedata[\"Generation\"] = []\n",
    "            pokedata[\"Legendary\"] = []\n",
    "        else:\n",
    "            line = line.split(\",\")\n",
    "            if  not \"Mega \" in str(line[1]):\n",
    "                pokedata[\"ID\"].append(int(line[0]))\n",
    "                pokedata[\"Name\"].append(str(line[1]))\n",
    "                pokedata[\"Type1\"].append(str(line[2]))\n",
    "                pokedata[\"Type2\"].append(str(line[3]))\n",
    "                pokedata[\"Total\"].append(int(line[4]))\n",
    "                pokedata[\"HP\"].append(int(line[5]))\n",
    "                pokedata[\"Attack\"].append(int(line[6]))\n",
    "                pokedata[\"Defense\"].append(int(line[7]))\n",
    "                pokedata[\"Speed\"].append(int(line[10]))\n",
    "                pokedata[\"Generation\"].append(int(line[11]))\n",
    "                pokedata[\"Legendary\"].append(line[12][:-1]==\"True\")\n",
    "    for k in pokedata.keys():\n",
    "    pokedata[k] = np.array(pokedata[k])\n",
    "\n",
    "    return pokedata"
   ]
  },
  {
   "cell_type": "code",
   "execution_count": null,
   "metadata": {
    "id": "YWsx-kXMGqbn"
   },
   "outputs": [],
   "source": [
    "pokedataset = get_pokemon_dataset()"
   ]
  },
  {
   "cell_type": "code",
   "execution_count": null,
   "metadata": {
    "colab": {
     "base_uri": "https://localhost:8080/"
    },
    "id": "aHs5h4h8GfVC",
    "outputId": "5b284bfe-e421-4742-cf7a-cb32061c2071"
   },
   "outputs": [
    {
     "name": "stdout",
     "output_type": "stream",
     "text": [
      "Attributes: dict_keys(['ID', 'Name', 'Type1', 'Type2', 'Total', 'HP', 'Attack', 'Defense', 'Speed', 'Generation', 'Legendary'])\n"
     ]
    }
   ],
   "source": [
    "print(\"Attributes:\", pokedataset.keys())"
   ]
  },
  {
   "cell_type": "code",
   "execution_count": null,
   "metadata": {
    "colab": {
     "base_uri": "https://localhost:8080/"
    },
    "id": "WE0sXS_4Gxmw",
    "outputId": "cef06494-2ada-4b4a-9131-66073d3cb623"
   },
   "outputs": [
    {
     "name": "stdout",
     "output_type": "stream",
     "text": [
      "First 10 pokemon names: ['Bulbasaur' 'Ivysaur' 'Venusaur' 'Charmander' 'Charmeleon' 'Charizard'\n",
      " 'Squirtle' 'Wartortle' 'Blastoise' 'Caterpie']\n"
     ]
    }
   ],
   "source": [
    "print(\"First 10 pokemon names:\", pokedataset[\"Name\"][:10])"
   ]
  },
  {
   "cell_type": "markdown",
   "metadata": {
    "id": "4qDWcl9gSWQA"
   },
   "source": [
    "#### 2.1.5.2. Solutions"
   ]
  },
  {
   "cell_type": "code",
   "execution_count": null,
   "metadata": {
    "id": "myLbdGR8EnTO"
   },
   "outputs": [],
   "source": [
    "# your code here !\n",
    "# (1) (Slicing) Print the first 151 pokemon's names"
   ]
  },
  {
   "cell_type": "code",
   "execution_count": null,
   "metadata": {
    "id": "KJ-1R_3mE1tl"
   },
   "outputs": [],
   "source": [
    "# your code here !\n",
    "# (2) (Descriptive statistics). Use (np.max, np.min, np.mean, np.std)"
   ]
  },
  {
   "cell_type": "code",
   "execution_count": null,
   "metadata": {
    "id": "XHlF7VkYE2Lo"
   },
   "outputs": [],
   "source": [
    "# your code here !\n",
    "# (3) (Sorting). `np.argsort(my_array)` will return the indices of sorted \n",
    "#                elements of `my_array`"
   ]
  },
  {
   "cell_type": "code",
   "execution_count": null,
   "metadata": {
    "id": "nzFcLLi7E2mP"
   },
   "outputs": [],
   "source": [
    "# your code here !\n",
    "# (4) (Mask). Use the indices you got from `np.argort` and apply it\n",
    "#             to `pokemon_names`"
   ]
  },
  {
   "cell_type": "markdown",
   "metadata": {
    "id": "jub8yC2QSiiI"
   },
   "source": [
    "-----"
   ]
  },
  {
   "cell_type": "markdown",
   "metadata": {
    "id": "qNWHpZMhJGmJ"
   },
   "source": [
    "### 2.1.2. Matplotlib"
   ]
  },
  {
   "cell_type": "markdown",
   "metadata": {
    "id": "91hBGhTMJXA5"
   },
   "source": [
    "#### 2.1.2.1. What is Matplotlib?\n",
    "\n",
    "A plotting library to create visualizations in Python.\n",
    "+ You can create publication quality plots.\n",
    "+ Make interactive figures.\n",
    "+ Customize visual style and layout.\n",
    "+ Export to many file formats.\n",
    "+ Embed in JupyterLab and Graphical User Interfaces.\n",
    "+ Use other packages built on Matplotlib."
   ]
  },
  {
   "cell_type": "markdown",
   "metadata": {},
   "source": [
    "![](imgs/slides_d1/101.PNG)"
   ]
  },
  {
   "cell_type": "markdown",
   "metadata": {
    "id": "v4vvd6DDJXmJ"
   },
   "source": [
    "#### 2.1.2.2. Why is data visualization important?\n",
    "\n",
    "+ It remarks useful information.\n",
    "+ It helps to tell stories by transforming your data into visual elements, by curating data into a form easier to understand.\n",
    "+ It helps to have a visual summary of your data, highlighting  the trends and outliers."
   ]
  },
  {
   "cell_type": "markdown",
   "metadata": {
    "id": "r2swhUgeKBX6"
   },
   "source": [
    "#### 2.1.2.3. Importing Matplotlib\n",
    "\n",
    "We can import matplotlib as follows:"
   ]
  },
  {
   "cell_type": "code",
   "execution_count": null,
   "metadata": {
    "id": "FPdTczU2KSHk"
   },
   "outputs": [],
   "source": [
    "import matplotlib.pyplot as plt"
   ]
  },
  {
   "cell_type": "markdown",
   "metadata": {
    "id": "bcaLohcNKZQL"
   },
   "source": [
    "#### 2.1.2.4 Exploratory data analysis (EDA)"
   ]
  },
  {
   "cell_type": "markdown",
   "metadata": {
    "id": "lMo2Ri-7LXOl"
   },
   "source": [
    "2.1.2.4.1 Downloading Dataset"
   ]
  },
  {
   "cell_type": "markdown",
   "metadata": {
    "id": "xrtvJu2aLaJt"
   },
   "source": [
    "Run the following cells:"
   ]
  },
  {
   "cell_type": "code",
   "execution_count": null,
   "metadata": {
    "colab": {
     "base_uri": "https://localhost:8080/"
    },
    "id": "wh9vztKbLknL",
    "outputId": "e32e3eb7-fbc4-4c8c-d7b1-da6bd308a160"
   },
   "outputs": [
    {
     "name": "stdout",
     "output_type": "stream",
     "text": [
      "--2022-06-27 12:41:33--  https://gist.githubusercontent.com/armgilles/194bcff35001e7eb53a2a8b441e8b2c6/raw/92200bc0a673d5ce2110aaad4544ed6c4010f687/pokemon.csv\n",
      "Resolving gist.githubusercontent.com (gist.githubusercontent.com)... 185.199.108.133, 185.199.109.133, 185.199.110.133, ...\n",
      "Connecting to gist.githubusercontent.com (gist.githubusercontent.com)|185.199.108.133|:443... connected.\n",
      "HTTP request sent, awaiting response... 200 OK\n",
      "Length: 44028 (43K) [text/plain]\n",
      "Saving to: ‘pokemon.csv.1’\n",
      "\n",
      "pokemon.csv.1       100%[===================>]  43.00K  --.-KB/s    in 0.01s   \n",
      "\n",
      "2022-06-27 12:41:33 (3.44 MB/s) - ‘pokemon.csv.1’ saved [44028/44028]\n",
      "\n"
     ]
    }
   ],
   "source": [
    "! wget https://gist.githubusercontent.com/armgilles/194bcff35001e7eb53a2a8b441e8b2c6/raw/92200bc0a673d5ce2110aaad4544ed6c4010f687/pokemon.csv\n",
    "\n",
    "import numpy as np\n",
    "\n",
    "def get_pokemon_dataset():\n",
    "    # function to read `pokemon.csv` into a dict of list (columns)\n",
    "\n",
    "    with open('pokemon.csv') as f:\n",
    "    first_line = True\n",
    "    pokedata = {} # dict\n",
    "    for line in f:\n",
    "        if first_line:\n",
    "            first_line = False\n",
    "            pokedata[\"ID\"] = []\n",
    "            pokedata[\"Name\"] = []\n",
    "            pokedata[\"Type1\"] = []\n",
    "            pokedata[\"Type2\"] = []\n",
    "            pokedata[\"Total\"] = []\n",
    "            pokedata[\"HP\"] = []\n",
    "            pokedata[\"Attack\"] = []\n",
    "            pokedata[\"Defense\"] = []\n",
    "            pokedata[\"Speed\"] = []\n",
    "            pokedata[\"Generation\"] = []\n",
    "            pokedata[\"Legendary\"] = []\n",
    "        else:\n",
    "            line = line.split(\",\")\n",
    "            if  not \"Mega \" in str(line[1]):\n",
    "                pokedata[\"ID\"].append(int(line[0]))\n",
    "                pokedata[\"Name\"].append(str(line[1]))\n",
    "                pokedata[\"Type1\"].append(str(line[2]))\n",
    "                pokedata[\"Type2\"].append(str(line[3]))\n",
    "                pokedata[\"Total\"].append(int(line[4]))\n",
    "                pokedata[\"HP\"].append(int(line[5]))\n",
    "                pokedata[\"Attack\"].append(int(line[6]))\n",
    "                pokedata[\"Defense\"].append(int(line[7]))\n",
    "                pokedata[\"Speed\"].append(int(line[10]))\n",
    "                pokedata[\"Generation\"].append(int(line[11]))\n",
    "                pokedata[\"Legendary\"].append(line[12][:-1]==\"True\")\n",
    "        for k in pokedata.keys():\n",
    "    pokedata[k] = np.array(pokedata[k])\n",
    "  \n",
    "    return pokedata"
   ]
  },
  {
   "cell_type": "code",
   "execution_count": null,
   "metadata": {
    "id": "Kvj3PnBVLc2C"
   },
   "outputs": [],
   "source": [
    "pokedataset = get_pokemon_dataset()"
   ]
  },
  {
   "cell_type": "markdown",
   "metadata": {
    "id": "szoOGZfYLvYO"
   },
   "source": [
    "#### 2.1.2.5. Text reports"
   ]
  },
  {
   "cell_type": "code",
   "execution_count": null,
   "metadata": {
    "colab": {
     "base_uri": "https://localhost:8080/"
    },
    "id": "_h6cW6KcMODE",
    "outputId": "9f16389f-3547-47ef-e7b7-913f00c89a10"
   },
   "outputs": [
    {
     "data": {
      "text/plain": [
       "dict_keys(['ID', 'Name', 'Type1', 'Type2', 'Total', 'HP', 'Attack', 'Defense', 'Speed', 'Generation', 'Legendary'])"
      ]
     },
     "execution_count": 65,
     "metadata": {},
     "output_type": "execute_result"
    }
   ],
   "source": [
    "pokedataset.keys()"
   ]
  },
  {
   "cell_type": "code",
   "execution_count": null,
   "metadata": {
    "colab": {
     "base_uri": "https://localhost:8080/"
    },
    "id": "rn_EKXWUMTB9",
    "outputId": "17e850ac-2712-443d-8d87-b51b3132b1fc"
   },
   "outputs": [
    {
     "name": "stdout",
     "output_type": "stream",
     "text": [
      "First 9 Pokemons in the Pokedex\n",
      "['Bulbasaur' 'Ivysaur' 'Venusaur' 'Charmander' 'Charmeleon' 'Charizard'\n",
      " 'Squirtle' 'Wartortle' 'Blastoise']\n"
     ]
    }
   ],
   "source": [
    "print(\"First 9 Pokemons in the Pokedex\")\n",
    "print(pokedataset['Name'][:9])"
   ]
  },
  {
   "cell_type": "code",
   "execution_count": null,
   "metadata": {
    "colab": {
     "base_uri": "https://localhost:8080/"
    },
    "id": "QnIXJ-OSMg0D",
    "outputId": "5f3742aa-e494-43f7-cfdb-f28485b3530b"
   },
   "outputs": [
    {
     "name": "stdout",
     "output_type": "stream",
     "text": [
      "Top-10 most powerful Pokemons:\n",
      "['Mewtwo' 'Mew' 'Dragonite' 'Moltres' 'Zapdos' 'Articuno' 'Arcanine'\n",
      " 'Snorlax' 'Gyarados' 'Lapras']\n"
     ]
    }
   ],
   "source": [
    "index = np.argsort(pokedataset['Total'][:151])[::-1]\n",
    "print(\"Top-10 most powerful Pokemons:\")\n",
    "print(pokedataset['Name'][index][:10])"
   ]
  },
  {
   "cell_type": "markdown",
   "metadata": {
    "id": "benH74zLMJdj"
   },
   "source": [
    "#### 2.1.2.6. Data visualization with Matplotlib"
   ]
  },
  {
   "cell_type": "markdown",
   "metadata": {
    "id": "hpVT9DGaNruI"
   },
   "source": [
    "We can quickly look at our data by using matplotlib.\n",
    "\n",
    "`plot()` function allow us to create a plot two input variables `x` and `y` as lines (`2Dlines`) and/or markers.\n",
    "\n"
   ]
  },
  {
   "cell_type": "markdown",
   "metadata": {
    "id": "NFxlNjvPN0yN"
   },
   "source": [
    "**Example:** How many Pokemons we can find by generation?\n",
    "\n",
    "Let's try to answer the question first by counting the about of values that the variable `pokedata['Generation]` cointains!\n",
    "\n",
    "How can we do that? Many ways! Check this one:"
   ]
  },
  {
   "cell_type": "code",
   "execution_count": null,
   "metadata": {
    "colab": {
     "base_uri": "https://localhost:8080/"
    },
    "id": "20xnG9whMPeV",
    "outputId": "41632823-7e55-4ddb-832e-212a5afa66f1"
   },
   "outputs": [
    {
     "name": "stdout",
     "output_type": "stream",
     "text": [
      "Generation [1 2 3 4 5 6]\n",
      "Count      [151 100 140 116 164  81]\n"
     ]
    }
   ],
   "source": [
    "gen_label, counts = np.unique(pokedataset['Generation'], return_counts=True)\n",
    "print(\"Generation\", gen_label)\n",
    "print(\"Count     \", counts)"
   ]
  },
  {
   "cell_type": "markdown",
   "metadata": {
    "id": "Qsbfe0s9OIw1"
   },
   "source": [
    "This is a simple \"Text report\". This is useful when you want to quickly check the results you get from your analyses and data transformations.\n",
    "\n",
    "However, visualizations provide an easier way to get analyse and explora data.\n",
    "\n",
    "\n",
    "You can run the simplest visualization in matplotlib as follows:"
   ]
  },
  {
   "cell_type": "code",
   "execution_count": null,
   "metadata": {
    "id": "miGn8T9mOmZ-"
   },
   "outputs": [],
   "source": [
    "import matplotlib.pyplot as plt"
   ]
  },
  {
   "cell_type": "code",
   "execution_count": null,
   "metadata": {
    "colab": {
     "base_uri": "https://localhost:8080/",
     "height": 283
    },
    "id": "CDQn3Zx0OdEm",
    "outputId": "853422fe-5ecb-41ee-e65d-55b58cbd10d6"
   },
   "outputs": [
    {
     "data": {
      "text/plain": [
       "[<matplotlib.lines.Line2D at 0x7f71113d6d10>]"
      ]
     },
     "execution_count": 78,
     "metadata": {},
     "output_type": "execute_result"
    },
    {
     "data": {
      "image/png": "[encoded data removed]",
      "text/plain": [
       "<Figure size 432x288 with 1 Axes>"
      ]
     },
     "metadata": {
      "needs_background": "light"
     },
     "output_type": "display_data"
    }
   ],
   "source": [
    "plt.plot(gen_label, counts)"
   ]
  },
  {
   "cell_type": "markdown",
   "metadata": {
    "id": "SeOqoDy6Ov2u"
   },
   "source": [
    "However, it is always useful to have control of the different parts of a visualization. \n",
    "\n",
    "Let's define properly the plot by indicating the figure size (`figsize`) and the figure background (`facecolor`).\n",
    "\n",
    "Additionally, we can add the x- and y-axis labels!"
   ]
  },
  {
   "cell_type": "code",
   "execution_count": null,
   "metadata": {
    "colab": {
     "base_uri": "https://localhost:8080/",
     "height": 352
    },
    "id": "oQQDgQNyOq7d",
    "outputId": "f1fd6d79-92b5-49b6-d09c-4ac99383cc8f"
   },
   "outputs": [
    {
     "data": {
      "text/plain": [
       "Text(0, 0.5, 'Pokemon count')"
      ]
     },
     "execution_count": 80,
     "metadata": {},
     "output_type": "execute_result"
    },
    {
     "data": {
      "image/png": "[encoded data removed]",
      "text/plain": [
       "<Figure size 360x360 with 1 Axes>"
      ]
     },
     "metadata": {},
     "output_type": "display_data"
    }
   ],
   "source": [
    "fig, ax = plt.subplots(figsize = (5, 5), facecolor='w')\n",
    "plt.plot(gen_label, counts)\n",
    "plt.xlabel('Generation')\n",
    "plt.ylabel('Pokemon count')"
   ]
  },
  {
   "cell_type": "markdown",
   "metadata": {
    "id": "yIlHbSvTPH7_"
   },
   "source": [
    "We can also change some properties of the plot such as: \n",
    "+ Marker (`marker`)\n",
    "+ Line style (`ls`)\n",
    "+ Color (`color`)\n",
    "+ Line width (`lw`)\n",
    "+ Marker size (`markersize` or `ms`)\n",
    "+ Marker Edge Width (`markeredgewidth` or `mew`)\n",
    "+ etc.\n"
   ]
  },
  {
   "cell_type": "code",
   "execution_count": null,
   "metadata": {
    "colab": {
     "base_uri": "https://localhost:8080/",
     "height": 338
    },
    "id": "N3CeaGD5PLM-",
    "outputId": "e6dc6b3b-ae50-4c00-a808-e4635712c526"
   },
   "outputs": [
    {
     "data": {
      "image/png": "[encoded data removed]",
      "text/plain": [
       "<Figure size 360x360 with 1 Axes>"
      ]
     },
     "metadata": {
      "needs_background": "light"
     },
     "output_type": "display_data"
    }
   ],
   "source": [
    "fig, ax = plt.subplots(figsize = (5, 5))\n",
    "ax.plot(\n",
    "    gen_label, counts, \n",
    "    marker='o', ls='--', color='black', lw=2, ms=8, mew=3)\n",
    "plt.xlabel('Generation', fontsize=14)\n",
    "plt.ylabel('Pokemon count', fontsize=14)\n",
    "plt.show()"
   ]
  },
  {
   "cell_type": "markdown",
   "metadata": {
    "id": "fCZJHIGqPTXZ"
   },
   "source": [
    "For more details about `Line2D` properties, check the [Matplotlib's documentation](https://matplotlib.org/stable/api/_as_gen/matplotlib.lines.Line2D.html#matplotlib.lines.Line2D).\n"
   ]
  },
  {
   "cell_type": "markdown",
   "metadata": {
    "id": "O4HSvMfiPXZV"
   },
   "source": [
    "#### 2.1.2.7. Scatter"
   ]
  },
  {
   "cell_type": "markdown",
   "metadata": {
    "id": "STPCOd3WPfGG"
   },
   "source": [
    "A scatter plot of two input variables `x` and `y`. We can vary the marker size and/or color."
   ]
  },
  {
   "cell_type": "markdown",
   "metadata": {
    "id": "lunTjVLFS_kY"
   },
   "source": [
    "**How is the relation `HP` (Health points) and `Attack` for Fire-, Dark-, and Psychic- Pokemons?**"
   ]
  },
  {
   "cell_type": "code",
   "execution_count": null,
   "metadata": {
    "id": "0wIi4QEaPyye"
   },
   "outputs": [],
   "source": [
    "# filtering\n",
    "mask_nonlegendary  = pokedataset['Legendary']==False\n",
    "mask_dark_types = (pokedataset['Type1'][mask_nonlegendary] == 'Dark')\n",
    "mask_fire_types = (pokedataset['Type1'][mask_nonlegendary] == 'Fire')\n",
    "mask_psychic_types = (pokedataset['Type1'][mask_nonlegendary] == 'Psychic')\n",
    "\n",
    "dark_types_attack = pokedataset['Attack'][mask_nonlegendary][mask_dark_types]\n",
    "fire_types_attack = pokedataset['Attack'][mask_nonlegendary][mask_fire_types]\n",
    "psychic_types_attack = pokedataset['Attack'][mask_nonlegendary][mask_psychic_types]\n",
    "\n",
    "dark_types_HP = pokedataset['HP'][mask_nonlegendary][mask_dark_types]\n",
    "fire_types_HP = pokedataset['HP'][mask_nonlegendary][mask_fire_types]\n",
    "psychic_types_HP = pokedataset['HP'][mask_nonlegendary][mask_psychic_types]"
   ]
  },
  {
   "cell_type": "code",
   "execution_count": null,
   "metadata": {
    "colab": {
     "base_uri": "https://localhost:8080/"
    },
    "id": "ScqYi1zWR7mS",
    "outputId": "59fc3cce-6b3f-4c1e-fd40-c771887ebb50"
   },
   "outputs": [
    {
     "name": "stdout",
     "output_type": "stream",
     "text": [
      "Input example\n",
      "dark_types_HP     (x) = [ 95  60  55  45  75  35  70  50  65 100  70  41  64  50  65  40  60  45\n",
      "  65  70 110  52  72  92  53  86] \n",
      "\n",
      "dark_types_attack (y) = [ 95  60  55  45  75  35  70  50  65 100  70  41  64  50  65  40  60  45\n",
      "  65  70 110  52  72  92  53  86]\n"
     ]
    }
   ],
   "source": [
    "print(\"Input example\")\n",
    "print(\"dark_types_HP     (x) =\", dark_types_HP, \"\\n\")\n",
    "print(\"dark_types_attack (y) =\", dark_types_HP)"
   ]
  },
  {
   "cell_type": "code",
   "execution_count": null,
   "metadata": {
    "colab": {
     "base_uri": "https://localhost:8080/",
     "height": 388
    },
    "id": "yZO32u2yPvgI",
    "outputId": "f190dabc-8118-415e-df3e-67553c047487"
   },
   "outputs": [
    {
     "data": {
      "image/png": "[encoded data removed]",
      "text/plain": [
       "<Figure size 432x432 with 1 Axes>"
      ]
     },
     "metadata": {
      "needs_background": "light"
     },
     "output_type": "display_data"
    }
   ],
   "source": [
    "fig, ax = plt.subplots(figsize = (6, 6))\n",
    "\n",
    "ax.scatter(dark_types_HP, dark_types_attack, c='black', s=50)\n",
    "ax.scatter(fire_types_HP, fire_types_attack, alpha=0.6, c='red', s=50)\n",
    "ax.scatter(psychic_types_HP, psychic_types_attack, alpha=0.6, c='purple', s=50)\n",
    "\n",
    "ax.set_xlabel(\"HP\");\n",
    "ax.set_ylabel(\"Attack\");"
   ]
  },
  {
   "cell_type": "markdown",
   "metadata": {
    "id": "bfOXA073ROB3"
   },
   "source": [
    "We can also include a legend as follows:"
   ]
  },
  {
   "cell_type": "code",
   "execution_count": null,
   "metadata": {
    "colab": {
     "base_uri": "https://localhost:8080/",
     "height": 406
    },
    "id": "RPCJ345GQ6tg",
    "outputId": "1c245043-8522-4331-d831-f9f38437b029"
   },
   "outputs": [
    {
     "data": {
      "text/plain": [
       "<matplotlib.legend.Legend at 0x7f71109b81d0>"
      ]
     },
     "execution_count": 91,
     "metadata": {},
     "output_type": "execute_result"
    },
    {
     "data": {
      "image/png": "[encoded data removed]",
      "text/plain": [
       "<Figure size 432x432 with 1 Axes>"
      ]
     },
     "metadata": {
      "needs_background": "light"
     },
     "output_type": "display_data"
    }
   ],
   "source": [
    "fig, ax = plt.subplots(figsize = (6, 6))\n",
    "\n",
    "ax.scatter(\n",
    "    dark_types_HP, dark_types_attack, c='black', \n",
    "    label='Dark', s=50)\n",
    "ax.scatter(\n",
    "    fire_types_HP, fire_types_attack, alpha=0.6, c='red', \n",
    "    label='Fire', s=50)\n",
    "ax.scatter(\n",
    "    psychic_types_HP, psychic_types_attack, alpha=0.6, c='purple', \n",
    "    label='Psychic', s=50)\n",
    "\n",
    "ax.set_xlabel(\"HP\");\n",
    "ax.set_ylabel(\"Attack\");\n",
    "\n",
    "ax.legend()"
   ]
  },
  {
   "cell_type": "markdown",
   "metadata": {
    "id": "95kIVBv8RTpR"
   },
   "source": [
    "#### 2.1.2.8. Bar"
   ]
  },
  {
   "cell_type": "markdown",
   "metadata": {
    "id": "94bfR3L_TRja"
   },
   "source": [
    "**Which is the frequency of Pokemon per type?**"
   ]
  },
  {
   "cell_type": "code",
   "execution_count": null,
   "metadata": {
    "colab": {
     "base_uri": "https://localhost:8080/"
    },
    "id": "dLzFg0pDRQxo",
    "outputId": "ed7b1a20-592f-4336-9679-6e4e222b1cc9"
   },
   "outputs": [
    {
     "name": "stdout",
     "output_type": "stream",
     "text": [
      "['Bug' 'Dark' 'Dragon' 'Electric' 'Fairy' 'Fighting' 'Fire' 'Flying'\n",
      " 'Ghost' 'Grass' 'Ground' 'Ice' 'Normal' 'Poison' 'Psychic' 'Rock' 'Steel'\n",
      " 'Water']\n"
     ]
    }
   ],
   "source": [
    "tmp_type = np.concatenate([pokedataset['Type1'], pokedataset['Type2']])\n",
    "all_types = np.unique(tmp_type[tmp_type!=''])\n",
    "print(all_types)\n",
    "counts_by_type = []\n",
    "for poketype in all_types:\n",
    "  count = np.sum((pokedataset['Type1']==poketype) | (pokedataset['Type2']==poketype))\n",
    "  counts_by_type.append(count)"
   ]
  },
  {
   "cell_type": "code",
   "execution_count": null,
   "metadata": {
    "colab": {
     "base_uri": "https://localhost:8080/"
    },
    "id": "B1PpK7gkRylo",
    "outputId": "762ce682-daf9-4ffd-9a3f-31cc7c085792"
   },
   "outputs": [
    {
     "name": "stdout",
     "output_type": "stream",
     "text": [
      "Inputs\n",
      "x = ['Bug' 'Dark' 'Dragon' 'Electric' 'Fairy' 'Fighting' 'Fire' 'Flying'\n",
      " 'Ghost' 'Grass' 'Ground' 'Ice' 'Normal' 'Poison' 'Psychic' 'Rock' 'Steel'\n",
      " 'Water']\n",
      "y = [68, 45, 41, 48, 35, 46, 59, 95, 43, 92, 63, 36, 98, 59, 80, 55, 43, 121]\n"
     ]
    }
   ],
   "source": [
    "print(\"Inputs\")\n",
    "print(\"x =\", all_types)\n",
    "print(\"y =\", counts_by_type)"
   ]
  },
  {
   "cell_type": "code",
   "execution_count": null,
   "metadata": {
    "colab": {
     "base_uri": "https://localhost:8080/",
     "height": 454
    },
    "id": "7xDd51xhRaYv",
    "outputId": "dcbb2e0c-ee84-4165-cbc0-eec39b1d1a3b"
   },
   "outputs": [
    {
     "data": {
      "text/plain": [
       "([0, 1, 2, 3, 4, 5, 6, 7, 8, 9, 10, 11, 12, 13, 14, 15, 16, 17],\n",
       " <a list of 18 Text major ticklabel objects>)"
      ]
     },
     "execution_count": 95,
     "metadata": {},
     "output_type": "execute_result"
    },
    {
     "data": {
      "image/png": "[encoded data removed]",
      "text/plain": [
       "<Figure size 576x432 with 1 Axes>"
      ]
     },
     "metadata": {},
     "output_type": "display_data"
    }
   ],
   "source": [
    "fig, ax = plt.subplots(figsize=(8,6), facecolor='w')\n",
    "ax.bar(all_types, counts_by_type)\n",
    "plt.ylabel(\"Frequency\", fontsize=14); \n",
    "plt.xlabel(\"Pokemon Type\", fontsize=14)\n",
    "plt.xticks(rotation=45)"
   ]
  },
  {
   "cell_type": "markdown",
   "metadata": {
    "id": "eVXzCC_kRuCn"
   },
   "source": [
    "#### 2.1.2.9. Imshow"
   ]
  },
  {
   "cell_type": "markdown",
   "metadata": {
    "id": "MNnIVQnQTb1J"
   },
   "source": [
    "**Which is the frequency of Pokemons with 2 types?**"
   ]
  },
  {
   "cell_type": "code",
   "execution_count": null,
   "metadata": {
    "id": "n3Ge2KeCSUTj"
   },
   "outputs": [],
   "source": [
    "def get_count_matrix_by_type():\n",
    "  labels_type1 = np.unique(pokedataset['Type1'])\n",
    "  labels_type2 = np.unique(pokedataset['Type2'])\n",
    "\n",
    "  labels_type1 = labels_type1[labels_type1 != '']\n",
    "  labels_type2 = labels_type2[labels_type2 != '']\n",
    "\n",
    "  type_count_matrix = np.zeros(shape=(len(labels_type1), len(labels_type2)))\n",
    "\n",
    "  for i in range(len(labels_type1)):\n",
    "    for j in range(len(labels_type2)):\n",
    "      mask_type1 = pokedataset['Type1'] == labels_type1[i] \n",
    "      mask_type2 = pokedataset['Type2'] == labels_type2[j]\n",
    "      count = np.sum( mask_type1 & mask_type2 )\n",
    "      type_count_matrix[i, j] = count\n",
    "\n",
    "  return type_count_matrix"
   ]
  },
  {
   "cell_type": "code",
   "execution_count": null,
   "metadata": {
    "id": "y51yJKcDSULC"
   },
   "outputs": [],
   "source": [
    "type_count_matrix = get_count_matrix_by_type()"
   ]
  },
  {
   "cell_type": "code",
   "execution_count": null,
   "metadata": {
    "colab": {
     "base_uri": "https://localhost:8080/"
    },
    "id": "-80pbUOoSUB_",
    "outputId": "d67bdb2c-b620-4229-ca9a-39fdfe9da04a"
   },
   "outputs": [
    {
     "name": "stdout",
     "output_type": "stream",
     "text": [
      "[[ 0.  0.  0.  2.  0.  1.  2. 13.  1.  6.  2.  0.  0. 11.  0.  3.  6.  1.]\n",
      " [ 0.  0.  3.  0.  0.  2.  2.  5.  1.  0.  0.  2.  0.  0.  2.  0.  2.  0.]\n",
      " [ 0.  0.  0.  1.  0.  0.  1.  4.  0.  0.  4.  3.  0.  0.  2.  0.  0.  0.]\n",
      " [ 0.  0.  0.  0.  1.  0.  1.  5.  1.  1.  0.  1.  2.  0.  0.  0.  3.  1.]\n",
      " [ 0.  0.  0.  0.  0.  0.  0.  2.  0.  0.  0.  0.  0.  0.  0.  0.  0.  0.]\n",
      " [ 0.  1.  0.  0.  0.  0.  0.  1.  0.  0.  0.  0.  0.  0.  2.  0.  1.  0.]\n",
      " [ 0.  0.  0.  0.  0.  6.  0.  5.  0.  0.  2.  0.  2.  0.  2.  1.  1.  1.]\n",
      " [ 0.  0.  2.  0.  0.  0.  0.  0.  0.  0.  0.  0.  0.  0.  0.  0.  0.  0.]\n",
      " [ 0.  1.  2.  0.  0.  0.  3.  2.  0. 10.  0.  0.  0.  3.  0.  0.  0.  0.]\n",
      " [ 0.  3.  0.  0.  2.  3.  0.  5.  0.  0.  1.  2.  0. 14.  2.  0.  2.  0.]\n",
      " [ 0.  3.  2.  1.  0.  0.  1.  4.  2.  0.  0.  0.  0.  0.  2.  3.  1.  0.]\n",
      " [ 0.  0.  0.  0.  0.  0.  0.  2.  1.  0.  3.  0.  0.  0.  2.  0.  0.  3.]\n",
      " [ 0.  0.  0.  0.  4.  1.  0. 23.  0.  2.  1.  0.  0.  0.  2.  0.  0.  1.]\n",
      " [ 1.  3.  1.  0.  0.  2.  0.  3.  0.  0.  2.  0.  0.  0.  0.  0.  0.  1.]\n",
      " [ 0.  1.  0.  0.  5.  1.  1.  6.  1.  1.  0.  0.  0.  0.  0.  0.  0.  0.]\n",
      " [ 2.  1.  2.  0.  2.  1.  0.  3.  0.  2.  6.  2.  0.  0.  2.  0.  3.  6.]\n",
      " [ 0.  0.  1.  0.  2.  1.  0.  1.  4.  0.  1.  0.  0.  0.  6.  3.  0.  0.]\n",
      " [ 0.  4.  2.  2.  2.  3.  0.  7.  2.  3.  9.  3.  0.  3.  4.  4.  1.  0.]]\n"
     ]
    }
   ],
   "source": [
    "print(type_count_matrix)"
   ]
  },
  {
   "cell_type": "code",
   "execution_count": null,
   "metadata": {
    "colab": {
     "base_uri": "https://localhost:8080/",
     "height": 410
    },
    "id": "VRqLm0V1VI3e",
    "outputId": "7c780c05-236b-492c-aa5b-bb1ff49ccef5"
   },
   "outputs": [
    {
     "data": {
      "text/plain": [
       "<matplotlib.colorbar.Colorbar at 0x7f710f3fe890>"
      ]
     },
     "execution_count": 148,
     "metadata": {},
     "output_type": "execute_result"
    },
    {
     "data": {
      "image/png": "[encoded data removed]",
      "text/plain": [
       "<Figure size 576x432 with 2 Axes>"
      ]
     },
     "metadata": {},
     "output_type": "display_data"
    }
   ],
   "source": [
    "fig, ax = plt.subplots(figsize=(8,6), facecolor='w')\n",
    "im = ax.imshow(type_count_matrix, cmap='Spectral_r')\n",
    "ax.set_ylabel(\"First Pokemon Type\", fontsize=14); \n",
    "ax.set_xlabel(\"Second Pokemon Type\", fontsize=14)\n",
    "plt.colorbar(im, label=\"Frequency\")"
   ]
  },
  {
   "cell_type": "code",
   "execution_count": null,
   "metadata": {
    "colab": {
     "base_uri": "https://localhost:8080/",
     "height": 436
    },
    "id": "Pi9JjnCyTnJU",
    "outputId": "8da31b25-0047-4c8a-9ef2-44dcc8068415"
   },
   "outputs": [
    {
     "data": {
      "text/plain": [
       "<matplotlib.colorbar.Colorbar at 0x7f710f310f10>"
      ]
     },
     "execution_count": 149,
     "metadata": {},
     "output_type": "execute_result"
    },
    {
     "data": {
      "image/png": "[encoded data removed]",
      "text/plain": [
       "<Figure size 576x432 with 2 Axes>"
      ]
     },
     "metadata": {},
     "output_type": "display_data"
    }
   ],
   "source": [
    "fig, ax = plt.subplots(figsize=(8,6), facecolor='w')\n",
    "im = ax.imshow(type_count_matrix, cmap='Spectral_r')\n",
    "ax.set_ylabel(\"First Pokemon Type\", fontsize=14); \n",
    "ax.set_xlabel(\"Second Pokemon Type\", fontsize=14)\n",
    "plt.xticks(rotation=45)\n",
    "labels_type1 = np.unique(pokedataset['Type1'])\n",
    "labels_type2 = np.unique(pokedataset['Type2'])\n",
    "\n",
    "ticks_nums = np.arange(-0.5,len(labels_type1)+0.5, 1)\n",
    "plt.xticks(ticks_nums, labels_type1)\n",
    "plt.yticks(ticks_nums, labels_type2)\n",
    "plt.colorbar(im, label=\"Frequency\")"
   ]
  },
  {
   "cell_type": "markdown",
   "metadata": {
    "id": "4GdwNB2ASnmR"
   },
   "source": [
    "----"
   ]
  },
  {
   "cell_type": "markdown",
   "metadata": {
    "id": "gwcreCUfVc0a"
   },
   "source": [
    "#### 2.1.2.10. Practical part\n"
   ]
  },
  {
   "cell_type": "markdown",
   "metadata": {
    "id": "RtFxXZ0iV5SH"
   },
   "source": [
    "##### 2.1.2.10.1 Exercise\n",
    "1. Given a 2D array of size ($N \\times n)$ where $N$ is the number of neurons and $n$ the amount of spikes, make a raster plot by using `plot(times, neuron_id, marker='|', linestyle='')`. The x-axis correspond to spike times (in seconds, `ax.set_xlabel(Time (s))`) and y-axis correspond to the neuron id (i.e., `ax._set_ylabel(# Neuron)`)."
   ]
  },
  {
   "cell_type": "markdown",
   "metadata": {
    "id": "3ggFgCv9V-N9"
   },
   "source": [
    "##### 2.1.2.10.2 Solution"
   ]
  },
  {
   "cell_type": "code",
   "execution_count": null,
   "metadata": {
    "id": "Vx3FojSAbZOw"
   },
   "outputs": [],
   "source": [
    "import matplotlib.pyplot as plt"
   ]
  },
  {
   "cell_type": "code",
   "execution_count": null,
   "metadata": {
    "id": "c5pSuyPIWCMn"
   },
   "outputs": [],
   "source": [
    "# spike times array:\n",
    "spike_times = np.array([\n",
    "    [0.1, 0.3, 0.7],\n",
    "    [0.1, 0.12, 0.25, 0.6, 0.8],\n",
    "    [0.08, 0.28, 0.47, 0.51, 0.93]\n",
    "])"
   ]
  },
  {
   "cell_type": "code",
   "execution_count": null,
   "metadata": {
    "id": "vajzlZ54WAbv"
   },
   "outputs": [],
   "source": [
    "# your solution here :D\n",
    "\n",
    "# you want to know better the data structure? then run some simple functions to\n",
    "# check the `shape` (dimensions) of `spike_times`!\n",
    "\n",
    "# Some hints:\n",
    "\n",
    "# (1) First, try to print the spike times of the neuron 1 (id=0)\n",
    "# (2) Then, check if you can plot the spike times of neuron 2 (id=1)\n",
    "# (3) Imagine you do not have N=3 neurons but more (e.g., N=1000). \n",
    "#     Can you use a `for` statement to print the spike time of every neuron?\n",
    "# (4) Try plotting them. Notice that, for plt.plot(x,y), `x` and `y` are arrays\n",
    "#     with the same length. That means you  will have to indicate the neuron id\n",
    "#     in a different way.\n",
    "#     For example: x=[0.1, 0.3, 0.7] and y=[0, 0, 0] will represent every spike\n",
    "#     of the neuron id=0. Here, I repeated the neuron id as many times as the\n",
    "#     length of x."
   ]
  },
  {
   "cell_type": "markdown",
   "metadata": {
    "id": "NNXoHr66beak"
   },
   "source": [
    "----"
   ]
  },
  {
   "cell_type": "markdown",
   "metadata": {
    "id": "6VjecUp9bfaZ"
   },
   "source": [
    "### 2.1.3. Sci-kit Learn"
   ]
  },
  {
   "cell_type": "markdown",
   "metadata": {},
   "source": [
    "![](imgs/slides_d1/114.PNG)"
   ]
  },
  {
   "cell_type": "markdown",
   "metadata": {
    "id": "aP243SklbmNi"
   },
   "source": [
    "#### 2.1.3.1. Introduction"
   ]
  },
  {
   "cell_type": "markdown",
   "metadata": {
    "id": "19C2Ca91dXhd"
   },
   "source": [
    "Scikit-Learn is Python package for machine learning analysis.\n",
    "\n",
    "In this seminar we will explore a module of Scikit-learn. Specifically \"Manifold Learning\" algorithms. However, Scikit-Learn counts with many other modules.\n",
    "\n",
    "**Analysis modules:**\n",
    "\n",
    "+ Classicition.\n",
    "+ Regression.\n",
    "+ Clustering.\n",
    "+ Dimensionality Reduction.\n",
    "+ Model selection.\n",
    "+ Preprocessing.\n",
    "\n",
    "Yuo can check them in detail [here](https://scikit-learn.org/stable/)."
   ]
  },
  {
   "cell_type": "markdown",
   "metadata": {
    "id": "V2ir-InJbpzz"
   },
   "source": [
    "#### 2.1.3.2. Manifold learning with Scikit-Learn"
   ]
  },
  {
   "cell_type": "markdown",
   "metadata": {
    "id": "pMAlozyQb2u0"
   },
   "source": [
    "When we work with high-dimensional data (i.e., data that requires more than two or three dimensions to be represented) it can be very difficult to interpret its features.\n",
    "\n",
    "One simplification is to assume that the important information in such data actually lies in a lower-dimensional space. Methods that look to reduce such dimensionality are called _Manifold Learning_ algorithms (or Non-linear dimensionality reduction methods).\n",
    "\n",
    "Some examples of such methods are:\n",
    "+ Non-linear Principal Component Analysis.\n",
    "+ Laplacian Eigenmaps.\n",
    "+ Isomap.\n",
    "+ Locally-linear embedding.\n",
    "+ Autoencoders.\n",
    "+ t-Distributed Stochastic Neighbor Embedding (t-SNE).\n",
    "\n",
    "In this seminar we will use the last one to reduce the dimensionality of our datasets.\n",
    "\n"
   ]
  },
  {
   "cell_type": "markdown",
   "metadata": {
    "id": "0QIVcScpfbw-"
   },
   "source": [
    "#### 2.1.3.3. Application on MNIST digits dataset\n",
    "\n"
   ]
  },
  {
   "cell_type": "markdown",
   "metadata": {
    "id": "T2KgYRWXfqOV"
   },
   "source": [
    "The MNIST database contains handwritten digits. It is a subset of a larger set, widely used in Machine learning problems. The digits are size-normalized and centered in a fixed-size image.\n",
    "\n",
    "Let's see how to find Clusters in a 2D embedding using **t-SNE**."
   ]
  },
  {
   "cell_type": "code",
   "execution_count": null,
   "metadata": {
    "id": "9AWhsQnKbX7y"
   },
   "outputs": [],
   "source": [
    "# Importing modules\n",
    "from sklearn.manifold import TSNE\n",
    "import matplotlib.pyplot as plt\n",
    "from sklearn import datasets"
   ]
  },
  {
   "cell_type": "markdown",
   "metadata": {
    "id": "7LkYy89mgYJx"
   },
   "source": [
    "Let's briefly explore our data."
   ]
  },
  {
   "cell_type": "code",
   "execution_count": null,
   "metadata": {
    "id": "FhfEq-qgbX1R"
   },
   "outputs": [],
   "source": [
    "# loading digits\n",
    "digits = datasets.load_digits()"
   ]
  },
  {
   "cell_type": "code",
   "execution_count": null,
   "metadata": {
    "id": "oG3_2iRxbXsI"
   },
   "outputs": [],
   "source": [
    "# Take the first 500 data points: it's hard to see 1500 points\n",
    "X = digits.data[:500]\n",
    "y = digits.target[:500]\n",
    "images = digits.images[:500]"
   ]
  },
  {
   "cell_type": "code",
   "execution_count": null,
   "metadata": {
    "colab": {
     "base_uri": "https://localhost:8080/"
    },
    "id": "RgpjOhnIjk-y",
    "outputId": "f5663104-1ebf-44d3-c054-429f179bd666"
   },
   "outputs": [
    {
     "data": {
      "text/plain": [
       "(8, 8)"
      ]
     },
     "execution_count": 176,
     "metadata": {},
     "output_type": "execute_result"
    }
   ],
   "source": [
    "images[9].shape"
   ]
  },
  {
   "cell_type": "code",
   "execution_count": null,
   "metadata": {
    "colab": {
     "base_uri": "https://localhost:8080/",
     "height": 283
    },
    "id": "Nl0XXfKVgPrz",
    "outputId": "fe2892da-b05e-42eb-d97d-8bdc3352cbbd"
   },
   "outputs": [
    {
     "data": {
      "text/plain": [
       "<matplotlib.image.AxesImage at 0x7f70ff3cf090>"
      ]
     },
     "execution_count": 167,
     "metadata": {},
     "output_type": "execute_result"
    },
    {
     "data": {
      "image/png": "[encoded data removed]",
      "text/plain": [
       "<Figure size 288x288 with 1 Axes>"
      ]
     },
     "metadata": {},
     "output_type": "display_data"
    }
   ],
   "source": [
    "f, ax = plt.subplots(figsize=(4,4), facecolor='w')\n",
    "ax.imshow(images[9], cmap='Greys_r')"
   ]
  },
  {
   "cell_type": "markdown",
   "metadata": {
    "id": "rz9mQu7ZgXBi"
   },
   "source": [
    "**t-SNE application with 2 components**"
   ]
  },
  {
   "cell_type": "code",
   "execution_count": null,
   "metadata": {
    "id": "w9O50UGHgfgJ"
   },
   "outputs": [],
   "source": [
    "# defining our tSNE Model\n",
    "tsne = TSNE(n_components=2, random_state=0)"
   ]
  },
  {
   "cell_type": "code",
   "execution_count": null,
   "metadata": {
    "colab": {
     "base_uri": "https://localhost:8080/"
    },
    "id": "TgDAzNl8gh0o",
    "outputId": "a3e4737a-b483-4e9f-c5db-5660e98f5a06"
   },
   "outputs": [
    {
     "name": "stderr",
     "output_type": "stream",
     "text": [
      "/usr/local/lib/python3.7/dist-packages/sklearn/manifold/_t_sne.py:783: FutureWarning: The default initialization in TSNE will change from 'random' to 'pca' in 1.2.\n",
      "  FutureWarning,\n",
      "/usr/local/lib/python3.7/dist-packages/sklearn/manifold/_t_sne.py:793: FutureWarning: The default learning rate in TSNE will change from 200.0 to 'auto' in 1.2.\n",
      "  FutureWarning,\n"
     ]
    }
   ],
   "source": [
    "# Fit the model from data in X and transform X.\n",
    "my_embedding = tsne.fit_transform(X)"
   ]
  },
  {
   "cell_type": "markdown",
   "metadata": {
    "id": "0qOKKjVige-w"
   },
   "source": [
    "**Visualizing results**"
   ]
  },
  {
   "cell_type": "code",
   "execution_count": null,
   "metadata": {
    "id": "b1EtJ253metN"
   },
   "outputs": [],
   "source": [
    "def plot_embedding(emb, digits):\n",
    "    f, ax = plt.subplots(figsize=(5, 5), facecolor='w')\n",
    "    colors = 'r', 'g', 'b', 'c', 'm', 'y', 'k', 'brown', 'orange', 'purple'\n",
    "    target_ids = range(len(digits.target_names))\n",
    "    for i, c, label in zip(target_ids, colors, digits.target_names):\n",
    "        x_array = emb[y == i, 0]\n",
    "        y_array = emb[y == i, 1]\n",
    "        ax.scatter(x_array, y_array, c=c, label=label, alpha=0.6, s=15)\n",
    "    ax.set_xlabel(\"Component 1\", fontsize=14)\n",
    "    ax.set_ylabel(\"Component 2\", fontsize=14)\n",
    "    plt.legend(bbox_to_anchor=(1., 1.20), ncol=5, frameon=False)"
   ]
  },
  {
   "cell_type": "code",
   "execution_count": null,
   "metadata": {
    "colab": {
     "base_uri": "https://localhost:8080/",
     "height": 387
    },
    "id": "xAJZdZU7mmu9",
    "outputId": "2f224007-db42-49d6-b8f2-20fdbc49fe80"
   },
   "outputs": [
    {
     "data": {
      "image/png": "[encoded data removed]",
      "text/plain": [
       "<Figure size 360x360 with 1 Axes>"
      ]
     },
     "metadata": {},
     "output_type": "display_data"
    }
   ],
   "source": [
    "plot_embedding(my_embedding, digits)"
   ]
  },
  {
   "cell_type": "markdown",
   "metadata": {
    "id": "Ih-MUSXdhIzL"
   },
   "source": [
    "Great! We can find clusters depending of the MNIST digits image in an unsupervised fashion via t-SNE!"
   ]
  },
  {
   "cell_type": "markdown",
   "metadata": {
    "id": "XcevPDJmhY6b"
   },
   "source": [
    "#### 2.1.3.4. Practical part"
   ]
  },
  {
   "cell_type": "markdown",
   "metadata": {
    "id": "lS88By9cheZM"
   },
   "source": [
    "##### 2.1.3.4.1. Exercise"
   ]
  },
  {
   "cell_type": "markdown",
   "metadata": {
    "id": "AI07vhcBnbH3"
   },
   "source": [
    "Find a low-dimensional representations of MNIST digits by using any of the following methods:\n",
    "\n",
    "+ Isomap\n",
    "+ Multidimensional Scaling\n",
    "+ Spectral Embedding\n",
    "+ Locally Linear Embedding:\n",
    "  + Standard (`method='Standard'`)\n",
    "  + Hessian (`method='Hessian'`)\n",
    "  + Modified (`method='Modified'`)\n",
    "\n",
    "Check on [Scikit-learn documentation](https://scikit-learn.org/stable/modules/manifold.html) how to use such method. Make sure to indicate 2 components to get a 2D-embedding!\n",
    "\n",
    "More Scikit-learn examples [here](https://scikit-learn.org/stable/auto_examples/manifold/plot_compare_methods.html)."
   ]
  },
  {
   "cell_type": "markdown",
   "metadata": {
    "id": "gFKpKdIche2H"
   },
   "source": [
    "##### 2.1.3.4.3. Solution"
   ]
  },
  {
   "cell_type": "code",
   "execution_count": null,
   "metadata": {
    "id": "5wb8rz6ohnNu"
   },
   "outputs": [],
   "source": [
    "# your solution here :)"
   ]
  },
  {
   "cell_type": "markdown",
   "metadata": {
    "id": "D9Ri2bzaokGT"
   },
   "source": [
    "---"
   ]
  },
  {
   "cell_type": "markdown",
   "metadata": {
    "id": "ciXmiBjIbVH9"
   },
   "source": [
    "# Section 3: Application on Neural dataset!"
   ]
  },
  {
   "cell_type": "markdown",
   "metadata": {
    "id": "2RapqznmHT2F"
   },
   "source": [
    "## 3.1 About the dataset"
   ]
  },
  {
   "cell_type": "markdown",
   "metadata": {
    "id": "_LOvdn9_jKQW"
   },
   "source": [
    "## 3.1.1 Dataset description\n"
   ]
  },
  {
   "cell_type": "markdown",
   "metadata": {
    "id": "m8cKtGoGSAEV"
   },
   "source": [
    "+ Allen Brain Institute datasets. Ephys Neuropixels. \n",
    "+ Recordins from Six brain areas: Primary Visual cortex (V1), Posteromedial Visual Cortex (PM), Anteromedial Visual Cortex (AM), Lateromedial Visual Cortex (LM), Anterolateral Visual Cortex (AL), and Rostrolateral Visual Cortex (RL).\n",
    "+ 32 mice total.\n",
    "+ Visual task. Drifting gratings stimuli."
   ]
  },
  {
   "cell_type": "markdown",
   "metadata": {
    "id": "kNd1w5PoQM40"
   },
   "source": [
    "## 3.1.2 Download\n"
   ]
  },
  {
   "cell_type": "markdown",
   "metadata": {
    "id": "9sTsNFzzSLKN"
   },
   "source": [
    "\n",
    "Run the following cell:"
   ]
  },
  {
   "cell_type": "code",
   "execution_count": null,
   "metadata": {
    "colab": {
     "base_uri": "https://localhost:8080/"
    },
    "id": "1ffEn7rjQSbb",
    "outputId": "a9cdc67e-f93f-45df-87e8-38a697c33077"
   },
   "outputs": [
    {
     "name": "stdout",
     "output_type": "stream",
     "text": [
      "--2022-06-29 11:02:46--  https://github.com/bsotomayorg/Intro_HPC_GRADE/raw/main/datasets/AllenData/ii_spike_times.npy\n",
      "Resolving github.com (github.com)... 140.82.114.3\n",
      "Connecting to github.com (github.com)|140.82.114.3|:443... connected.\n",
      "HTTP request sent, awaiting response... 302 Found\n",
      "Location: https://raw.githubusercontent.com/bsotomayorg/Intro_HPC_GRADE/main/datasets/AllenData/ii_spike_times.npy [following]\n",
      "--2022-06-29 11:02:47--  https://raw.githubusercontent.com/bsotomayorg/Intro_HPC_GRADE/main/datasets/AllenData/ii_spike_times.npy\n",
      "Resolving raw.githubusercontent.com (raw.githubusercontent.com)... 185.199.108.133, 185.199.109.133, 185.199.110.133, ...\n",
      "Connecting to raw.githubusercontent.com (raw.githubusercontent.com)|185.199.108.133|:443... connected.\n",
      "HTTP request sent, awaiting response... 200 OK\n",
      "Length: 3200128 (3.1M) [application/octet-stream]\n",
      "Saving to: ‘ii_spike_times.npy’\n",
      "\n",
      "ii_spike_times.npy  100%[===================>]   3.05M  --.-KB/s    in 0.06s   \n",
      "\n",
      "2022-06-29 11:02:47 (47.1 MB/s) - ‘ii_spike_times.npy’ saved [3200128/3200128]\n",
      "\n",
      "--2022-06-29 11:02:47--  https://github.com/bsotomayorg/Intro_HPC_GRADE/raw/main/datasets/AllenData/spike_times.npy\n",
      "Resolving github.com (github.com)... 140.82.114.3\n",
      "Connecting to github.com (github.com)|140.82.114.3|:443... connected.\n",
      "HTTP request sent, awaiting response... 302 Found\n",
      "Location: https://raw.githubusercontent.com/bsotomayorg/Intro_HPC_GRADE/main/datasets/AllenData/spike_times.npy [following]\n",
      "--2022-06-29 11:02:48--  https://raw.githubusercontent.com/bsotomayorg/Intro_HPC_GRADE/main/datasets/AllenData/spike_times.npy\n",
      "Resolving raw.githubusercontent.com (raw.githubusercontent.com)... 185.199.108.133, 185.199.109.133, 185.199.110.133, ...\n",
      "Connecting to raw.githubusercontent.com (raw.githubusercontent.com)|185.199.108.133|:443... connected.\n",
      "HTTP request sent, awaiting response... 200 OK\n",
      "Length: 1229208 (1.2M) [application/octet-stream]\n",
      "Saving to: ‘spike_times.npy’\n",
      "\n",
      "spike_times.npy     100%[===================>]   1.17M  --.-KB/s    in 0.05s   \n",
      "\n",
      "2022-06-29 11:02:48 (24.6 MB/s) - ‘spike_times.npy’ saved [1229208/1229208]\n",
      "\n",
      "--2022-06-29 11:02:48--  https://github.com/bsotomayorg/Intro_HPC_GRADE/raw/main/datasets/AllenData/stim_label.npy\n",
      "Resolving github.com (github.com)... 140.82.114.3\n",
      "Connecting to github.com (github.com)|140.82.114.3|:443... connected.\n",
      "HTTP request sent, awaiting response... 302 Found\n",
      "Location: https://raw.githubusercontent.com/bsotomayorg/Intro_HPC_GRADE/main/datasets/AllenData/stim_label.npy [following]\n",
      "--2022-06-29 11:02:49--  https://raw.githubusercontent.com/bsotomayorg/Intro_HPC_GRADE/main/datasets/AllenData/stim_label.npy\n",
      "Resolving raw.githubusercontent.com (raw.githubusercontent.com)... 185.199.108.133, 185.199.109.133, 185.199.110.133, ...\n",
      "Connecting to raw.githubusercontent.com (raw.githubusercontent.com)|185.199.108.133|:443... connected.\n",
      "HTTP request sent, awaiting response... 200 OK\n",
      "Length: 1728 (1.7K) [application/octet-stream]\n",
      "Saving to: ‘stim_label.npy’\n",
      "\n",
      "stim_label.npy      100%[===================>]   1.69K  --.-KB/s    in 0s      \n",
      "\n",
      "2022-06-29 11:02:49 (20.0 MB/s) - ‘stim_label.npy’ saved [1728/1728]\n",
      "\n"
     ]
    }
   ],
   "source": [
    "! wget https://github.com/bsotomayorg/Intro_HPC_GRADE/raw/main/datasets/AllenData/ii_spike_times.npy\n",
    "! wget https://github.com/bsotomayorg/Intro_HPC_GRADE/raw/main/datasets/AllenData/spike_times.npy\n",
    "! wget https://github.com/bsotomayorg/Intro_HPC_GRADE/raw/main/datasets/AllenData/stim_label.npy"
   ]
  },
  {
   "cell_type": "code",
   "execution_count": null,
   "metadata": {
    "colab": {
     "base_uri": "https://localhost:8080/"
    },
    "id": "qOAgEJUpQaQM",
    "outputId": "247c2c6e-b4be-4c13-f24f-a4e10f6113d9"
   },
   "outputs": [
    {
     "name": "stdout",
     "output_type": "stream",
     "text": [
      "total 4.3M\n",
      "-rw-r--r-- 1 root root 3.1M Jun 29 11:02 ii_spike_times.npy\n",
      "drwxr-xr-x 1 root root 4.0K Jun 15 13:42 sample_data\n",
      "-rw-r--r-- 1 root root 1.2M Jun 29 11:02 spike_times.npy\n",
      "-rw-r--r-- 1 root root 1.7K Jun 29 11:02 stim_label.npy\n"
     ]
    }
   ],
   "source": [
    "! ls -lh "
   ]
  },
  {
   "cell_type": "markdown",
   "metadata": {
    "id": "urji0-I7onmx"
   },
   "source": [
    "You see the file names? Then the dataset was downloaded and we are ready to work."
   ]
  },
  {
   "cell_type": "markdown",
   "metadata": {
    "id": "OfQ6Y8R5HO89"
   },
   "source": [
    "## 3.1.3 Data Format description\n"
   ]
  },
  {
   "cell_type": "markdown",
   "metadata": {
    "id": "5OPzWG2cSTq_"
   },
   "source": [
    "We will work with $N=1000$ neurons.\n",
    "\n",
    "Three files (NumPy format):\n",
    "1. `spike_times`: `ndarray` that contains all the spike times.\n",
    "\n",
    "2. `ii_spike_times`: `ndarray` with size `(M, N, 2)`. `M` trials, `N` neurons, and 2. it contains the indices (`start` and `end`) of spikes to look at the `spike_times` array. For example: Spikes from the first neuron and third trial can be found and printed as:\n",
    "```python\n",
    "ini_index = ii_spike_times[0, 2, 0]\n",
    "end_index = ii_spike_times[0, 2, 1]\n",
    "print(spike_times[ini_index:end_index])\n",
    "```\n",
    "\n",
    "3. `stim_label`: `ndarray` that contains the orientation of the drifting gratings stimuli during visual task. Values: 0, 45, 90, and 135 (degrees)."
   ]
  },
  {
   "cell_type": "markdown",
   "metadata": {},
   "source": [
    "**Example**"
   ]
  },
  {
   "cell_type": "markdown",
   "metadata": {},
   "source": [
    "![](imgs/slides_d1/128.PNG)"
   ]
  },
  {
   "cell_type": "markdown",
   "metadata": {
    "id": "U6fl8oeiJdMR"
   },
   "source": [
    "## 3.2. The Task: Decoding spiking activity in mice’s visual cortex"
   ]
  },
  {
   "cell_type": "markdown",
   "metadata": {
    "id": "Gt2_xJbq3gcw"
   },
   "source": [
    "### 3.2.1. Exercises"
   ]
  },
  {
   "cell_type": "markdown",
   "metadata": {
    "id": "H1GD7Db4i0_e"
   },
   "source": [
    "1. Load the three files. Make sure your files are the path you indicate. When you load them, check their `shape`, and print the spike times for the first neuron and first trial (i.e., a neuron with index 0 and trial with index 0).\n",
    "\n",
    "2. Exploratory analysis: create a function to visualize a raster with the spike times of every neuron (y-axis) across time (x-axis). Don't forget to add x- and y-labels. Use `plt.plot(, marker='|', ls='')`. \n",
    "\n",
    "3. Create a matrix with shape MxN (#trials times # neurons). Use this matrix to store the number of spikes per neuron and trial (ie., Firing rates matrix). Plot it using `plt.imshow()`\n",
    "\n",
    "4. Create a function that returns the pairwise euclidean distance between every pair of trials of a `MxN` input matrix. For example, $FR_i$ and $FR_j$ are two firing rate vectors with length $N=1000$ (trials $i$ and $j$, respectively). Thus, the euclidean distance $d_{euc}$ has be computed as $d_{euc} = \\sqrt{\\sum_n^{N=1000}{(FR_{i,n}-FR_{j,n})}}$.\n",
    "\n",
    "5. Compute t-SNE embedding. Define your t-SNE model as `TSNE(metric='precomputed', n_components=2, random_state=0).fit_transform(euc_diss)`, as `euc_diss` your euclidean distance matrix. Finally, print the shape.\n",
    "\n",
    "6. Visualize the point of your t-SNE embedding. use `plt.scatter` to plot the points and use the `stim_label` values to color each point (i.e., `plt.scatter(x, y, c=stim_label)`). `stim_label` stores the orientation of stimuli. Don't forget to add x- and y-labels as \"Component 1\" and \"Component 2\", respectively. Finally, add a colorbar!\n",
    "\n",
    "7. Can you explain the results?"
   ]
  },
  {
   "cell_type": "markdown",
   "metadata": {
    "id": "NeJ3q-CIJo3x"
   },
   "source": [
    "----"
   ]
  },
  {
   "cell_type": "markdown",
   "metadata": {
    "id": "CVvZB7kRTwv2"
   },
   "source": [
    "### 3.2.2. Solutions"
   ]
  },
  {
   "cell_type": "markdown",
   "metadata": {
    "id": "yWzSK6KdHpjU"
   },
   "source": [
    "**Importing libs**"
   ]
  },
  {
   "cell_type": "code",
   "execution_count": null,
   "metadata": {
    "id": "_ZG4-ElFGyOF"
   },
   "outputs": [],
   "source": [
    "import numpy as np\n",
    "import matplotlib.pyplot as plt\n",
    "from sklearn.manifold import TSNE\n",
    "\n",
    "from pylab import cm\n",
    "my_cmap = cm.get_cmap('viridis', 4) # Spectral_r"
   ]
  },
  {
   "cell_type": "markdown",
   "metadata": {
    "id": "QwhKICs4HLrG"
   },
   "source": [
    "**Loading files**"
   ]
  },
  {
   "cell_type": "code",
   "execution_count": null,
   "metadata": {
    "id": "H0J9HfsQ3oN4"
   },
   "outputs": [],
   "source": [
    "ii_spike_times = np.load(\"ii_spike_times.npy\")\n",
    "spike_times    = np.load(\"spike_times.npy\")\n",
    "stim_label     = np.load(\"stim_label.npy\")"
   ]
  },
  {
   "cell_type": "code",
   "execution_count": null,
   "metadata": {
    "colab": {
     "base_uri": "https://localhost:8080/"
    },
    "id": "HUPL8KwNGzme",
    "outputId": "d03d614c-efe8-4aac-d3a1-5d778e06c25f"
   },
   "outputs": [
    {
     "name": "stdout",
     "output_type": "stream",
     "text": [
      "(200, 1000, 2)\n"
     ]
    }
   ],
   "source": [
    "print(ii_spike_times.shape)"
   ]
  },
  {
   "cell_type": "code",
   "execution_count": null,
   "metadata": {
    "id": "2QAR47JVG05w"
   },
   "outputs": [],
   "source": [
    "n_trials = ii_spike_times.shape[0]\n",
    "n_neurons = ii_spike_times.shape[1]"
   ]
  },
  {
   "cell_type": "markdown",
   "metadata": {
    "id": "0dYskP0zHNx0"
   },
   "source": [
    "**Raster plot**"
   ]
  },
  {
   "cell_type": "code",
   "execution_count": null,
   "metadata": {
    "colab": {
     "base_uri": "https://localhost:8080/",
     "height": 247
    },
    "id": "tiaLomjmG2s8",
    "outputId": "8d419fd1-7ddf-4a46-ac2c-1b2a42be5824"
   },
   "outputs": [
    {
     "data": {
      "text/plain": [
       "Text(0, 0.5, '# Neuron')"
      ]
     },
     "execution_count": 9,
     "metadata": {},
     "output_type": "execute_result"
    },
    {
     "data": {
      "image/png": "[encoded data removed]",
      "text/plain": [
       "<Figure size 576x216 with 1 Axes>"
      ]
     },
     "metadata": {},
     "output_type": "display_data"
    }
   ],
   "source": [
    "plt.figure(figsize=(8,3), facecolor='w')\n",
    "for i_N in range(n_neurons):\n",
    "    st = spike_times[ii_spike_times[0,i_N,0]:ii_spike_times[0,i_N,1]]\n",
    "    plt.plot(st, np.ones(shape=len(st))*i_N, marker='|', ls='', color='k')\n",
    "plt.xlabel(\"Time (s)\", fontsize=14)\n",
    "plt.ylabel(\"# Neuron\", fontsize=14)"
   ]
  },
  {
   "cell_type": "markdown",
   "metadata": {
    "id": "AkVQywGtHP64"
   },
   "source": [
    "**Computing matrix ($M \\times N$)**"
   ]
  },
  {
   "cell_type": "code",
   "execution_count": null,
   "metadata": {
    "id": "-MbjhtQTG2mN"
   },
   "outputs": [],
   "source": [
    "mat_trial_by_neurons = np.zeros(shape=(n_trials, n_neurons))\n",
    "for i_M in range(n_trials):\n",
    "  for i_N in range(n_neurons):\n",
    "    st = spike_times[ii_spike_times[i_M,i_N,0]:ii_spike_times[i_M,i_N,1]]\n",
    "    mat_trial_by_neurons[i_M, i_N] = len(st)"
   ]
  },
  {
   "cell_type": "markdown",
   "metadata": {
    "id": "OrRp1YqOHXR1"
   },
   "source": [
    "**Visualization of our $M\\timesN$ firing rates matrix**"
   ]
  },
  {
   "cell_type": "code",
   "execution_count": null,
   "metadata": {
    "colab": {
     "base_uri": "https://localhost:8080/",
     "height": 287
    },
    "id": "XhVhVbQPG48V",
    "outputId": "f624fae8-3014-44f6-9b08-7b1534e50870"
   },
   "outputs": [
    {
     "data": {
      "text/plain": [
       "<matplotlib.image.AxesImage at 0x7f14e7138a10>"
      ]
     },
     "execution_count": 11,
     "metadata": {},
     "output_type": "execute_result"
    },
    {
     "data": {
      "image/png": "[encoded data removed]",
      "text/plain": [
       "<Figure size 432x288 with 1 Axes>"
      ]
     },
     "metadata": {},
     "output_type": "display_data"
    }
   ],
   "source": [
    "f, ax = plt.subplots(figsize=(6,4), facecolor='w')\n",
    "ax.imshow(np.log10(mat_trial_by_neurons+1), cmap='viridis', aspect='auto')"
   ]
  },
  {
   "cell_type": "markdown",
   "metadata": {
    "id": "sYCDgV3kHZid"
   },
   "source": [
    "**Computing the euclidean pairwise distances between firing rate vectors**"
   ]
  },
  {
   "cell_type": "code",
   "execution_count": null,
   "metadata": {
    "id": "GXXthF4KG7uu"
   },
   "outputs": [],
   "source": [
    "euc_diss = np.zeros(shape=(n_trials, n_trials))\n",
    "for i_e0 in range(mat_trial_by_neurons.shape[0]):\n",
    "    for i_e1 in range(1+i_e0, mat_trial_by_neurons.shape[0]):\n",
    "        for i_N in range(mat_trial_by_neurons.shape[1]):\n",
    "            euc_diss[i_e0, i_e1] += (mat_trial_by_neurons[i_e0, i_N]-mat_trial_by_neurons[i_e1, i_N])**2\n",
    "        euc_diss[i_e1, i_e0] = euc_diss[i_e0, i_e1]\n",
    "euc_diss = np.sqrt(euc_diss)"
   ]
  },
  {
   "cell_type": "markdown",
   "metadata": {
    "id": "Ou6F2LHnH3il"
   },
   "source": [
    "**Visualization of pairwise distances**"
   ]
  },
  {
   "cell_type": "code",
   "execution_count": null,
   "metadata": {
    "colab": {
     "base_uri": "https://localhost:8080/",
     "height": 287
    },
    "id": "fjz73OkSG-TF",
    "outputId": "1726af0f-00c9-4422-ee47-9887215162fe"
   },
   "outputs": [
    {
     "data": {
      "text/plain": [
       "<matplotlib.image.AxesImage at 0x7f14e60c9490>"
      ]
     },
     "execution_count": 13,
     "metadata": {},
     "output_type": "execute_result"
    },
    {
     "data": {
      "image/png": "[encoded data removed]",
      "text/plain": [
       "<Figure size 432x288 with 1 Axes>"
      ]
     },
     "metadata": {
      "needs_background": "light"
     },
     "output_type": "display_data"
    }
   ],
   "source": [
    "plt.imshow(euc_diss, cmap='PuBu')"
   ]
  },
  {
   "cell_type": "markdown",
   "metadata": {
    "id": "u3-Hh3GiH8C1"
   },
   "source": [
    "**Manifold Learning (t-SNE)**"
   ]
  },
  {
   "cell_type": "code",
   "execution_count": null,
   "metadata": {
    "colab": {
     "base_uri": "https://localhost:8080/"
    },
    "id": "nmzKtn66G_w9",
    "outputId": "ad7afa62-dc9d-490e-81c0-4f2d1771bf16"
   },
   "outputs": [
    {
     "name": "stderr",
     "output_type": "stream",
     "text": [
      "/usr/local/lib/python3.7/dist-packages/sklearn/manifold/_t_sne.py:783: FutureWarning: The default initialization in TSNE will change from 'random' to 'pca' in 1.2.\n",
      "  FutureWarning,\n",
      "/usr/local/lib/python3.7/dist-packages/sklearn/manifold/_t_sne.py:793: FutureWarning: The default learning rate in TSNE will change from 200.0 to 'auto' in 1.2.\n",
      "  FutureWarning,\n",
      "/usr/local/lib/python3.7/dist-packages/sklearn/manifold/_t_sne.py:827: FutureWarning: 'square_distances' has been introduced in 0.24 to help phase out legacy squaring behavior. The 'legacy' setting will be removed in 1.1 (renaming of 0.26), and the default setting will be changed to True. In 1.3, 'square_distances' will be removed altogether, and distances will be squared by default. Set 'square_distances'=True to silence this warning.\n",
      "  FutureWarning,\n"
     ]
    }
   ],
   "source": [
    "emb      = TSNE(metric='precomputed', n_components=2, random_state=0).fit_transform(euc_diss)"
   ]
  },
  {
   "cell_type": "code",
   "execution_count": null,
   "metadata": {
    "colab": {
     "base_uri": "https://localhost:8080/"
    },
    "id": "EmWfUS43HCwn",
    "outputId": "0e9115f6-d93e-41e3-a8f7-615aabc916d6"
   },
   "outputs": [
    {
     "data": {
      "text/plain": [
       "(200, 2)"
      ]
     },
     "execution_count": 15,
     "metadata": {},
     "output_type": "execute_result"
    }
   ],
   "source": [
    "emb.shape"
   ]
  },
  {
   "cell_type": "markdown",
   "metadata": {
    "id": "o-yH316KIA-t"
   },
   "source": [
    "**Visualization of 2D t-SNE embeddings**"
   ]
  },
  {
   "cell_type": "code",
   "execution_count": null,
   "metadata": {
    "colab": {
     "base_uri": "https://localhost:8080/",
     "height": 339
    },
    "id": "8Po2Ouo8HEjf",
    "outputId": "ba605558-df6a-45fc-a3b9-715a930773a4"
   },
   "outputs": [
    {
     "data": {
      "image/png": "[encoded data removed]",
      "text/plain": [
       "<Figure size 432x360 with 2 Axes>"
      ]
     },
     "metadata": {},
     "output_type": "display_data"
    }
   ],
   "source": [
    "fs = 15\n",
    "plt.figure(figsize=(6,5), facecolor='w'); \n",
    "plt.scatter(emb[:,0], emb[:,1], c=stim_label, cmap=my_cmap, vmin=-22.5, vmax=157.5,); \n",
    "cbar = plt.colorbar()\n",
    "cbar.set_label(\"Orientation\", size=fs)\n",
    "cbar.set_ticks([0,45,90, 135])\n",
    "cbar.set_ticklabels([0,45,90, 135])\n",
    "plt.xlabel(\"Component 1\", fontsize=fs); plt.ylabel(\"Component 2\", fontsize=fs); "
   ]
  },
  {
   "cell_type": "markdown",
   "metadata": {
    "id": "vybpQLWdtKye"
   },
   "source": [
    "---"
   ]
  },
  {
   "cell_type": "markdown",
   "metadata": {
    "id": "xGrMrcR6tCr7"
   },
   "source": [
    "### 3.2.3. Bonus\n",
    "\n",
    "8. Let's reduce the amount of neurons involves in each decoding analysis. Create another variable and store there the result the euclidean distance between all pair of firing rate vectors for **$N=100$ neurons only**.\n",
    "\n",
    "9. Project the dissimilarity matrix using t-SNE manifold algorithm as before but for this new dissimilarity matrix that considers only $N=100$ neurons.\n",
    "\n",
    "10. For both embeddings ($N_1=1000$ and $N_2=100$) Use *KMeans* with `n=4`. Visualize the embedding but change the `c` parameter by your kmeans clusters and compare those results.\n"
   ]
  },
  {
   "cell_type": "markdown",
   "metadata": {
    "id": "09qy_n-NtFaz"
   },
   "source": [
    "11. Use *Adjusted Rand Index* `ARI` to evaluate the clustering performance. It computes a similarity measure between two vectors of labels (clusters) and it returns 1.0 when clusterings are identical (great clustering performance). If the result is close to 0.0 it means that the clustering was close to random (bad clustering performance).\n",
    "\n",
    "+ 11.1. Import this metric as `from sklearn.metrics import adjusted_rand_score as ARI`.\n",
    "+ 11.2. run ARI for both kmeans vectors. ARI will measure the clustering performance by comparing the true labels (i.e., `stim_labels`) and the ones we get from our clustering method (kmeans). \n",
    "\n",
    "  Example, if `kmean_labels_N100` and `kmean_labels_N1000` store the Kmean labels for $N_1=100$ and $N_2=1000$, compute ARI as `ARI_100 = ARI(kmean_labels_N100, stim_labels)` and `ARI_1000 = ARI(kmean_labels_N1000, stim_labels)`, respectively. \n",
    "\n",
    "+ 12. Is there any difference? What can you conclude?\n"
   ]
  },
  {
   "cell_type": "markdown",
   "metadata": {
    "id": "AlRlIWIAsJ-B"
   },
   "source": [
    "----"
   ]
  },
  {
   "cell_type": "markdown",
   "metadata": {
    "id": "gGJfhs2-zDzX"
   },
   "source": [
    "# References"
   ]
  },
  {
   "cell_type": "markdown",
   "metadata": {
    "id": "M-wXnSxkzIj_"
   },
   "source": [
    "## I. Scientific articles and books"
   ]
  },
  {
   "cell_type": "markdown",
   "metadata": {
    "id": "4W2Al36ZzIeN"
   },
   "source": [
    "+ Sosulski, K. (2018). Data visualization made simple: insights into becoming visual. Routledge\n",
    "+ Merino, L., Sotomayor-Gómez, B., Yu, X., Salgado, R., Bergel, A., Sedlmair, M., & Weiskopf, D. (2020). Toward Agile Situated Visualization: An Exploratory User Study. Extended Abstracts of the 2020 CHI Conference on Human Factors in Computing Systems. DOI: 10.1145/3334480.3383017.\n",
    "+ Siegle, J. H., Jia, X., Durand, S., Gale, S., Bennett, C., Graddis, N., … & Koch, C. (2021). Survey of spiking in the mouse visual system reveals functional hierarchy. Nature, 592(7852), 86-92. DOI: 10.1038/s41586-020-03171-x.\n",
    "+ Sotomayor-Gómez, Boris; Battaglia, Francesco P.; Vinck, Martin. SpikeShip: A method for fast, unsupervised discovery of high-dimensional neural spiking patterns.\n",
    "+ Harris, C. R., Millman, K. J., Van Der Walt, S. J., Gommers, R., Virtanen, P., Cournapeau, D., ... & Oliphant, T. E. (2020). Array programming with NumPy. Nature, 585(7825), 357-362. DOI: 10.1038/s41586-020-2649-2.\n",
    "\n"
   ]
  },
  {
   "cell_type": "markdown",
   "metadata": {
    "id": "vwl6FQIVzzAg"
   },
   "source": [
    "## II. Web Tutorials, blogs and articles"
   ]
  },
  {
   "cell_type": "markdown",
   "metadata": {
    "id": "G0vp2qKMzIOV"
   },
   "source": [
    "+ RealPython. real Python Tutorials. https://realpython.com/.\n",
    "+ GeeksforGeeks. Python Programming Language. https://www.geeksforgeeks.org/python-programming-language/.\n",
    "+ Jack Daniel. Data processing in machine learning. Medium. https://medium.com/analytics-vidhya/data-preprocessing-in-machine-learning-model-3af34d0f3ceb.\n",
    "+ Data-flair. https://data-flair.training/blogs/python-libraries/.\n",
    "+ Tableau. What Is Data Visualization? Definition, Examples, And Learning Resources. https://www.tableau.com/learn/articles/data-visualization.\n",
    "+ SplashBI. Importance, Purpose, and Benefit of Data Visualization Tools! https://splashbi.com/importance-purpose-benefit-of-data-visualization-tools/.\n",
    "+ Memgraph. Exploring a Twitter Network with Memgraph in a Jupyter Notebook . https://memgraph.com/blog/jupyter-notebook-twitter-network-analysis.\n"
   ]
  },
  {
   "cell_type": "markdown",
   "metadata": {
    "id": "k8GBK4EI0AGV"
   },
   "source": [
    "## III. Web images and icons"
   ]
  },
  {
   "cell_type": "markdown",
   "metadata": {
    "id": "9YdkDZR80Gu1"
   },
   "source": [
    "+ Fiylo. http://www.fiylo.de\n",
    "+ Syracuse University web-platform. Kid-Friendly Coding Languages and Learning Tools. https://onlinegrad.syracuse.edu/blog/kid-friendly-coding-languages/.\n",
    "+ TheValuable.de. Difference between compiler and interpreter. https://thevaluable.dev/difference-between-compiler-interpreter/.\n",
    "+ Jack Daniel. Medium. Data Preprocessing in Machine Learning Model. https://medium.com/analytics-vidhya/data-preprocessing-in-machine-learning-model-3af34d0f3ceb. \n",
    "+ MyMasterDesigner.com. Exploratory data analysis (EDA) with Python. https://mymasterdesigner.com/2021/05/30/exploratory-data-analysis-eda-with-python/. \n",
    "+ FlatIcon (https://www.flaticon.com/). (Awesome webpage with free download icons 🖤).\n"
   ]
  },
  {
   "cell_type": "markdown",
   "metadata": {
    "id": "pZogGqAW6JS3"
   },
   "source": [
    "## IV. Additional Resources"
   ]
  },
  {
   "cell_type": "markdown",
   "metadata": {
    "id": "AHXooj49K12T"
   },
   "source": [
    "+ Sundnes, J. (2020). Introduction to Scientific Programming with Python (p. 148). Springer Nature. DOI: [10.1007/978-3-030-50356-7](https://doi.org/10.1007/978-3-030-50356-7).\n",
    "+ Stephen Fordham, \"How to use decorators in python by example\". Towards Data Science. https://towardsdatascience.com/how-to-use-decorators-in-python-by-example-b398328163b.\n",
    "\n",
    "+ Teclado ([Youtube channel](https://www.youtube.com/channel/UCINg1S61mpN7dZW8vR2ikCw)).\n",
    "+ Python exercises. w3resourse. [https://www.w3resource.com/python-exercises/](https://www.w3resource.com/python-exercises/).\n"
   ]
  },
  {
   "cell_type": "markdown",
   "metadata": {
    "id": "-JZcx5jK0st3"
   },
   "source": [
    "----\n",
    "\n",
    "Day #1 of the summer course \"_Introduction to High-Performance Computing in Python for Scientists!_\". \n",
    "\n",
    "\n",
    "[Goethe Research Academy for Early Career Researchers (GRADE)](https://www.goethe-university-frankfurt.de/), Goethe University Frankfurt, Germany. June 2022.\n",
    "\n",
    "---"
   ]
  }
 ],
 "metadata": {
  "colab": {
   "collapsed_sections": [],
   "name": "TCR-HPC-D1_github - Scientific Computing with Python.ipynb",
   "provenance": [],
   "toc_visible": true
  },
  "kernelspec": {
   "display_name": "Python 3",
   "language": "python",
   "name": "python3"
  },
  "language_info": {
   "codemirror_mode": {
    "name": "ipython",
    "version": 3
   },
   "file_extension": ".py",
   "mimetype": "text/x-python",
   "name": "python",
   "nbconvert_exporter": "python",
   "pygments_lexer": "ipython3",
   "version": "3.8.5"
  }
 },
 "nbformat": 4,
 "nbformat_minor": 1
}
