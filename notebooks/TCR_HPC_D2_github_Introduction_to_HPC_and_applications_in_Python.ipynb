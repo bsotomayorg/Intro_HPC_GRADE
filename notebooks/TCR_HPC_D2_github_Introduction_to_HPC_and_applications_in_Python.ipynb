{
 "cells": [
  {
   "cell_type": "markdown",
   "metadata": {
    "id": "Mgzxn85UdDlq"
   },
   "source": [
    "# Section 1: Introduction to High-Performance Computing on Multi-CPU cores"
   ]
  },
  {
   "cell_type": "markdown",
   "metadata": {
    "id": "7t6iWKto4fo6"
   },
   "source": [
    "So far, we have been writing algorithms that are executed step-by-step.\n",
    "\n",
    "Then, every line we write, the Python Interpreted converts it into Machine code and such instructions are executed by one single CPU processor."
   ]
  },
  {
   "cell_type": "markdown",
   "metadata": {
    "id": "IfKE9JGivEgV"
   },
   "source": [
    "## 1.1 What's a CPU?\n"
   ]
  },
  {
   "cell_type": "markdown",
   "metadata": {
    "id": "WpitZqS74ZoA"
   },
   "source": [
    "Its names comes from **C**entral **P**rocessing **U**nit.\n",
    "\n",
    "It is the responsible for executing every instruction that it is given, handling the processing of _logical_ and _mathematical_ operations.\n",
    "\n",
    "In short, the main tasks for a CPU are:\n",
    "+ Reading each instruction from memory. The CPU and RAM constantly work together. This is also called reading from memory.\n",
    "+ Decoding or translating instructions in a way it can understand (Machine code).\n",
    "+ Executing and carrying out the given instructions.\n",
    "+ Storying the result of an execution back to memory (writing to memory).\n",
    "\n",
    "\n",
    "\n"
   ]
  },
  {
   "cell_type": "markdown",
   "metadata": {
    "id": "wY_Y-EII119L"
   },
   "source": [
    "## 1.2. The power of low-level compilers"
   ]
  },
  {
   "cell_type": "markdown",
   "metadata": {
    "id": "IwTa-cTZ5x9G"
   },
   "source": [
    "### 1.2.1. Just-In-Time Compilation"
   ]
  },
  {
   "cell_type": "markdown",
   "metadata": {
    "id": "ZZRpVOTfO7uZ"
   },
   "source": [
    "![](imgs/slides_d2/028.PNG)"
   ]
  },
  {
   "cell_type": "markdown",
   "metadata": {
    "id": "VOfyaGF-5362"
   },
   "source": [
    "+ Just-in-time (JIT) compilation is a way of executing computer code that involves compilation during *execution of a program* rather than before execution. \n",
    "\n",
    "+ JIT compilation combines the speed of compiled code with the versability and flexibility of interpretation."
   ]
  },
  {
   "cell_type": "markdown",
   "metadata": {
    "id": "2qKparhL58JW"
   },
   "source": [
    "### 1.2.2. Numba to the rescue"
   ]
  },
  {
   "cell_type": "markdown",
   "metadata": {
    "id": "XnFUZKhU57uf"
   },
   "source": [
    "#### 1.2.2.1. What's Numba?\n"
   ]
  },
  {
   "cell_type": "markdown",
   "metadata": {
    "id": "CLPXft4VOyTP"
   },
   "source": [
    "![](imgs/slides_d2/030.PNG)"
   ]
  },
  {
   "cell_type": "markdown",
   "metadata": {
    "id": "L51fVYEKS1XW"
   },
   "source": [
    "Numba is a High-Performance compiler for Python. It translates a subset of Python and NumPy functions into low-level code for speed.\n",
    "\n",
    "Numba is best used for loops, numpy arrays operations and functions.\n",
    "\n",
    "Some of its properties are:\n",
    "1. Compile Python code into an intermediate code readable for LLVM (Low Level Virtual Machine).\n",
    "2. Vectorize functions.\n",
    "3. Run functions in parallel both Multi-CPU and GPU cores.\n",
    "4. Easy to use thanks to decorators.\n",
    "\n",
    "Here, we want to gain speed without having to change many lines in our programs. \n",
    "\n",
    "Due to Python is a high-level language, we will try to generate a low-level intermediate language through compilation 💡.\n",
    "\n",
    "Let's see how it works."
   ]
  },
  {
   "cell_type": "markdown",
   "metadata": {
    "id": "N8uPvEug58Zn"
   },
   "source": [
    "#### 1.2.2.2. Numba's `@decorators`"
   ]
  },
  {
   "cell_type": "markdown",
   "metadata": {
    "id": "6ZDU5JO6P9n2"
   },
   "source": [
    "Remember : Decorators allow us to modify functions and extend their use. \n",
    "\n",
    "We can compile our Python code by using Numba's decorators. In fact, when we call a Numba-decorated function _it is compiled to machine code \"just-in-time\"_ for execution.\n",
    "\n",
    "In this way, our code can really run close to machine code speed!"
   ]
  },
  {
   "cell_type": "markdown",
   "metadata": {
    "id": "pSPEXAJC6Fwh"
   },
   "source": [
    "#### 1.2.2.3. `nopython` mode"
   ]
  },
  {
   "cell_type": "markdown",
   "metadata": {
    "id": "SYKxRDR36eRp"
   },
   "source": [
    "The Numba @jit decorator fundamentally operates in two compilation modes, nopython mode and object mode.\n",
    "\n",
    "If we define the `@jit` decorator with the parameter `nopython=True`, the decorated function will run enterily without the involvement of the Python Interpreter.\n",
    "\n",
    "This is the recommended and best-practice way.\n",
    "\n",
    "(_source: [Numba](https://numba.pydata.org/)_).\n"
   ]
  },
  {
   "cell_type": "markdown",
   "metadata": {
    "id": "iK1siPzGxPCm"
   },
   "source": [
    "##### 1.2.2.3.1. Example: Using a JIT decorator"
   ]
  },
  {
   "cell_type": "markdown",
   "metadata": {
    "id": "HJh1xael7mCC"
   },
   "source": [
    "Let's compare a compiled version of my_sum with the one that executed by the Python Interpreter."
   ]
  },
  {
   "cell_type": "code",
   "execution_count": null,
   "metadata": {
    "id": "ltRYWK97xSHs"
   },
   "outputs": [],
   "source": [
    "from numba import jit\n",
    "import numpy as np"
   ]
  },
  {
   "cell_type": "code",
   "execution_count": null,
   "metadata": {
    "id": "C2A_z1HZxmIW"
   },
   "outputs": [],
   "source": [
    "def my_py_sum(x):\n",
    "    result = 0\n",
    "    for i in range(len(x)):\n",
    "        result = result + x[i]\n",
    "    return result"
   ]
  },
  {
   "cell_type": "code",
   "execution_count": null,
   "metadata": {
    "id": "Yv0-JmaexN4k"
   },
   "outputs": [],
   "source": [
    "@jit(nopython=True)\n",
    "def my_njit_sum(x):\n",
    "    result = 0\n",
    "    for i in range(len(x)):\n",
    "        result = result + x[i]\n",
    "    return result"
   ]
  },
  {
   "cell_type": "code",
   "execution_count": null,
   "metadata": {
    "id": "PwjwtVnLxsv1"
   },
   "outputs": [],
   "source": [
    "# generating data\n",
    "x = np.random.randint(10, size=100_000)"
   ]
  },
  {
   "cell_type": "markdown",
   "metadata": {
    "id": "zBmfduNK74jb"
   },
   "source": [
    "Let's compare execution times !"
   ]
  },
  {
   "cell_type": "code",
   "execution_count": null,
   "metadata": {
    "colab": {
     "base_uri": "https://localhost:8080/"
    },
    "id": "Me0lGEOyxp8W",
    "outputId": "def67ac2-d8d9-4817-d832-1bcac47a34f7"
   },
   "outputs": [
    {
     "name": "stdout",
     "output_type": "stream",
     "text": [
      "100 loops, best of 5: 16.6 ms per loop\n"
     ]
    }
   ],
   "source": [
    "%timeit my_py_sum(x)"
   ]
  },
  {
   "cell_type": "code",
   "execution_count": null,
   "metadata": {
    "colab": {
     "base_uri": "https://localhost:8080/"
    },
    "id": "h6mJznuBx2VW",
    "outputId": "602ff7d7-2f7c-420d-916f-af5809e30a0d"
   },
   "outputs": [
    {
     "name": "stdout",
     "output_type": "stream",
     "text": [
      "The slowest run took 11276.69 times longer than the fastest. This could mean that an intermediate result is being cached.\n",
      "100000 loops, best of 5: 12.5 µs per loop\n"
     ]
    }
   ],
   "source": [
    "%timeit my_njit_sum(x)"
   ]
  },
  {
   "cell_type": "markdown",
   "metadata": {
    "id": "zk4nUC0E6FoL"
   },
   "source": [
    "#### 1.2.2.4. Exercise (`nopython` mode)\n",
    "\n",
    "1. Given two methods `py_sum(x,y)` and `np.sum(x,y)`, creates a method `numba_sum(x,y)` that computes the L1-distance of each element of two input arrays `x` and `y` with lengths $N$ (i.e., $\\sum_{i=0}^{N-1} |x_i - y_i|$). \n",
    "\n",
    "   Be sure of _using Python's built-in functions only_ for the `numba_sum(x,y)` function. \n",
    "   \n",
    "   Finally, measure their computational time for every method and compare them!\n",
    "\n",
    "2. **(Bonus):** Run 10 repetitions of the same computation, store those computation times, and show the mean and standard deviation for `py_sum(x)`, `np.sum(x)`, and`numba_sum(x)`.\n"
   ]
  },
  {
   "cell_type": "code",
   "execution_count": null,
   "metadata": {
    "id": "bhk-GAJ0L7b_"
   },
   "outputs": [],
   "source": [
    "import numpy as np\n",
    "from numba import jit\n",
    "import time"
   ]
  },
  {
   "cell_type": "code",
   "execution_count": null,
   "metadata": {
    "id": "AqlWHfKsMtPR"
   },
   "outputs": [],
   "source": [
    "# Generating 1M random numbers from (0,9).\n",
    "x = np.random.randint(10, size=1_000_000) \n",
    "y = np.random.randint(10, size=1_000_000) "
   ]
  },
  {
   "cell_type": "code",
   "execution_count": null,
   "metadata": {
    "id": "sh475HwNL5Fi"
   },
   "outputs": [],
   "source": [
    "def py_sum(x, y):\n",
    "  N = len(x)\n",
    "  # creating a list of N elements\n",
    "  result = 0 #[ 0 for _ in range(len(N))]\n",
    "  for i in range(N):\n",
    "    result = result + abs(x[i] - y[i])\n",
    "  return result"
   ]
  },
  {
   "cell_type": "code",
   "execution_count": null,
   "metadata": {
    "id": "__rYlw-cMSCd"
   },
   "outputs": [],
   "source": [
    "# add a decorator here !\n",
    "def numba_sum(x, y):\n",
    "  N = len(x)\n",
    "  result = 0.\n",
    "  for i in range(N):\n",
    "    result = result + abs(x[i] - y[i])\n",
    "  return result"
   ]
  },
  {
   "cell_type": "markdown",
   "metadata": {
    "id": "nLbasY9YM2Hz"
   },
   "source": [
    "Reminder: `time.time()` returns the current time (in seconds) of its execution!"
   ]
  },
  {
   "cell_type": "code",
   "execution_count": null,
   "metadata": {
    "id": "g5YI_rU-cnUe"
   },
   "outputs": [],
   "source": [
    "from time import time"
   ]
  },
  {
   "cell_type": "code",
   "execution_count": null,
   "metadata": {
    "id": "JZinMnUNMlJ4"
   },
   "outputs": [],
   "source": [
    "exec_time_python = time()\n",
    "py_sum(x,y)\n",
    "exec_time_python = time() - exec_time_python"
   ]
  },
  {
   "cell_type": "code",
   "execution_count": null,
   "metadata": {
    "id": "RvBMEQ2wNHrl"
   },
   "outputs": [],
   "source": [
    "exec_time_numpy = time()\n",
    "# write a numpy function here !\n",
    "exec_time_numpy = time() - exec_time_numpy"
   ]
  },
  {
   "cell_type": "code",
   "execution_count": null,
   "metadata": {
    "id": "RcE3woj8NOgo"
   },
   "outputs": [],
   "source": [
    "exec_time_numba = time()\n",
    "# execute your compiled numba function here!\n",
    "exec_time_numba = time() - exec_time_numba"
   ]
  },
  {
   "cell_type": "code",
   "execution_count": null,
   "metadata": {
    "id": "PuerrXWONiTI"
   },
   "outputs": [],
   "source": [
    "# print every execution time here"
   ]
  },
  {
   "cell_type": "markdown",
   "metadata": {
    "id": "D1W8ufITNnc_"
   },
   "source": [
    "Any conclusion?"
   ]
  },
  {
   "cell_type": "markdown",
   "metadata": {
    "id": "cRXmVZg_jYXk"
   },
   "source": [
    "#### 1.2.2.4. Solution"
   ]
  },
  {
   "cell_type": "code",
   "execution_count": null,
   "metadata": {
    "id": "ZDG2GJijjbXN"
   },
   "outputs": [],
   "source": [
    "# your solution here"
   ]
  },
  {
   "cell_type": "markdown",
   "metadata": {
    "id": "FXiUDQ2W6Flv"
   },
   "source": [
    "#### 1.2.2.5. [DELETE] Solution"
   ]
  },
  {
   "cell_type": "code",
   "execution_count": null,
   "metadata": {
    "id": "97a5kzdQ6khA"
   },
   "outputs": [],
   "source": [
    "import numpy as np\n",
    "from numba import jit\n",
    "from time import time"
   ]
  },
  {
   "cell_type": "code",
   "execution_count": null,
   "metadata": {
    "id": "rXb04Lfp2Rgx"
   },
   "outputs": [],
   "source": [
    "# Generating 1M random numbers from (0,9).\n",
    "x = np.random.randint(10, size=1_000_000) \n",
    "y = np.random.randint(10, size=1_000_000) "
   ]
  },
  {
   "cell_type": "code",
   "execution_count": null,
   "metadata": {
    "id": "5RLTRiCT6c62"
   },
   "outputs": [],
   "source": [
    "def py_sum(x, y):\n",
    "    N = len(x)\n",
    "    # creating a list of N elements\n",
    "    result = 0 #[ 0 for _ in range(len(N))]\n",
    "    for i in range(N):\n",
    "        result = result + abs(x[i] - y[i])\n",
    "    return result"
   ]
  },
  {
   "cell_type": "code",
   "execution_count": null,
   "metadata": {
    "id": "MLwaRb2O2UsM"
   },
   "outputs": [],
   "source": [
    "@jit(nopython = True)\n",
    "def numba_sum(x, y):\n",
    "    N = len(x)\n",
    "    result = 0.\n",
    "    for i in range(N):\n",
    "        result = result + abs(x[i] - y[i])\n",
    "    return result"
   ]
  },
  {
   "cell_type": "code",
   "execution_count": null,
   "metadata": {
    "colab": {
     "base_uri": "https://localhost:8080/"
    },
    "id": "NY9qSGB76rqP",
    "outputId": "6b116180-22ce-4dab-fb5c-4016d8a2e3cc"
   },
   "outputs": [
    {
     "data": {
      "text/plain": [
       "3301174"
      ]
     },
     "execution_count": 56,
     "metadata": {},
     "output_type": "execute_result"
    }
   ],
   "source": [
    "py_sum(x, y)"
   ]
  },
  {
   "cell_type": "code",
   "execution_count": null,
   "metadata": {
    "id": "cTCA8GU_Ph9u"
   },
   "outputs": [],
   "source": []
  },
  {
   "cell_type": "code",
   "execution_count": null,
   "metadata": {
    "id": "wPBITvwY6riA"
   },
   "outputs": [],
   "source": [
    "exec_time_python = time()\n",
    "py_sum(x,y)\n",
    "exec_time_python = time() - exec_time_python"
   ]
  },
  {
   "cell_type": "code",
   "execution_count": null,
   "metadata": {
    "id": "rAxkdL9t65BG"
   },
   "outputs": [],
   "source": [
    "exec_time_numpy = time()\n",
    "np.sum(np.abs(x-y))\n",
    "exec_time_numpy = time() - exec_time_numpy"
   ]
  },
  {
   "cell_type": "code",
   "execution_count": null,
   "metadata": {
    "id": "zgKfeHTT7Dvn"
   },
   "outputs": [],
   "source": [
    "exec_time_numba = time()\n",
    "numba_sum(x,y)\n",
    "exec_time_numba = time() - exec_time_numba"
   ]
  },
  {
   "cell_type": "code",
   "execution_count": null,
   "metadata": {
    "colab": {
     "base_uri": "https://localhost:8080/"
    },
    "id": "Tuo4VpZY7HGZ",
    "outputId": "2e34f5d7-7f80-4374-a44f-b741170aeefc"
   },
   "outputs": [
    {
     "name": "stdout",
     "output_type": "stream",
     "text": [
      "Python built-in sum: 0.435711145401001\n",
      "Numpy sum          : 0.008499622344970703\n",
      "Numba compiled sum : 0.11591291427612305\n"
     ]
    }
   ],
   "source": [
    "print(\"Python built-in sum:\", exec_time_python)\n",
    "print(\"Numpy sum          :\", exec_time_numpy )\n",
    "print(\"Numba compiled sum :\", exec_time_numba )"
   ]
  },
  {
   "cell_type": "markdown",
   "metadata": {
    "id": "RE7KEALnQHle"
   },
   "source": [
    "Conclusions?"
   ]
  },
  {
   "cell_type": "markdown",
   "metadata": {
    "id": "ZwuoRfj96Fjn"
   },
   "source": [
    "**Solution Exercise #2**"
   ]
  },
  {
   "cell_type": "code",
   "execution_count": null,
   "metadata": {
    "id": "NbNghStC7fmP"
   },
   "outputs": [],
   "source": [
    "from time import time\n",
    "\n",
    "times_numpy_sum  = np.zeros(shape=10)\n",
    "times_python_sum = np.zeros(shape=10)\n",
    "times_njit_sum   = np.zeros(shape=10)\n",
    "\n",
    "for it in range(10):\n",
    "    # python func.\n",
    "    t = time()\n",
    "    my_sum(x)\n",
    "    t = time() - t\n",
    "    times_python_sum[it] = t \n",
    "\n",
    "    # njit func.\n",
    "    t = time()\n",
    "    my_sum_njit(x)\n",
    "    t = time() - t\n",
    "    times_njit_sum[it] = t \n",
    "\n",
    "    # numpy func.\n",
    "    t = time()\n",
    "    np.sum(x)\n",
    "    t = time() - t\n",
    "    times_numpy_sum[it] = t \n"
   ]
  },
  {
   "cell_type": "code",
   "execution_count": null,
   "metadata": {
    "colab": {
     "base_uri": "https://localhost:8080/"
    },
    "id": "a1hKLGKj7hs4",
    "outputId": "e7f36133-bfb8-4f6a-c3d8-efa5c6b3d006"
   },
   "outputs": [
    {
     "data": {
      "text/plain": [
       "(array([0.294348  , 0.28803158, 0.29592371, 0.28964925, 0.29641986,\n",
       "        0.29230523, 0.31979561, 0.5130136 , 0.29662228, 0.29207444]),\n",
       " array([0.00105548, 0.00105405, 0.00105095, 0.00105071, 0.00133204,\n",
       "        0.00105929, 0.00122118, 0.00103569, 0.00104952, 0.00105119]),\n",
       " array([0.00078368, 0.00070119, 0.00065613, 0.0007031 , 0.0010004 ,\n",
       "        0.00068808, 0.00089598, 0.00065494, 0.00080657, 0.00067949]))"
      ]
     },
     "execution_count": 14,
     "metadata": {},
     "output_type": "execute_result"
    }
   ],
   "source": [
    "times_python_sum, times_njit_sum, times_numpy_sum"
   ]
  },
  {
   "cell_type": "code",
   "execution_count": null,
   "metadata": {
    "colab": {
     "base_uri": "https://localhost:8080/"
    },
    "id": "glT6xYWl7lpP",
    "outputId": "f3a269c9-868d-42e3-f745-f58b8d9fcdfc"
   },
   "outputs": [
    {
     "name": "stdout",
     "output_type": "stream",
     "text": [
      "SU(python, njit) mean=292.555\tstd=69.656\n",
      "SU(numpy, njit)  mean=0.688\tstd=0.052\n"
     ]
    }
   ],
   "source": [
    "speedup_python = (times_python_sum/times_njit_sum)\n",
    "speedup_numpy = (times_numpy_sum/times_njit_sum)\n",
    "\n",
    "mean_py = np.mean(speedup_python)\n",
    "std_py  = np.std(speedup_python)\n",
    "mean_np = np.mean(speedup_numpy)\n",
    "std_np  = np.std(speedup_numpy)\n",
    "\n",
    "print(\"SU(py, njit) mean=%.3f\\tstd=%.3f\" % (mean_py, std_py)\n",
    "print(\"SU(np, njit) mean=%.3f\\tstd=%.3f\" % (mean_np, std_np)"
   ]
  },
  {
   "cell_type": "markdown",
   "metadata": {
    "id": "bxabQP3SWINY"
   },
   "source": [
    "We already improved **a lot** the computation time of our function!.\n",
    "\n",
    "As you saw, you only need to add a _decorator_ to improve the performance and by compiling Python instructions!\n"
   ]
  },
  {
   "cell_type": "markdown",
   "metadata": {
    "id": "JcZak-sh7GFV"
   },
   "source": [
    "---"
   ]
  },
  {
   "cell_type": "markdown",
   "metadata": {
    "id": "yH8rCoqY-KFd"
   },
   "source": [
    "## 1.3. Computational strategies"
   ]
  },
  {
   "cell_type": "markdown",
   "metadata": {
    "id": "rBujptjD7Y-_"
   },
   "source": [
    "### 1.3.1. Serialism, Concurrency and Parallelism"
   ]
  },
  {
   "cell_type": "markdown",
   "metadata": {
    "id": "5Dl9Jm-YOtoH"
   },
   "source": [
    "![](imgs/slides_d2/039.PNG)"
   ]
  },
  {
   "cell_type": "markdown",
   "metadata": {
    "id": "abW_7ilc_hKF"
   },
   "source": [
    "*Serialism* is the traditional way of doing computing: the processor or the system will be executing just one work by time."
   ]
  },
  {
   "cell_type": "markdown",
   "metadata": {
    "id": "vd9QrWul_ONe"
   },
   "source": [
    "We can distinguish between *concurrency* and *parallelism* based on the next two definitions:"
   ]
  },
  {
   "cell_type": "markdown",
   "metadata": {
    "id": "qJrVPTbx_F61"
   },
   "source": [
    "**Definition 1.** \n",
    "\n",
    "Concurrency is a property of a program (at design level) where two or more tasks can be in progress simultaneously.\n"
   ]
  },
  {
   "cell_type": "markdown",
   "metadata": {
    "id": "nnon5wWd_cw6"
   },
   "source": [
    "**Definition 2.**\n",
    "\n",
    "Parallelism is a run-time property where two or more tasks are being executed simultaneously.\n"
   ]
  },
  {
   "cell_type": "markdown",
   "metadata": {
    "id": "Js3lP7SH_0mQ"
   },
   "source": [
    "Let $C$ and $P$ be concurrency and parallelism, respectively, then $P \\subset C$. \n",
    "\n",
    "Thus, parallelism requiers concurrency, but concurrency does not require parallelism.\n"
   ]
  },
  {
   "cell_type": "markdown",
   "metadata": {
    "id": "oI7iW9FR__fF"
   },
   "source": [
    "### 1.3.2. Types of parallelisms\n",
    "\n",
    "**Parallel computing** is the act of solving a problem of size $n$ by dividing its domain into $k \\geq 2$ (with $k \\in \\mathcal{N}$) parts and solving them with $p$ physical processors, simultaneously.\n",
    "\n",
    "Let $P_{D}$ be a problem with domain $D$. If $P_{D}$ is parallelizable, then $D$ can be decomposed into $k$ sub-problems:\n",
    "\n",
    "$D = d_1 + d_2 + ... + d_k = \\sum_{i=1}^k d_i$."
   ]
  },
  {
   "cell_type": "markdown",
   "metadata": {
    "id": "YxsMD9KrBBA-"
   },
   "source": [
    "#### 1.3.2.1. Definition: Data- and Task-parallel problems"
   ]
  },
  {
   "cell_type": "markdown",
   "metadata": {
    "id": "3PW72uw8AGQe"
   },
   "source": [
    "$P_{D}$ is a **data-parallel problem** if $D$ is composed of data elements and solving the problem requires applying a kernel function $f()$ to the whole domain:\n",
    "\n",
    "$f(D) = f(d_{1}) + f(d_{2}) + ... + f(d_{k}) = \\sum_{i=1}^k f(d_i)$.\n",
    "\n",
    "\n"
   ]
  },
  {
   "cell_type": "markdown",
   "metadata": {
    "id": "HrH52J7wAS_O"
   },
   "source": [
    "In contrast, $P_D$ is a **task-parallel problem** if $D$ is composed of functions and solving the problem requires applying each function to a common stream of data $S$:\n",
    "\n",
    "$D(S) = d_1(S) + d_2(S) + ... + d_k(S) = \\sum_{i=1}^k d_i(S)$."
   ]
  },
  {
   "cell_type": "markdown",
   "metadata": {
    "id": "o5b6d2fNDkfo"
   },
   "source": [
    "**Example**"
   ]
  },
  {
   "cell_type": "markdown",
   "metadata": {
    "id": "f6P5A4cZDpsS"
   },
   "source": [
    "Let $D$ be a 1D-array with $n$ components. Then, we can define $k = \\frac{n}{N}$ as the amount of chunks of data to be analyzed for each core. \n",
    "\n",
    "Thus, we can run in parallel an algorithm such that each core works in a partition of the original data $D = d_1 + d_2 + \\dots + d_k$, with $N$ the amount of cores.\n"
   ]
  },
  {
   "cell_type": "markdown",
   "metadata": {
    "id": "InEQ0yrBOopQ"
   },
   "source": [
    "![](imgs/slides_d2/044.PNG)"
   ]
  },
  {
   "cell_type": "markdown",
   "metadata": {
    "id": "Ky21ffu_AUZF"
   },
   "source": [
    "#### 1.3.2.2. Which types of problems are better for multithread computing?"
   ]
  },
  {
   "cell_type": "markdown",
   "metadata": {
    "id": "hjS82ndnBOyH"
   },
   "source": [
    "**Data-parallel problems are ideal candidates for the GPU or multi-core CPUs beacuse each thread executes the same instructions but on different data**. \n",
    "\n",
    "On the other hand, tasks-parallel problems are best suited for the CPU since they enable the execution of many tasks with adaptable memory access patterns. "
   ]
  },
  {
   "cell_type": "markdown",
   "metadata": {
    "id": "81WfWYOz7Lj2"
   },
   "source": [
    "----"
   ]
  },
  {
   "cell_type": "markdown",
   "metadata": {
    "id": "9QiAmRYNBazA"
   },
   "source": [
    "## 1.4. Parallel computing with Python! (ft. Numba)"
   ]
  },
  {
   "cell_type": "markdown",
   "metadata": {
    "id": "oPL0xj87GnYP"
   },
   "source": [
    "In this section we will use the same python ecosystem but we will include Numba for Just-In-Time compilation plus multithreading on CPUs."
   ]
  },
  {
   "cell_type": "markdown",
   "metadata": {
    "id": "FoCqCf3-Ohqo"
   },
   "source": [
    "![](imgs/slides_d2/046.PNG)"
   ]
  },
  {
   "cell_type": "markdown",
   "metadata": {
    "id": "n2SI-WQ0COaQ"
   },
   "source": [
    "### 1.4.1. The magic trick: Numba's Parallel range (`prange`)"
   ]
  },
  {
   "cell_type": "markdown",
   "metadata": {
    "id": "V05yZf1bCq6h"
   },
   "source": [
    "Let's use `prange`! It's like Python's `range` function but it runs in **p**arallel 🤯.\n"
   ]
  },
  {
   "cell_type": "markdown",
   "metadata": {
    "id": "WdFuzaHxC5PH"
   },
   "source": [
    "#### 1.4.1.1. Example (`prange`)"
   ]
  },
  {
   "cell_type": "code",
   "execution_count": null,
   "metadata": {
    "id": "q_ucf5vhOUsq"
   },
   "outputs": [],
   "source": [
    "import numpy as np\n",
    "from numba import jit"
   ]
  },
  {
   "cell_type": "code",
   "execution_count": null,
   "metadata": {
    "id": "Hrtvm7MtORi2"
   },
   "outputs": [],
   "source": [
    "def my_serial_count(N):\n",
    "    result = 0\n",
    "    for i in range(N):\n",
    "        result += 1 \n",
    "    return result"
   ]
  },
  {
   "cell_type": "code",
   "execution_count": null,
   "metadata": {
    "id": "XPbgXcurOVSV"
   },
   "outputs": [],
   "source": [
    "import numpy as np\n",
    "from numba import jit, prange, set_num_threads "
   ]
  },
  {
   "cell_type": "code",
   "execution_count": null,
   "metadata": {
    "id": "JmdGySM2OE5X"
   },
   "outputs": [],
   "source": [
    "@jit(nopython=True, parallel=True)\n",
    "def my_parallel_count(N):\n",
    "    result = 0\n",
    "    for i in prange(N):\n",
    "        result += 1 \n",
    "    return result"
   ]
  },
  {
   "cell_type": "code",
   "execution_count": null,
   "metadata": {
    "colab": {
     "base_uri": "https://localhost:8080/"
    },
    "id": "kUdYclSYOYvG",
    "outputId": "26634c04-0a21-4573-d874-1b1d596d7466"
   },
   "outputs": [
    {
     "data": {
      "text/plain": [
       "1000"
      ]
     },
     "execution_count": 95,
     "metadata": {},
     "output_type": "execute_result"
    }
   ],
   "source": [
    "my_serial_count(N=1000)"
   ]
  },
  {
   "cell_type": "code",
   "execution_count": null,
   "metadata": {
    "colab": {
     "base_uri": "https://localhost:8080/"
    },
    "id": "VuTldQpXObHG",
    "outputId": "a9c4f747-59e7-4ea7-8fb9-f551fcb71b20"
   },
   "outputs": [
    {
     "data": {
      "text/plain": [
       "1000"
      ]
     },
     "execution_count": 96,
     "metadata": {},
     "output_type": "execute_result"
    }
   ],
   "source": [
    "my_parallel_count(N=1000)"
   ]
  },
  {
   "cell_type": "code",
   "execution_count": null,
   "metadata": {
    "colab": {
     "base_uri": "https://localhost:8080/"
    },
    "id": "6LBif09-Od9Y",
    "outputId": "4be4e87e-ad63-44b0-b60b-7c6a7f5827ab"
   },
   "outputs": [
    {
     "name": "stdout",
     "output_type": "stream",
     "text": [
      "10 loops, best of 5: 62.7 ms per loop\n"
     ]
    }
   ],
   "source": [
    "%timeit my_serial_count(N=1_000_000)"
   ]
  },
  {
   "cell_type": "code",
   "execution_count": null,
   "metadata": {
    "colab": {
     "base_uri": "https://localhost:8080/"
    },
    "id": "S942GK3gOgp4",
    "outputId": "6962d077-9c67-401e-829a-cbab386ad8b1"
   },
   "outputs": [
    {
     "name": "stdout",
     "output_type": "stream",
     "text": [
      "The slowest run took 448.88 times longer than the fastest. This could mean that an intermediate result is being cached.\n",
      "100000 loops, best of 5: 2.7 µs per loop\n"
     ]
    }
   ],
   "source": [
    "%timeit my_parallel_count(N=1_000_000)"
   ]
  },
  {
   "cell_type": "markdown",
   "metadata": {
    "id": "YfyQX9P872Pa"
   },
   "source": [
    "#### 1.4.1.2. Exercise\n",
    "\n",
    "Improve our function `my_serial_sum(x)` and make it run in multiple cores via `@parallel`. Measure the computation time and calculate the _speed-up_ compared with our previous version with `@njit`."
   ]
  },
  {
   "cell_type": "code",
   "execution_count": null,
   "metadata": {
    "id": "vCqbMc3FDhiI"
   },
   "outputs": [],
   "source": [
    "import numpy as np\n",
    "from numba import prange, jit"
   ]
  },
  {
   "cell_type": "code",
   "execution_count": null,
   "metadata": {
    "id": "T8bE9ws_Dkyy"
   },
   "outputs": [],
   "source": [
    "# Generating 1M random numbers from (0,9).\n",
    "x = np.random.randint(10, size=1_000_000) "
   ]
  },
  {
   "cell_type": "code",
   "execution_count": null,
   "metadata": {
    "id": "C9N41N2KDl4v"
   },
   "outputs": [],
   "source": [
    "@jit(nopython=True)\n",
    "def my_serial_sum(x):\n",
    "    N = len(x)\n",
    "    result = 0\n",
    "    for i in prange(N):\n",
    "        result = result + x[i]\n",
    "    return result\n"
   ]
  },
  {
   "cell_type": "markdown",
   "metadata": {
    "id": "RR4wi2mE767Y"
   },
   "source": [
    "#### 1.4.1.3. Solution"
   ]
  },
  {
   "cell_type": "code",
   "execution_count": null,
   "metadata": {
    "id": "_MRKw7O60-CD"
   },
   "outputs": [],
   "source": [
    "import numpy as np\n",
    "from numba import prange, jit"
   ]
  },
  {
   "cell_type": "code",
   "execution_count": null,
   "metadata": {
    "id": "fdWy5Wu00_By"
   },
   "outputs": [],
   "source": [
    "# Generating 1M random numbers from (0,9).\n",
    "x = np.random.randint(10, size=1_000_000) "
   ]
  },
  {
   "cell_type": "code",
   "execution_count": null,
   "metadata": {
    "id": "XYTBZrv_1I9Q"
   },
   "outputs": [],
   "source": [
    "def my_py_sum(x):\n",
    "    N = len(x)\n",
    "    result = 0\n",
    "    for i in prange(N):\n",
    "        result = result + x[i]\n",
    "    return result"
   ]
  },
  {
   "cell_type": "code",
   "execution_count": null,
   "metadata": {
    "id": "eDBxx_ea1Bhk"
   },
   "outputs": [],
   "source": [
    "@jit(nopython=True)\n",
    "def my_serial_sum(x):\n",
    "    N = len(x)\n",
    "    result = 0\n",
    "    for i in prange(N):\n",
    "        result = result + x[i]\n",
    "    return result"
   ]
  },
  {
   "cell_type": "code",
   "execution_count": null,
   "metadata": {
    "id": "tVfpr6rN2AzZ"
   },
   "outputs": [],
   "source": [
    "@jit(nopython=True, parallel=True)\n",
    "def my_parallel_sum(x):\n",
    "    N = len(x)\n",
    "    result = 0\n",
    "    for i in prange(N):\n",
    "        result = result + x[i]\n",
    "    return result"
   ]
  },
  {
   "cell_type": "code",
   "execution_count": null,
   "metadata": {
    "colab": {
     "base_uri": "https://localhost:8080/"
    },
    "id": "onXJdV9AD8d5",
    "outputId": "b66ff564-8b0e-4db9-acb1-e71a9ec25b90"
   },
   "outputs": [
    {
     "name": "stdout",
     "output_type": "stream",
     "text": [
      "1000 loops, best of 5: 273 µs per loop\n"
     ]
    }
   ],
   "source": [
    "%timeit my_serial_sum(x)"
   ]
  },
  {
   "cell_type": "code",
   "execution_count": null,
   "metadata": {
    "colab": {
     "base_uri": "https://localhost:8080/"
    },
    "id": "Tt2A_4P_2JeJ",
    "outputId": "47bf37c4-f3c8-43b8-f571-2c7f9f46b6e8"
   },
   "outputs": [
    {
     "name": "stdout",
     "output_type": "stream",
     "text": [
      "The slowest run took 1152.68 times longer than the fastest. This could mean that an intermediate result is being cached.\n",
      "1 loop, best of 5: 317 µs per loop\n"
     ]
    }
   ],
   "source": [
    "%timeit my_parallel_sum(x)"
   ]
  },
  {
   "cell_type": "markdown",
   "metadata": {
    "id": "MN8kDfUbEEML"
   },
   "source": [
    "#### 1.4.1.4. Bonus exercises\n",
    "\n",
    "Measure the computation time of each version (i.e., pure Python, NumPy, `nopython` compiled, and `parallel`) for 10 repetitions.\n",
    "\n",
    "Print the mean and standard deviation of the speed-up for each case."
   ]
  },
  {
   "cell_type": "code",
   "execution_count": null,
   "metadata": {
    "id": "7VEhE8Jd8Lpo"
   },
   "outputs": [],
   "source": [
    "from time import time\n",
    "\n",
    "times_numpy_sum  = np.zeros(shape=10)\n",
    "times_python_sum = np.zeros(shape=10)\n",
    "times_njit_sum   = np.zeros(shape=10)\n",
    "times_parallel_sum = np.zeros(shape=10)\n",
    "\n",
    "for it in range(10):\n",
    "    # python func.\n",
    "    t = time()\n",
    "    my_py_sum(x)\n",
    "    t = time() - t\n",
    "    times_python_sum[it] = t \n",
    "\n",
    "    # numpy func.\n",
    "    t = time()\n",
    "    np.sum(x)\n",
    "    t = time() - t\n",
    "    times_numpy_sum[it] = t \n",
    "\n",
    "    # njit func.\n",
    "    t = time()\n",
    "    my_serial_sum(x)\n",
    "    t = time() - t\n",
    "    times_njit_sum[it] = t\n",
    "\n",
    "    # nopython=True, parallel=True\n",
    "    t = time()\n",
    "    my_parallel_sum(x)\n",
    "    t = time() - t\n",
    "    times_parallel_sum[it] = t"
   ]
  },
  {
   "cell_type": "code",
   "execution_count": null,
   "metadata": {
    "colab": {
     "base_uri": "https://localhost:8080/"
    },
    "id": "ZvnF5bOe8pFI",
    "outputId": "ecc910ef-6d7a-4082-cf14-62d38044c4db"
   },
   "outputs": [
    {
     "name": "stdout",
     "output_type": "stream",
     "text": [
      "SU(py, p)   mean=230.761\tstd=44.310\n",
      "SU(np, p)   mean=1.631\tstd=0.369\n",
      "SU(njit, p) mean=1.071\tstd=0.134\n"
     ]
    }
   ],
   "source": [
    "speedup_python = (times_python_sum/times_parallel_sum)\n",
    "speedup_numpy = (times_numpy_sum/times_parallel_sum)\n",
    "speedup_njit = (times_njit_sum/times_parallel_sum)\n",
    "\n",
    "mean_py = np.mean(speedup_python)\n",
    "std_py  = np.std(speedup_python)\n",
    "mean_np = np.mean(speedup_numpy)\n",
    "std_np  = np.std(speedup_numpy)\n",
    "mean_njit = np.mean(speedup_njit)\n",
    "std_njit  = np.std(speedup_njit)\n",
    "\n",
    "print(\"SU(py, p)   mean=%.3f\\tstd=%.3f\" % (mean_py, std_py))\n",
    "print(\"SU(np, p)   mean=%.3f\\tstd=%.3f\" % (mean_np, std_np))\n",
    "print(\"SU(njit, p) mean=%.3f\\tstd=%.3f\" % (mean_njit, std_njit))"
   ]
  },
  {
   "cell_type": "markdown",
   "metadata": {
    "id": "mTlKqwZf7O3e"
   },
   "source": [
    "----"
   ]
  },
  {
   "cell_type": "markdown",
   "metadata": {
    "id": "WIe1mBy1EpYB"
   },
   "source": [
    "## 1.5. Practical Session (HPC): Measuring Speed-up with Numba on  Multi-CPU cores. "
   ]
  },
  {
   "cell_type": "markdown",
   "metadata": {
    "id": "aAyN30SFE1VB"
   },
   "source": [
    "### 1.5.1. Exercises"
   ]
  },
  {
   "cell_type": "markdown",
   "metadata": {
    "id": "bJ28hYoo89gI"
   },
   "source": [
    "1. Create two vectors `x` and `y` that contain $N$ random values between 0 and 1."
   ]
  },
  {
   "cell_type": "code",
   "execution_count": null,
   "metadata": {
    "id": "LtD_NwShWSc8"
   },
   "outputs": [],
   "source": [
    "import numpy as np"
   ]
  },
  {
   "cell_type": "code",
   "execution_count": null,
   "metadata": {
    "id": "Ksl4q18t9I6R"
   },
   "outputs": [],
   "source": [
    "# your code here :) \n",
    "# Hint: Usec an np.random.randint()"
   ]
  },
  {
   "cell_type": "markdown",
   "metadata": {
    "id": "3j5Y4CEN9LtY"
   },
   "source": [
    "2. Compute the distance $d$ between the two vectors $x$ and $y$ with length $N$ such that $d(x,y) = \\sqrt{(x_1 - y_1)^2+(x_2 - y_2)^2+ \\dots + (x_N - y_N)^2}$.\n",
    "\n",
    "Use pure python for this (e.g., `import math` for square root computation). "
   ]
  },
  {
   "cell_type": "code",
   "execution_count": null,
   "metadata": {
    "id": "Z9sW5Whx9NTb"
   },
   "outputs": [],
   "source": [
    "# your code here"
   ]
  },
  {
   "cell_type": "markdown",
   "metadata": {
    "id": "jscIZlj79Oqp"
   },
   "source": [
    "3. Make a copy of such function and make it `@jit(nopython=True)` and parallel via `@jit(nopython=True, parallel=True)`."
   ]
  },
  {
   "cell_type": "code",
   "execution_count": null,
   "metadata": {
    "id": "sSwm-PrgWnM8"
   },
   "outputs": [],
   "source": [
    "from numba import jit, prange"
   ]
  },
  {
   "cell_type": "code",
   "execution_count": null,
   "metadata": {
    "id": "vXXNdSdC9UMg"
   },
   "outputs": [],
   "source": [
    "# your code here"
   ]
  },
  {
   "cell_type": "markdown",
   "metadata": {
    "id": "TkK8faaY9R80"
   },
   "source": [
    "4. Execute these three functions and save their execution times across 10 repetitions. \n",
    "\n",
    "   Compute the speed-ups as follows:\n",
    "   + Python method vs Parallel:  $speedup_{(py, parallel)} = \\bar{t}_{py} / \\bar{t}_{p}$.\n",
    "   + Compiled method vs Parallel:  $speedup_{(njit, parallel)} = \\bar{t}_{njit} / \\bar{t}_{p}$.\n",
    "\n",
    "  Note: $\\bar{t}_{i,j}$ is the average execution time between methods $i$ and $j$.\n",
    "\n",
    "  Print both speed-ups (mean and std).\n"
   ]
  },
  {
   "cell_type": "code",
   "execution_count": null,
   "metadata": {
    "id": "2nM6oXMzWWAM"
   },
   "outputs": [],
   "source": [
    "from time import time"
   ]
  },
  {
   "cell_type": "code",
   "execution_count": null,
   "metadata": {
    "id": "JvRrWHD7V8A4"
   },
   "outputs": [],
   "source": [
    "# your code here"
   ]
  },
  {
   "cell_type": "markdown",
   "metadata": {
    "id": "vAfdxIfA9Q_Z"
   },
   "source": [
    "\n",
    "5. Repeat this same procedure but change the length of the vectors $N$ (e.g., `l_N = [10, 100, 1000, 10000, 100000, 1000000]`). As a recommendation, you can store the computational times into a matrix of `n_rep` columns and `l_N` rows."
   ]
  },
  {
   "cell_type": "code",
   "execution_count": null,
   "metadata": {
    "id": "IX2eSKPUWC5Z"
   },
   "outputs": [],
   "source": [
    "l_N = [10, 100, 1000, 10000, 100000, 1000000]"
   ]
  },
  {
   "cell_type": "code",
   "execution_count": null,
   "metadata": {
    "id": "lsqOWAM89Q1o"
   },
   "outputs": [],
   "source": [
    "# your code here"
   ]
  },
  {
   "cell_type": "markdown",
   "metadata": {
    "id": "feJXXhbW9bF6"
   },
   "source": [
    "6. Make a plot that shows how the speed-up changes when the size of the problem increases (i.e., $N$). Do this for $Speedup_{py,p}$ and $Speedup_{njit,p}$, *separately*. \n",
    "\n",
    "   Use `plt.errorbar(l_N, mean_speedup, std_speedup)` to show your results. For more information about errorbar, check [this](https://matplotlib.org/stable/api/_as_gen/matplotlib.pyplot.errorbar.html).\n"
   ]
  },
  {
   "cell_type": "code",
   "execution_count": null,
   "metadata": {
    "id": "Wef6hxZNWOFL"
   },
   "outputs": [],
   "source": [
    "import matplotlib.pyplot as plt"
   ]
  },
  {
   "cell_type": "code",
   "execution_count": null,
   "metadata": {
    "id": "1Nqrp0K4WMZK"
   },
   "outputs": [],
   "source": [
    "# your code here"
   ]
  },
  {
   "cell_type": "markdown",
   "metadata": {
    "id": "LAPx5Z0BTHwG"
   },
   "source": [
    "7. Finally, plot both speed-up. To see the differences, add `plt.loglog()` and `\n",
    "plt.axhline(1, color='k', alpha=0.3, ls='--')` at the end of each cell. Your plots will change both x- and y-axis to log-scale. What can we conclude from these results?"
   ]
  },
  {
   "cell_type": "code",
   "execution_count": null,
   "metadata": {
    "id": "MJiIyyvQ9ac6"
   },
   "outputs": [],
   "source": [
    "# your code here\n",
    "plt.loglog()\n",
    "plt.axhline(1, color='k', alpha=0.3, ls='--')"
   ]
  },
  {
   "cell_type": "markdown",
   "metadata": {
    "id": "_I3TeUyFFATC"
   },
   "source": [
    "### 1.5.2. Solutions"
   ]
  },
  {
   "cell_type": "markdown",
   "metadata": {
    "id": "vC9zknqvFCcX"
   },
   "source": [
    "### 1.5.2. [DELETE] Solutions"
   ]
  },
  {
   "cell_type": "markdown",
   "metadata": {
    "id": "cOvJDeFZVdBV"
   },
   "source": [
    "1. Create two vectors `x` and `y` that contain $N$ random values between 0 and 1."
   ]
  },
  {
   "cell_type": "code",
   "execution_count": null,
   "metadata": {
    "id": "qcycG6NFHnrU"
   },
   "outputs": [],
   "source": [
    "import numpy as np"
   ]
  },
  {
   "cell_type": "code",
   "execution_count": null,
   "metadata": {
    "id": "XWgaxdzGHePT"
   },
   "outputs": [],
   "source": [
    "N = 1_000_000\n",
    "x = np.random.randint(1000, size=N)/1000.\n",
    "y = np.random.randint(1000, size=N)/1000."
   ]
  },
  {
   "cell_type": "markdown",
   "metadata": {
    "id": "zIrM5jJGVdBW"
   },
   "source": [
    "2. Compute the euclidean distance between the two vectors: $d(a,b) = \\sqrt{(x_1 - y_1)^2+(x_2 - y_2)^2+ \\dots + (x_N - y_N)^2}$.\n",
    "\n",
    "Use pure python for this (e.g., `import math` for square root computation). "
   ]
  },
  {
   "cell_type": "code",
   "execution_count": null,
   "metadata": {
    "id": "cJYk22rxHu_k"
   },
   "outputs": [],
   "source": [
    "def py_euclidean_distance(x,y):\n",
    "    distance = 0.\n",
    "    for i in range(len(x)):\n",
    "        distance = distance + (x[i]-y[i])**2\n",
    "    return distance "
   ]
  },
  {
   "cell_type": "markdown",
   "metadata": {
    "id": "R8etGhOfVdBW"
   },
   "source": [
    "3. Make a copy of such function and make it `jit(nopython=True)` and parallel via `@jit(nopython=True, parallel=True)`."
   ]
  },
  {
   "cell_type": "code",
   "execution_count": null,
   "metadata": {
    "id": "iNxyORw3IyrU"
   },
   "outputs": [],
   "source": [
    "from numba import jit, prange"
   ]
  },
  {
   "cell_type": "code",
   "execution_count": null,
   "metadata": {
    "id": "i5XRFDJZIscU"
   },
   "outputs": [],
   "source": [
    "@jit(nopython=True)\n",
    "def njit_euclidean_distance(x,y):\n",
    "    distance = 0.\n",
    "    for i in range(len(x)):\n",
    "        distance = distance + (x[i]-y[i])**2\n",
    "    return distance \n",
    "\n",
    "@jit(nopython=True, parallel=True)\n",
    "def parallel_euclidean_distance(x,y):\n",
    "    distance = 0.\n",
    "    for i in prange(len(x)):\n",
    "        distance = distance + (x[i]-y[i])**2\n",
    "    return distance "
   ]
  },
  {
   "cell_type": "code",
   "execution_count": null,
   "metadata": {
    "id": "2bjhMAKyKjwG"
   },
   "outputs": [],
   "source": [
    "import matplotlib.pyplot as plt"
   ]
  },
  {
   "cell_type": "markdown",
   "metadata": {
    "id": "eqTc4FbpVdBX"
   },
   "source": [
    "4. Execute all these functions and saves their execution times for 10 repetitions. \n",
    "\n",
    "   Compute the speed-ups as follows:\n",
    "   + Python method vs Parallel:  $speed-up_{py, p} = \\bar{time}_{py} / \\bar{time}_{p}$.\n",
    "   + Compiled method vs Parallel:  $speed-up_{njit, p} = \\bar{time}_{njit} / \\bar{time}_{p}$.\n",
    "\n",
    "  Note: $\\bar{time}_{i,j}$ is the average execution time between methods $i$ and $j$.\n",
    "\n",
    "  Print both speed-ups (mean and std).\n"
   ]
  },
  {
   "cell_type": "code",
   "execution_count": null,
   "metadata": {
    "id": "8foP_HySJLA0"
   },
   "outputs": [],
   "source": [
    "from time import time\n",
    "exec_times = np.zeros(shape=(3, 10))"
   ]
  },
  {
   "cell_type": "code",
   "execution_count": null,
   "metadata": {
    "id": "dEfixqN5Jv_l"
   },
   "outputs": [],
   "source": [
    "my_methods = [\n",
    "    py_euclidean_distance, njit_euclidean_distance, parallel_euclidean_distance\n",
    "]"
   ]
  },
  {
   "cell_type": "code",
   "execution_count": null,
   "metadata": {
    "colab": {
     "base_uri": "https://localhost:8080/"
    },
    "id": "PP7dK9F6JRl0",
    "outputId": "2bd1ee16-4b1e-47f6-8e65-abfb3415b4d9"
   },
   "outputs": [
    {
     "name": "stderr",
     "output_type": "stream",
     "text": [
      "/usr/local/lib/python3.7/dist-packages/numba/np/ufunc/parallel.py:363: NumbaWarning: The TBB threading layer requires TBB version 2019.5 or later i.e., TBB_INTERFACE_VERSION >= 11005. Found TBB_INTERFACE_VERSION = 9107. The TBB threading layer is disabled.\n",
      "  warnings.warn(problem)\n"
     ]
    }
   ],
   "source": [
    "for i in range(len(my_methods)):\n",
    "    f = my_methods[i]\n",
    "    for j in range(10):\n",
    "        t = time()\n",
    "        f(x,y)\n",
    "        t = time()-t\n",
    "        exec_times[i,j] = t"
   ]
  },
  {
   "cell_type": "code",
   "execution_count": null,
   "metadata": {
    "colab": {
     "base_uri": "https://localhost:8080/"
    },
    "id": "exvhM8nmKxfF",
    "outputId": "710aee3e-4a59-435e-cb6a-80596034928a"
   },
   "outputs": [
    {
     "data": {
      "text/plain": [
       "array([[0.64537978, 0.63093066, 0.79584622, 0.80611014, 0.76738954,\n",
       "        0.6186738 , 0.6139524 , 0.598382  , 0.61105275, 0.63395953],\n",
       "       [0.11797428, 0.00234175, 0.0022707 , 0.00217056, 0.00214028,\n",
       "        0.00212193, 0.00211096, 0.00215507, 0.00222754, 0.00212765],\n",
       "       [0.53871512, 0.00181937, 0.00161648, 0.0013535 , 0.00119114,\n",
       "        0.00110722, 0.00104785, 0.00099158, 0.00096893, 0.00097132]])"
      ]
     },
     "execution_count": 41,
     "metadata": {},
     "output_type": "execute_result"
    }
   ],
   "source": [
    "exec_times"
   ]
  },
  {
   "cell_type": "code",
   "execution_count": null,
   "metadata": {
    "colab": {
     "base_uri": "https://localhost:8080/"
    },
    "id": "hSowCOW_KZDO",
    "outputId": "a99b4bde-0057-4db2-9ce6-42ac9bd73e8b"
   },
   "outputs": [
    {
     "name": "stdout",
     "output_type": "stream",
     "text": [
      "Speed-up(pu, p) = [  1.19799826 346.78482506 492.33348083 595.57354236 644.24839872\n",
      " 558.76528854 585.91649602 603.46140899 630.6449311  652.68016691]\n",
      "Speed-up(njit, p) = [  1.19799826 346.78482506 492.33348083 595.57354236 644.24839872\n",
      " 558.76528854 585.91649602 603.46140899 630.6449311  652.68016691]\n"
     ]
    }
   ],
   "source": [
    "speedup_py = exec_times[0]/exec_times[-1]\n",
    "speedup_njit = exec_times[1]/exec_times[-1]\n",
    "print(\"Speed-up(pu, p) =\", speedup_py)\n",
    "print(\"Speed-up(njit, p) =\", speedup_py)"
   ]
  },
  {
   "cell_type": "code",
   "execution_count": null,
   "metadata": {
    "id": "7czKExuwOBKY"
   },
   "outputs": [],
   "source": [
    "mean_speedup_py = np.mean(speedup_py)\n",
    "std_speedup_py = np.std(speedup_py)\n",
    "mean_speedup_njit = np.mean(speedup_njit)\n",
    "std_speedup_njit = np.std(speedup_njit)"
   ]
  },
  {
   "cell_type": "code",
   "execution_count": null,
   "metadata": {
    "colab": {
     "base_uri": "https://localhost:8080/"
    },
    "id": "5nPwAL-nOTkA",
    "outputId": "89e2990c-c471-48e1-ebff-350ad9575549"
   },
   "outputs": [
    {
     "name": "stdout",
     "output_type": "stream",
     "text": [
      "Speed-up(pu, p)   = mean:511.16\tstd:190.51\n",
      "Speed-up(njit, p) = mean:1.69\tstd:0.59\n"
     ]
    }
   ],
   "source": [
    "print(\"Speed-up(pu, p)   = mean:%.2f\\tstd:%.2f\" % (mean_speedup_py, std_speedup_py))\n",
    "print(\"Speed-up(njit, p) = mean:%.2f\\tstd:%.2f\" % (mean_speedup_njit, std_speedup_njit))"
   ]
  },
  {
   "cell_type": "markdown",
   "metadata": {
    "id": "RDkeYhjvVdBY"
   },
   "source": [
    "\n",
    "5. Repeat this same procedure but change the length of the vectors $N$ (e.g., `l_N = [10, 100, 1000, 10000, 100000, 1000000]`). As a recommendation, you can store the computational times into a matrix of `n_rep` columns and `l_N` rows."
   ]
  },
  {
   "cell_type": "code",
   "execution_count": null,
   "metadata": {
    "id": "OQTvPCc0P3BR"
   },
   "outputs": [],
   "source": [
    "l_N = [10, 100, 1000, 10000, 100000, 1000000]"
   ]
  },
  {
   "cell_type": "code",
   "execution_count": null,
   "metadata": {
    "id": "hvs1lI2mPskH"
   },
   "outputs": [],
   "source": [
    "exec_times_N = np.zeros(shape=(3,10,len(l_N)))\n",
    "for i_N in range(len(l_N)):\n",
    "    # generating arrays\n",
    "    N = l_N[i_N]\n",
    "    x = np.random.randint(1000, size=N)/1000.\n",
    "    y = np.random.randint(1000, size=N)/1000.\n",
    "\n",
    "    for i in range(len(my_methods)):\n",
    "        f = my_methods[i]\n",
    "        for j in range(10):\n",
    "            t = time()\n",
    "            f(x,y)\n",
    "            t = time()-t\n",
    "            exec_times_N[i,j,i_N] = t"
   ]
  },
  {
   "cell_type": "code",
   "execution_count": null,
   "metadata": {
    "colab": {
     "base_uri": "https://localhost:8080/"
    },
    "id": "O2T7H3ZrQYfq",
    "outputId": "041303eb-1222-4bdc-e4b8-270616359bc2"
   },
   "outputs": [
    {
     "data": {
      "text/plain": [
       "(3, 10, 6)"
      ]
     },
     "execution_count": 73,
     "metadata": {},
     "output_type": "execute_result"
    }
   ],
   "source": [
    "exec_times_N.shape"
   ]
  },
  {
   "cell_type": "code",
   "execution_count": null,
   "metadata": {
    "colab": {
     "base_uri": "https://localhost:8080/"
    },
    "id": "okUp655tQ1aX",
    "outputId": "cc4bf4dd-af40-4f08-87df-b0f0c7ff6f53"
   },
   "outputs": [
    {
     "data": {
      "text/plain": [
       "((10, 6), (6,))"
      ]
     },
     "execution_count": 74,
     "metadata": {},
     "output_type": "execute_result"
    }
   ],
   "source": [
    "py_speed_up = exec_times_N[0,:,:] / exec_times_N[1,:,:]\n",
    "py_speed_up.shape, np.mean(py_speed_up, axis=0).shape"
   ]
  },
  {
   "cell_type": "code",
   "execution_count": null,
   "metadata": {
    "id": "S5uH-bQfQbmx"
   },
   "outputs": [],
   "source": [
    "py_speed_up = exec_times_N[0,:,:] / exec_times_N[2,:,:]\n",
    "py_mean_su = np.mean(py_speed_up, axis=0)\n",
    "py_std_su = np.std(py_speed_up, axis=0)\n",
    "\n",
    "njit_speed_up = exec_times_N[1,:,:] / exec_times_N[2,:,:]\n",
    "njit_mean_su = np.mean(njit_speed_up, axis=0)\n",
    "njit_std_su = np.std(njit_speed_up, axis=0)"
   ]
  },
  {
   "cell_type": "code",
   "execution_count": null,
   "metadata": {
    "colab": {
     "base_uri": "https://localhost:8080/"
    },
    "id": "v1gOpu_YRqe1",
    "outputId": "8e284df9-f2c8-492a-d679-18bc11dd6f1e"
   },
   "outputs": [
    {
     "data": {
      "text/plain": [
       "array([[8.36849213e-05, 1.93119049e-05, 7.67230988e-03, 1.13010406e-04,\n",
       "        2.19345093e-03, 1.81078911e-03],\n",
       "       [4.29153442e-06, 3.57627869e-06, 2.16960907e-05, 1.43051147e-05,\n",
       "        9.34600830e-05, 1.02758408e-03],\n",
       "       [3.09944153e-06, 3.33786011e-06, 4.29153442e-06, 1.19209290e-05,\n",
       "        8.58306885e-05, 1.00708008e-03],\n",
       "       [3.09944153e-06, 3.09944153e-06, 3.81469727e-06, 1.19209290e-05,\n",
       "        8.17775726e-05, 9.85860825e-04],\n",
       "       [2.86102295e-06, 3.33786011e-06, 4.05311584e-06, 1.19209290e-05,\n",
       "        9.01222229e-05, 9.52959061e-04],\n",
       "       [3.09944153e-06, 3.09944153e-06, 4.05311584e-06, 1.16825104e-05,\n",
       "        8.05854797e-05, 9.41276550e-04],\n",
       "       [3.09944153e-06, 3.33786011e-06, 3.81469727e-06, 1.21593475e-05,\n",
       "        8.10623169e-05, 8.91923904e-04],\n",
       "       [3.33786011e-06, 3.33786011e-06, 4.05311584e-06, 1.16825104e-05,\n",
       "        8.10623169e-05, 8.94069672e-04],\n",
       "       [3.09944153e-06, 3.09944153e-06, 4.05311584e-06, 1.19209290e-05,\n",
       "        8.32080841e-05, 8.93592834e-04],\n",
       "       [3.09944153e-06, 3.33786011e-06, 3.81469727e-06, 1.19209290e-05,\n",
       "        8.05854797e-05, 9.03606415e-04]])"
      ]
     },
     "execution_count": 76,
     "metadata": {},
     "output_type": "execute_result"
    }
   ],
   "source": [
    "exec_times_N[2,:,:]"
   ]
  },
  {
   "cell_type": "markdown",
   "metadata": {
    "id": "ov7m_GBJVdBY"
   },
   "source": [
    "6. Make a plot that shows how the speed-up changes when the size of the problem increases (i.e., $N$). Do this for $Speedup_{py,p}$ and $Speedup_{njit,p}$, *separately*. \n",
    "\n",
    "   Use `plt.errorbar(l_N, mean_speedup, std_speedup)` to show your results. For more information about errorbar, check [this](https://matplotlib.org/stable/api/_as_gen/matplotlib.pyplot.errorbar.html).\n"
   ]
  },
  {
   "cell_type": "code",
   "execution_count": null,
   "metadata": {
    "colab": {
     "base_uri": "https://localhost:8080/",
     "height": 297
    },
    "id": "BDnJP4ksRXbL",
    "outputId": "266df536-ca5c-442a-fb92-c71761090205"
   },
   "outputs": [
    {
     "data": {
      "text/plain": [
       "Text(0.5, 0, 'N (problem size)')"
      ]
     },
     "execution_count": 92,
     "metadata": {},
     "output_type": "execute_result"
    },
    {
     "data": {
      "image/png": "[encoded data removed]",
      "text/plain": [
       "<Figure size 432x288 with 1 Axes>"
      ]
     },
     "metadata": {
      "needs_background": "light"
     },
     "output_type": "display_data"
    }
   ],
   "source": [
    "f, ax = plt.subplots(figsize=(6,4))\n",
    "ax.errorbar(l_N, py_mean_su, py_std_su, label='py') \n",
    "ax.set_ylabel(\"Speedup\")\n",
    "ax.set_xlabel(\"N (problem size)\")"
   ]
  },
  {
   "cell_type": "code",
   "execution_count": null,
   "metadata": {
    "colab": {
     "base_uri": "https://localhost:8080/",
     "height": 297
    },
    "id": "SaWX1xk9SchQ",
    "outputId": "3ad0ba4f-2419-44cf-fc78-307fa0d98279"
   },
   "outputs": [
    {
     "data": {
      "text/plain": [
       "Text(0.5, 0, 'N (problem size)')"
      ]
     },
     "execution_count": 93,
     "metadata": {},
     "output_type": "execute_result"
    },
    {
     "data": {
      "image/png": "[encoded data removed]",
      "text/plain": [
       "<Figure size 432x288 with 1 Axes>"
      ]
     },
     "metadata": {
      "needs_background": "light"
     },
     "output_type": "display_data"
    }
   ],
   "source": [
    "f, ax = plt.subplots(figsize=(6,4))\n",
    "ax.errorbar(l_N, njit_mean_su, njit_std_su, label='py') \n",
    "ax.set_ylabel(\"Speedup\")\n",
    "ax.set_xlabel(\"N (problem size)\")"
   ]
  },
  {
   "cell_type": "markdown",
   "metadata": {
    "id": "3V95HHmDVdBZ"
   },
   "source": [
    "7. Finally, plot both speed-up. To see the differences, add `plt.loglog()` and `\n",
    "plt.axhline(1, color='k', alpha=0.3, ls='--')` at the end of each cell. Your plots will change both x- and y-axis to log-scale. What can we conclude from these results?"
   ]
  },
  {
   "cell_type": "code",
   "execution_count": null,
   "metadata": {
    "colab": {
     "base_uri": "https://localhost:8080/",
     "height": 305
    },
    "id": "ejM1lRelImcM",
    "outputId": "39250637-340f-4f5b-9486-5f6444bacb33"
   },
   "outputs": [
    {
     "data": {
      "text/plain": [
       "Text(0.5, 0, 'N [LOG]')"
      ]
     },
     "execution_count": 100,
     "metadata": {},
     "output_type": "execute_result"
    },
    {
     "data": {
      "image/png": "[encoded data removed]",
      "text/plain": [
       "<Figure size 432x288 with 1 Axes>"
      ]
     },
     "metadata": {
      "needs_background": "light"
     },
     "output_type": "display_data"
    }
   ],
   "source": [
    "f, ax = plt.subplots(figsize=(6,4))\n",
    "ax.errorbar(l_N, py_mean_su, py_std_su, color='blue') \n",
    "ax.errorbar(l_N, njit_mean_su, njit_std_su, color='k') \n",
    "plt.loglog()\n",
    "plt.axhline(1, color='k', alpha=0.3, ls='--')\n",
    "ax.set_ylabel(\"Speedup [lOG]\", fontsize=14)\n",
    "ax.set_xlabel(\"N [LOG]\", fontsize=14)"
   ]
  },
  {
   "cell_type": "markdown",
   "metadata": {
    "id": "lvA3NDalFhuq"
   },
   "source": [
    "---"
   ]
  },
  {
   "cell_type": "markdown",
   "metadata": {
    "id": "o5XF5ejNGV9k"
   },
   "source": [
    "# Section 2: Introduction to High-Performance Computing on GPU"
   ]
  },
  {
   "cell_type": "markdown",
   "metadata": {
    "id": "UOT1hovjZJTM"
   },
   "source": [
    "## 2.1. What's a GPU?\n"
   ]
  },
  {
   "cell_type": "markdown",
   "metadata": {
    "id": "M7I1mIyWOXOt"
   },
   "source": [
    "![](imgs/slides_d2/065.PNG)\n",
    "\n"
   ]
  },
  {
   "cell_type": "markdown",
   "metadata": {
    "id": "gJwvQvLjIXpB"
   },
   "source": [
    "+ It comes from **G**raphics **P**rocessing **U**nit.\n",
    "+ Specialized processor dedicated to graphics processing tasks."
   ]
  },
  {
   "cell_type": "markdown",
   "metadata": {
    "id": "wd1qOCjoZbi9"
   },
   "source": [
    "## 2.2. Differences between CPU and GPU"
   ]
  },
  {
   "cell_type": "markdown",
   "metadata": {
    "id": "ODidwLZfZfZI"
   },
   "source": [
    "**CPU:** \n",
    "+ Multiple cores.\n",
    "+ Complex control logic.\n",
    "+ Optimized for serial operations.\n",
    "\n",
    "**GPU:** \n",
    "+ Many parallel executing units (ALUs).\n",
    "+ Best known use case: Graphics."
   ]
  },
  {
   "cell_type": "markdown",
   "metadata": {
    "id": "fBY4jRgcZzTL"
   },
   "source": [
    "## 2.3 Compute Unified Device Architecture (CUDA)"
   ]
  },
  {
   "cell_type": "markdown",
   "metadata": {
    "id": "02fs-NOZZ6f5"
   },
   "source": [
    "### 2.3.1. What's CUDA?\n",
    "\n"
   ]
  },
  {
   "cell_type": "markdown",
   "metadata": {
    "id": "3zoljPgbOT6u"
   },
   "source": [
    "![](imgs/slides_d2/070.PNG)"
   ]
  },
  {
   "cell_type": "markdown",
   "metadata": {
    "id": "ks6L4AHoI6US"
   },
   "source": [
    "+ Cuda is a software layer that gives direct access to the GPU’s virtual instruction set and parallel computational elements to execute functions, called *kernels*.\n",
    "+ CUDA is indicated as a General-Purpose computing on GPUs (GPGPU).\n",
    "+ GPUs traditionally handle computations for computer graphics."
   ]
  },
  {
   "cell_type": "markdown",
   "metadata": {
    "id": "zLnmvf7RavdZ"
   },
   "source": [
    "### 2.3.2. CUDA's Program Flow"
   ]
  },
  {
   "cell_type": "markdown",
   "metadata": {
    "id": "WDkxnv0KOQOb"
   },
   "source": [
    "![](imgs/slides_d2/071.PNG)"
   ]
  },
  {
   "cell_type": "markdown",
   "metadata": {
    "id": "-hiWbJkHa4U7"
   },
   "source": [
    "1. Load data on Host.\n",
    "2. Allocate device memory.\n",
    "3. Copy data from Host to Device.\n",
    "4. Execute divece *kernels* to process data.\n",
    "5. Copy results from Device to Host memory."
   ]
  },
  {
   "cell_type": "markdown",
   "metadata": {
    "id": "0XjJJ5iKbRED"
   },
   "source": [
    "## 2.4. Parallel GPU computing with Python"
   ]
  },
  {
   "cell_type": "markdown",
   "metadata": {
    "id": "rVtRkkmnbvOf"
   },
   "source": [
    "### 2.4.1. Universal functions (`ufunc`)\n",
    "\n",
    "A universal function is a function that operates on `ndarrays` in an element-by-element fashion, supporting array broadcasting, type casting, and several other standard features. \n",
    "\n",
    "A `ufunc` is a \"vectorized\" wrapper for a function that takes a fixed number of specific inputs and produces a fixed number of specific outputs. \n",
    "\n",
    "(_Source: [Numpy Documentation](https://numpy.org/doc/stable/reference/ufuncs.html)_)."
   ]
  },
  {
   "cell_type": "markdown",
   "metadata": {
    "id": "cVVnPlcZcYRM"
   },
   "source": [
    "#### 2.4.1.1. Example: My first vectorized function"
   ]
  },
  {
   "cell_type": "code",
   "execution_count": null,
   "metadata": {
    "id": "5ggpWB7GcfvL"
   },
   "outputs": [],
   "source": [
    "from numba import vectorize \n",
    "import math"
   ]
  },
  {
   "cell_type": "code",
   "execution_count": null,
   "metadata": {
    "id": "IrQNce9nbUlj"
   },
   "outputs": [],
   "source": [
    "# generating data\n",
    "num_points = int(1e6) # 1 million of points"
   ]
  },
  {
   "cell_type": "code",
   "execution_count": null,
   "metadata": {
    "id": "WnLINLgdckkg"
   },
   "outputs": [],
   "source": [
    "@vectorize\n",
    "def cpu_sqrt(x):\n",
    "    return math.sqrt(x)"
   ]
  },
  {
   "cell_type": "code",
   "execution_count": null,
   "metadata": {
    "id": "4MKax31wcmnD"
   },
   "outputs": [],
   "source": [
    "@vectorize(['float32(float32)'], target='cuda')\n",
    "def gpu_sqrt(x):\n",
    "    return math.sqrt(x)"
   ]
  },
  {
   "cell_type": "markdown",
   "metadata": {
    "id": "vPr0t0XodN0N"
   },
   "source": [
    "#### 2.4.1.2. Allowing multiple signatures in vectorized functions"
   ]
  },
  {
   "cell_type": "markdown",
   "metadata": {
    "id": "zJl5wJqiK9Jz"
   },
   "source": [
    "Numba's vectorized functions can allow more than one data type as input. In that case, we will need to add another signature as the input parameter of the vectorize decorator.\n",
    "\n",
    "For example:"
   ]
  },
  {
   "cell_type": "code",
   "execution_count": null,
   "metadata": {
    "id": "IfSIatVMdQ9H"
   },
   "outputs": [],
   "source": [
    "@vectorize(['int32(int32, int32)', 'float64(float64, float64)'])\n",
    "def my_ufunc(x, y):\n",
    "    return x+y+math.sqrt(x*math.cos(y))"
   ]
  },
  {
   "cell_type": "code",
   "execution_count": null,
   "metadata": {
    "id": "4H1miYPxeoxs"
   },
   "outputs": [],
   "source": [
    "@vectorize(['int32(int32, int32)', 'float64(float64, float64)'])\n",
    "def my_ufunc(x, y):\n",
    "    return np.abs(x-y)"
   ]
  },
  {
   "cell_type": "code",
   "execution_count": null,
   "metadata": {
    "colab": {
     "base_uri": "https://localhost:8080/"
    },
    "id": "ayKWy9pAdUA9",
    "outputId": "a3e230ea-3a03-4550-a81d-546a08fe4a7c"
   },
   "outputs": [
    {
     "name": "stdout",
     "output_type": "stream",
     "text": [
      "[0.1 0.1 0.1 0.1 0.1 0.1 0.1 0.1 0.1]\n"
     ]
    }
   ],
   "source": [
    "a = np.arange(1.0, 10.0, dtype='f8')\n",
    "b = np.arange(1.1, 10.1, dtype='f8')\n",
    "print(my_ufunc(a, b))"
   ]
  },
  {
   "cell_type": "code",
   "execution_count": null,
   "metadata": {
    "colab": {
     "base_uri": "https://localhost:8080/"
    },
    "id": "cv8svWxOdTM5",
    "outputId": "b7e91d81-dcf1-4273-b178-f1764873c8d3"
   },
   "outputs": [
    {
     "name": "stdout",
     "output_type": "stream",
     "text": [
      "[1 1 1 1 1 1 1 1 1]\n"
     ]
    }
   ],
   "source": [
    "a = np.arange(1, 10, dtype='i4')\n",
    "b = np.arange(2, 11, dtype='i4')\n",
    "print(my_ufunc(a, b))"
   ]
  },
  {
   "cell_type": "markdown",
   "metadata": {
    "id": "OpRPsiCXcsK6"
   },
   "source": [
    "#### 2.4.1.2. Exercise"
   ]
  },
  {
   "cell_type": "markdown",
   "metadata": {
    "id": "epwq91XHiD4w"
   },
   "source": [
    "Create two vectorized functions: `my_cpu_ufunc` and `my_gpu_func`. Both receive two arrays `x` and `y` as input parameters.\n",
    "\n",
    "Make `my_cpu_ufunc` and `my_gpu_ufunc` running in CPU and GPU, respectively."
   ]
  },
  {
   "cell_type": "markdown",
   "metadata": {
    "id": "B_Sp0xn6cvx8"
   },
   "source": [
    "#### 2.4.1.3. Solution"
   ]
  },
  {
   "cell_type": "code",
   "execution_count": null,
   "metadata": {
    "id": "urtaqyTJimPL"
   },
   "outputs": [],
   "source": [
    "from numba import vectorize "
   ]
  },
  {
   "cell_type": "code",
   "execution_count": null,
   "metadata": {
    "id": "Jd_Zpz_WiuAj"
   },
   "outputs": [],
   "source": [
    "# generating data\n",
    "a = np.arange(1.0, 10.0)\n",
    "b = np.ones(shape=a.shape[0])"
   ]
  },
  {
   "cell_type": "code",
   "execution_count": null,
   "metadata": {
    "id": "P5XrUesxia2a"
   },
   "outputs": [],
   "source": [
    "# add the decorartor here!\n",
    "def my_cpu_ufunc(x, y):\n",
    "    return abs(x-y)"
   ]
  },
  {
   "cell_type": "code",
   "execution_count": null,
   "metadata": {
    "id": "nlBl6-rDieyD"
   },
   "outputs": [],
   "source": [
    "# add the decorartor here!\n",
    "def my_gpu_ufunc(x, y):\n",
    "    return abs(x-y)"
   ]
  },
  {
   "cell_type": "markdown",
   "metadata": {
    "id": "GUv6LEtxjFwo"
   },
   "source": [
    "Try them!"
   ]
  },
  {
   "cell_type": "code",
   "execution_count": null,
   "metadata": {
    "colab": {
     "base_uri": "https://localhost:8080/"
    },
    "id": "0_59neYsio57",
    "outputId": "10d63479-aad0-46ec-c960-99ff02602bdc"
   },
   "outputs": [
    {
     "name": "stdout",
     "output_type": "stream",
     "text": [
      "CPU times: user 25 µs, sys: 4 µs, total: 29 µs\n",
      "Wall time: 33.4 µs\n"
     ]
    },
    {
     "data": {
      "text/plain": [
       "array([0., 1., 2., 3., 4., 5., 6., 7., 8.])"
      ]
     },
     "execution_count": 46,
     "metadata": {},
     "output_type": "execute_result"
    }
   ],
   "source": [
    "%time my_cpu_ufunc(a, b)"
   ]
  },
  {
   "cell_type": "code",
   "execution_count": null,
   "metadata": {
    "colab": {
     "base_uri": "https://localhost:8080/"
    },
    "id": "fQz5MAwXi36k",
    "outputId": "7f7e599b-e1cf-4c44-8259-4d6ce3e297df"
   },
   "outputs": [
    {
     "name": "stdout",
     "output_type": "stream",
     "text": [
      "CPU times: user 4.34 ms, sys: 33 µs, total: 4.37 ms\n",
      "Wall time: 4.51 ms\n"
     ]
    },
    {
     "data": {
      "text/plain": [
       "array([0., 1., 2., 3., 4., 5., 6., 7., 8.])"
      ]
     },
     "execution_count": 47,
     "metadata": {},
     "output_type": "execute_result"
    }
   ],
   "source": [
    "%time my_gpu_ufunc(a, b)"
   ]
  },
  {
   "cell_type": "markdown",
   "metadata": {
    "id": "voMEhB-_jsjR"
   },
   "source": [
    "How was the performance of CPU vs GPU vectorization?"
   ]
  },
  {
   "cell_type": "markdown",
   "metadata": {
    "id": "J1inNsKNNR8u"
   },
   "source": [
    "#### 2.4.1.3 Solution (Solved)"
   ]
  },
  {
   "cell_type": "code",
   "execution_count": null,
   "metadata": {
    "id": "B9BouUkTgv3b"
   },
   "outputs": [],
   "source": [
    "import numpy as np"
   ]
  },
  {
   "cell_type": "code",
   "execution_count": null,
   "metadata": {
    "id": "8XBXxiGCc7ME"
   },
   "outputs": [],
   "source": [
    "from numba import vectorize \n",
    "import math"
   ]
  },
  {
   "cell_type": "code",
   "execution_count": null,
   "metadata": {
    "id": "VWF4kcbHc5sx"
   },
   "outputs": [],
   "source": [
    "@vectorize(['float64(float64, float64)'], target='cpu')\n",
    "def my_cpu_ufunc(x, y):\n",
    "    return abs(x-y)"
   ]
  },
  {
   "cell_type": "code",
   "execution_count": null,
   "metadata": {
    "id": "PSoyCGE7giQC"
   },
   "outputs": [],
   "source": [
    "@vectorize(['float64(float64, float64)'], target='cuda')\n",
    "def my_gpu_ufunc(x, y):\n",
    "    return abs(x-y)"
   ]
  },
  {
   "cell_type": "code",
   "execution_count": null,
   "metadata": {
    "id": "Sz-cy60kc-4N"
   },
   "outputs": [],
   "source": [
    "a = np.arange(1.0, 10.0)\n",
    "b = np.ones(shape=a.shape[0])"
   ]
  },
  {
   "cell_type": "code",
   "execution_count": null,
   "metadata": {
    "colab": {
     "base_uri": "https://localhost:8080/"
    },
    "id": "VKVIoYRmdAlM",
    "outputId": "6440148b-731c-4cf0-805d-41c3402c290c"
   },
   "outputs": [
    {
     "name": "stdout",
     "output_type": "stream",
     "text": [
      "[0. 1. 2. 3. 4. 5. 6. 7. 8.]\n"
     ]
    }
   ],
   "source": [
    "# Calls compiled version of my_ufunc for each element of a and b\n",
    "print(my_cpu_ufunc(a, b))"
   ]
  },
  {
   "cell_type": "code",
   "execution_count": null,
   "metadata": {
    "colab": {
     "base_uri": "https://localhost:8080/"
    },
    "id": "mf5UQf9Pf9r4",
    "outputId": "b850d14a-19a2-43e8-cfb0-4389ce5a766c"
   },
   "outputs": [
    {
     "name": "stdout",
     "output_type": "stream",
     "text": [
      "[0. 1. 2. 3. 4. 5. 6. 7. 8.]\n"
     ]
    }
   ],
   "source": [
    "# Calls compiled version of my_ufunc for each element of a and b\n",
    "print(my_gpu_ufunc(a, b))"
   ]
  },
  {
   "cell_type": "markdown",
   "metadata": {
    "id": "a81YE7d-NWjR"
   },
   "source": [
    "----"
   ]
  },
  {
   "cell_type": "markdown",
   "metadata": {
    "id": "9Ckygt4ljbFu"
   },
   "source": [
    "## 2.4.2.  GPU's Device functions"
   ]
  },
  {
   "cell_type": "markdown",
   "metadata": {
    "id": "lMSAbJ-BNgtF"
   },
   "source": [
    "### 2.4.2.1. Introduction"
   ]
  },
  {
   "cell_type": "markdown",
   "metadata": {
    "id": "q9drHZ19Nlnl"
   },
   "source": [
    "Remember the CUDA program flow? We can have control of the data transfering of our data from/to GPU with GPU's device functions. "
   ]
  },
  {
   "cell_type": "markdown",
   "metadata": {
    "id": "-qNuapQWN95X"
   },
   "source": [
    "![](imgs/slides_d2/071.PNG)"
   ]
  },
  {
   "cell_type": "markdown",
   "metadata": {
    "id": "rFRV5zL2N-dK"
   },
   "source": [
    "These functions are compiled functoins executed on GPU."
   ]
  },
  {
   "cell_type": "markdown",
   "metadata": {
    "id": "1wqL_dwAZMlJ"
   },
   "source": [
    "### 2.4.2.2. Example"
   ]
  },
  {
   "cell_type": "code",
   "execution_count": null,
   "metadata": {
    "id": "FdUf39j8Q1im"
   },
   "outputs": [],
   "source": [
    "from numba import vectorize\n",
    "import numpy as np"
   ]
  },
  {
   "cell_type": "code",
   "execution_count": null,
   "metadata": {
    "id": "8p-PAufPQxlN"
   },
   "outputs": [],
   "source": [
    "@vectorize(['int16(int16, int16)'], target='cuda')\n",
    "def a_device_function(x, y):\n",
    "    return x + y"
   ]
  },
  {
   "cell_type": "code",
   "execution_count": null,
   "metadata": {
    "id": "VXLXEjs8RnJG"
   },
   "outputs": [],
   "source": []
  },
  {
   "cell_type": "code",
   "execution_count": null,
   "metadata": {
    "colab": {
     "base_uri": "https://localhost:8080/"
    },
    "id": "s1f9OVMDRP-j",
    "outputId": "1de3a50f-efef-49db-aca3-3075311e8623"
   },
   "outputs": [
    {
     "name": "stdout",
     "output_type": "stream",
     "text": [
      "[1 1 1 ... 1 1 1]\n",
      "[2 2 2 ... 2 2 2]\n"
     ]
    }
   ],
   "source": [
    "n = 10_000\n",
    "x = np.ones(shape=n, dtype=np.int16)\n",
    "y = x*2\n",
    "print(x)\n",
    "print(y)"
   ]
  },
  {
   "cell_type": "code",
   "execution_count": null,
   "metadata": {
    "id": "ymQ9PuVERFu7"
   },
   "outputs": [],
   "source": [
    "# transfer inputs to the gpu\n",
    "x_gpu = cuda.to_device(x)\n",
    "y_gpu = cuda.to_device(y)"
   ]
  },
  {
   "cell_type": "code",
   "execution_count": null,
   "metadata": {
    "id": "UBiZYEFPQyWC"
   },
   "outputs": [],
   "source": [
    "# creating out array on GPU\n",
    "z_gpu = cuda.device_array(shape=(n,), dtype=np.int16)"
   ]
  },
  {
   "cell_type": "code",
   "execution_count": null,
   "metadata": {
    "colab": {
     "base_uri": "https://localhost:8080/"
    },
    "id": "7iO7qL47QyqW",
    "outputId": "7a1dda42-dd59-4c5f-faf9-0f9a728593f1"
   },
   "outputs": [
    {
     "data": {
      "text/plain": [
       "<numba.cuda.cudadrv.devicearray.DeviceNDArray at 0x7f94f73de450>"
      ]
     },
     "execution_count": 60,
     "metadata": {},
     "output_type": "execute_result"
    }
   ],
   "source": [
    "a_device_function(x_gpu, y_gpu, out=z_gpu)"
   ]
  },
  {
   "cell_type": "code",
   "execution_count": null,
   "metadata": {
    "id": "UmPlYh1GR2cF"
   },
   "outputs": [],
   "source": [
    "z = z_gpu.copy_to_host()"
   ]
  },
  {
   "cell_type": "code",
   "execution_count": null,
   "metadata": {
    "colab": {
     "base_uri": "https://localhost:8080/"
    },
    "id": "Q3nw4wWXR5l0",
    "outputId": "c9b5ab6e-0f6c-435e-cf51-d8b7019e7503"
   },
   "outputs": [
    {
     "name": "stdout",
     "output_type": "stream",
     "text": [
      "[3 3 3 ... 3 3 3]\n"
     ]
    }
   ],
   "source": [
    "print(z)"
   ]
  },
  {
   "cell_type": "markdown",
   "metadata": {
    "id": "v-PgaTX-wBq_"
   },
   "source": [
    "Pure Numpy version"
   ]
  },
  {
   "cell_type": "code",
   "execution_count": null,
   "metadata": {
    "id": "P26xXu7Vv8N5"
   },
   "outputs": [],
   "source": [
    "n = 5_000_000\n",
    "\n",
    "# random values between 0. and 255.\n",
    "greyscales = np.floor(np.random.uniform(0, 256, n).astype(np.float32))\n",
    "# random weights following a Gaussian distribution\n",
    "# centred on 0.5 and with width 0.1\n",
    "weights = np.random.normal(.5, .1, n).astype(np.float32)\n",
    "\n",
    "def normalize(grayscales):\n",
    "    return grayscales / 255\n",
    "\n",
    "def weigh(values, weights):\n",
    "    return values * weights\n",
    "        \n",
    "def activate(values):\n",
    "    return ( np.exp(values) - np.exp(-values) ) / \\\n",
    "            ( np.exp(values) + np.exp(-values) )"
   ]
  },
  {
   "cell_type": "code",
   "execution_count": null,
   "metadata": {
    "colab": {
     "base_uri": "https://localhost:8080/"
    },
    "id": "TqGYqQt6wKH_",
    "outputId": "980f4171-f4f6-4b46-84d0-9268df8734de"
   },
   "outputs": [
    {
     "name": "stdout",
     "output_type": "stream",
     "text": [
      "10 loops, best of 5: 52.1 ms per loop\n"
     ]
    }
   ],
   "source": [
    "%%timeit\n",
    "normalized = normalize(greyscales)\n",
    "weighted = weigh(normalized, weights)\n",
    "activated = activate(weighted)"
   ]
  },
  {
   "cell_type": "markdown",
   "metadata": {
    "id": "XE9_XIY5wHfA"
   },
   "source": [
    "Parallel version for the GPU"
   ]
  },
  {
   "cell_type": "code",
   "execution_count": null,
   "metadata": {
    "id": "hMWKbBd8wELP"
   },
   "outputs": [],
   "source": [
    "@vectorize(['float32(float32)'],target='cuda')\n",
    "def gpu_normalize(x):\n",
    "    return x / 255\n",
    "\n",
    "@vectorize(['float32(float32, float32)'],target='cuda')\n",
    "def gpu_weigh(x, w):\n",
    "    return x * w\n",
    "\n",
    "@vectorize(['float32(float32)'],target='cuda')\n",
    "def gpu_activate(x): \n",
    "    return ( math.exp(x) - math.exp(-x) ) / ( math.exp(x) + math.exp(-x) )"
   ]
  },
  {
   "cell_type": "code",
   "execution_count": null,
   "metadata": {
    "colab": {
     "base_uri": "https://localhost:8080/"
    },
    "id": "yh---WLvwO5q",
    "outputId": "873428dc-f5dd-4b4d-8610-43f54f9ca734"
   },
   "outputs": [
    {
     "name": "stdout",
     "output_type": "stream",
     "text": [
      "The slowest run took 13.52 times longer than the fastest. This could mean that an intermediate result is being cached.\n",
      "1 loop, best of 5: 34.1 ms per loop\n"
     ]
    }
   ],
   "source": [
    "%%timeit\n",
    "normalized = gpu_normalize(greyscales)\n",
    "weighted = gpu_weigh(normalized, weights)\n",
    "activated = gpu_activate(weighted)"
   ]
  },
  {
   "cell_type": "markdown",
   "metadata": {
    "id": "sdabQ1rywpxK"
   },
   "source": [
    "\" That's already quite nice, we gained more than a factor of two!\n",
    "\n",
    "But we realize that we spend time transferring data back and forth between the host and the GPU for nothing:\n",
    "\n",
    "    transfer greyscales to the GPU\n",
    "    transfer normalized to the host, and then back to the GPU, together with weights\n",
    "    transfer weighted to the host, and then back to the GPU\n",
    "    transfer activated to the host\n",
    "\n",
    "Actually, we only need to:\n",
    "\n",
    "    transfer greyscales and weights to the GPU\n",
    "    retrieve activated\n",
    "\""
   ]
  },
  {
   "cell_type": "code",
   "execution_count": null,
   "metadata": {
    "id": "CuLUWigaw6Kb"
   },
   "outputs": [],
   "source": [
    "from numba import cuda"
   ]
  },
  {
   "cell_type": "code",
   "execution_count": null,
   "metadata": {
    "colab": {
     "base_uri": "https://localhost:8080/"
    },
    "id": "Ae0UgAQPw4u6",
    "outputId": "0191a3b2-3e07-4e90-e4dc-213b1b834132"
   },
   "outputs": [
    {
     "name": "stdout",
     "output_type": "stream",
     "text": [
      "CPU times: user 12.9 ms, sys: 975 µs, total: 13.9 ms\n",
      "Wall time: 14.2 ms\n"
     ]
    }
   ],
   "source": [
    "%%time\n",
    "# create intermediate arrays on the GPU\n",
    "normalized_gpu = cuda.device_array(shape=(n,), dtype=np.float32)\n",
    "weighted_gpu = cuda.device_array(shape=(n,),  dtype=np.float32)\n",
    "\n",
    "# note that output device arrays are provided as arguments \n",
    "gpu_normalize(greyscales, out=normalized_gpu)\n",
    "gpu_weigh(normalized_gpu, weights, out=weighted_gpu)\n",
    "activated = gpu_activate(weighted_gpu)"
   ]
  },
  {
   "cell_type": "markdown",
   "metadata": {
    "id": "jTOAGHvVxCoe"
   },
   "source": [
    "\"Another important thing to know is that we can also take full control on the transfers to and from the GPU like this: \""
   ]
  },
  {
   "cell_type": "code",
   "execution_count": null,
   "metadata": {
    "id": "Qw_QD2HXxBSy"
   },
   "outputs": [],
   "source": [
    "# transfer inputs to the gpu\n",
    "greyscales_gpu = cuda.to_device(greyscales)\n",
    "weights_gpu = cuda.to_device(weights)\n",
    "\n",
    "# create intermediate arrays and output array on the GPU\n",
    "normalized_gpu = cuda.device_array(shape=(n,), dtype=np.float32)\n",
    "weighted_gpu = cuda.device_array(shape=(n,) ,  dtype=np.float32)\n",
    "activated_gpu = cuda.device_array(shape=(n,), dtype=np.float32)"
   ]
  },
  {
   "cell_type": "code",
   "execution_count": null,
   "metadata": {
    "colab": {
     "base_uri": "https://localhost:8080/"
    },
    "id": "lmGCM-2_xJ4E",
    "outputId": "7503c2d1-1210-4b34-8070-03b4bdca4098"
   },
   "outputs": [
    {
     "name": "stdout",
     "output_type": "stream",
     "text": [
      "1000 loops, best of 5: 1.6 ms per loop\n"
     ]
    }
   ],
   "source": [
    "%%timeit\n",
    "gpu_normalize(greyscales_gpu, out=normalized_gpu)\n",
    "gpu_weigh(normalized_gpu, weights_gpu, out=weighted_gpu)\n",
    "gpu_activate(weighted_gpu, out=activated_gpu)"
   ]
  },
  {
   "cell_type": "code",
   "execution_count": null,
   "metadata": {
    "colab": {
     "base_uri": "https://localhost:8080/"
    },
    "id": "lVCofoBPxPcW",
    "outputId": "ef3cdf2b-26eb-4a3b-b4a9-4cd904b37841"
   },
   "outputs": [
    {
     "data": {
      "text/plain": [
       "array([0.03589012, 0.39105397, 0.26380607, ..., 0.11930222, 0.10589294,\n",
       "       0.41564855], dtype=float32)"
      ]
     },
     "execution_count": 154,
     "metadata": {},
     "output_type": "execute_result"
    }
   ],
   "source": [
    "activated = activated_gpu.copy_to_host()\n",
    "activated"
   ]
  },
  {
   "cell_type": "markdown",
   "metadata": {
    "id": "kGQzpOtHv6rJ"
   },
   "source": [
    "---"
   ]
  },
  {
   "cell_type": "markdown",
   "metadata": {
    "id": "MKVZNEzfPf75"
   },
   "source": [
    "\"\n",
    "Wait! We do not gain anything and the CPU version is actually faster! \n",
    "\n",
    "If the calculation is too simple, there is no use shipping our data to the GPU for fast parallel processing, if we are to wait so long for the data transfers to complete. In other words, most of the time is spent in the data transfers, and the GPU is basically useless.\n",
    "\n",
    "Let's see what happens with a more involved calculation. \n",
    "\""
   ]
  },
  {
   "cell_type": "code",
   "execution_count": null,
   "metadata": {
    "colab": {
     "base_uri": "https://localhost:8080/"
    },
    "id": "fZrckcclNSHN",
    "outputId": "370f7dfc-3496-4812-f06f-a0e3d885ee55"
   },
   "outputs": [
    {
     "data": {
      "text/plain": [
       "array([[ 0.18369633,  0.00225783],\n",
       "       [ 0.05449148, -0.50737995],\n",
       "       [ 0.45961592,  0.96869206],\n",
       "       ...,\n",
       "       [-0.22614779,  0.37502873],\n",
       "       [-0.25419563, -0.9403678 ],\n",
       "       [ 0.41602236,  0.24622814]], dtype=float32)"
      ]
     },
     "execution_count": 21,
     "metadata": {},
     "output_type": "execute_result"
    }
   ],
   "source": [
    "## From cartesian to polar coordinates on the GPU (Change this exercise)\n",
    "\n",
    "points = np.random.multivariate_normal([0,0], [[1.,0.9], [0.9,1.]], 1000).astype(np.float32)\n",
    "points"
   ]
  },
  {
   "cell_type": "code",
   "execution_count": null,
   "metadata": {
    "colab": {
     "base_uri": "https://localhost:8080/",
     "height": 228
    },
    "id": "3wmmntnBRMS9",
    "outputId": "46240897-adab-4207-b3b4-5be74d8e3ea2"
   },
   "outputs": [
    {
     "data": {
      "text/plain": [
       "<matplotlib.collections.PathCollection at 0x7f726c2d4f10>"
      ]
     },
     "execution_count": 22,
     "metadata": {},
     "output_type": "execute_result"
    },
    {
     "data": {
      "image/png": "[encoded data removed]",
      "text/plain": [
       "<Figure size 216x216 with 1 Axes>"
      ]
     },
     "metadata": {
      "needs_background": "light"
     },
     "output_type": "display_data"
    }
   ],
   "source": [
    "import matplotlib.pyplot as plt\n",
    "\n",
    "plt.figure(figsize=(3,3)); plt.scatter(points[:,0], points[:,1], alpha=0.7)"
   ]
  },
  {
   "cell_type": "code",
   "execution_count": null,
   "metadata": {
    "colab": {
     "base_uri": "https://localhost:8080/",
     "height": 265
    },
    "id": "6abwRgRXRR9w",
    "outputId": "3c751587-ffff-46be-ebde-a9b65bc3f2fb"
   },
   "outputs": [
    {
     "data": {
      "image/png": "[encoded data removed]",
      "text/plain": [
       "<Figure size 432x288 with 1 Axes>"
      ]
     },
     "metadata": {
      "needs_background": "light"
     },
     "output_type": "display_data"
    }
   ],
   "source": [
    "theta = np.arctan2(points[:,1], points[:,0]) \n",
    "_ = plt.hist(theta, bins=200)"
   ]
  },
  {
   "cell_type": "code",
   "execution_count": null,
   "metadata": {
    "id": "KtO9TtCsRmjY"
   },
   "outputs": [],
   "source": [
    "# \"Now let's try and perform the same calculation on the GPU. This time, we have two input values, and we define the function signature accordingly.\"\n",
    "\n",
    "@vectorize(['float32(float32, float32)'], target='cuda')\n",
    "def gpu_arctan2(y, x): \n",
    "    theta = math.atan2(y,x)\n",
    "    return theta\n",
    "\n",
    "@vectorize(['float32(float32, float32)'], target='cpu')\n",
    "def cpu_arctan2(y, x): \n",
    "    theta = math.atan2(y,x)\n",
    "    return theta"
   ]
  },
  {
   "cell_type": "code",
   "execution_count": null,
   "metadata": {
    "colab": {
     "base_uri": "https://localhost:8080/",
     "height": 313
    },
    "id": "4xlkUrFLR2ai",
    "outputId": "fe658da5-f6de-4956-8083-6834e15308bf"
   },
   "outputs": [
    {
     "ename": "ValueError",
     "evalue": "ignored",
     "output_type": "error",
     "traceback": [
      "\u001b[0;31m---------------------------------------------------------------------------\u001b[0m",
      "\u001b[0;31mValueError\u001b[0m                                Traceback (most recent call last)",
      "\u001b[0;32m<ipython-input-25-2811dabcd6c9>\u001b[0m in \u001b[0;36m<module>\u001b[0;34m()\u001b[0m\n\u001b[0;32m----> 1\u001b[0;31m \u001b[0mtheta\u001b[0m \u001b[0;34m=\u001b[0m \u001b[0mgpu_arctan2\u001b[0m\u001b[0;34m(\u001b[0m\u001b[0mpoints\u001b[0m\u001b[0;34m[\u001b[0m\u001b[0;34m:\u001b[0m\u001b[0;34m,\u001b[0m\u001b[0;36m1\u001b[0m\u001b[0;34m]\u001b[0m\u001b[0;34m,\u001b[0m \u001b[0mpoints\u001b[0m\u001b[0;34m[\u001b[0m\u001b[0;34m:\u001b[0m\u001b[0;34m,\u001b[0m\u001b[0;36m0\u001b[0m\u001b[0;34m]\u001b[0m\u001b[0;34m)\u001b[0m\u001b[0;34m\u001b[0m\u001b[0;34m\u001b[0m\u001b[0m\n\u001b[0m",
      "\u001b[0;32m/usr/local/lib/python3.7/dist-packages/numba/cuda/dispatcher.py\u001b[0m in \u001b[0;36m__call__\u001b[0;34m(self, *args, **kws)\u001b[0m\n\u001b[1;32m     39\u001b[0m                       \u001b[0mthe\u001b[0m \u001b[0minput\u001b[0m \u001b[0marguments\u001b[0m\u001b[0;34m.\u001b[0m\u001b[0;34m\u001b[0m\u001b[0;34m\u001b[0m\u001b[0m\n\u001b[1;32m     40\u001b[0m         \"\"\"\n\u001b[0;32m---> 41\u001b[0;31m         \u001b[0;32mreturn\u001b[0m \u001b[0mCUDAUFuncMechanism\u001b[0m\u001b[0;34m.\u001b[0m\u001b[0mcall\u001b[0m\u001b[0;34m(\u001b[0m\u001b[0mself\u001b[0m\u001b[0;34m.\u001b[0m\u001b[0mfunctions\u001b[0m\u001b[0;34m,\u001b[0m \u001b[0margs\u001b[0m\u001b[0;34m,\u001b[0m \u001b[0mkws\u001b[0m\u001b[0;34m)\u001b[0m\u001b[0;34m\u001b[0m\u001b[0;34m\u001b[0m\u001b[0m\n\u001b[0m\u001b[1;32m     42\u001b[0m \u001b[0;34m\u001b[0m\u001b[0m\n\u001b[1;32m     43\u001b[0m     \u001b[0;32mdef\u001b[0m \u001b[0mreduce\u001b[0m\u001b[0;34m(\u001b[0m\u001b[0mself\u001b[0m\u001b[0;34m,\u001b[0m \u001b[0marg\u001b[0m\u001b[0;34m,\u001b[0m \u001b[0mstream\u001b[0m\u001b[0;34m=\u001b[0m\u001b[0;36m0\u001b[0m\u001b[0;34m)\u001b[0m\u001b[0;34m:\u001b[0m\u001b[0;34m\u001b[0m\u001b[0;34m\u001b[0m\u001b[0m\n",
      "\u001b[0;32m/usr/local/lib/python3.7/dist-packages/numba/np/ufunc/deviceufunc.py\u001b[0m in \u001b[0;36mcall\u001b[0;34m(cls, typemap, args, kws)\u001b[0m\n\u001b[1;32m    289\u001b[0m                 \u001b[0many_device\u001b[0m \u001b[0;34m=\u001b[0m \u001b[0;32mTrue\u001b[0m\u001b[0;34m\u001b[0m\u001b[0;34m\u001b[0m\u001b[0m\n\u001b[1;32m    290\u001b[0m             \u001b[0;32melse\u001b[0m\u001b[0;34m:\u001b[0m\u001b[0;34m\u001b[0m\u001b[0;34m\u001b[0m\u001b[0m\n\u001b[0;32m--> 291\u001b[0;31m                 \u001b[0mdev_a\u001b[0m \u001b[0;34m=\u001b[0m \u001b[0mcr\u001b[0m\u001b[0;34m.\u001b[0m\u001b[0mto_device\u001b[0m\u001b[0;34m(\u001b[0m\u001b[0ma\u001b[0m\u001b[0;34m,\u001b[0m \u001b[0mstream\u001b[0m\u001b[0;34m=\u001b[0m\u001b[0mstream\u001b[0m\u001b[0;34m)\u001b[0m\u001b[0;34m\u001b[0m\u001b[0;34m\u001b[0m\u001b[0m\n\u001b[0m\u001b[1;32m    292\u001b[0m                 \u001b[0mdevarys\u001b[0m\u001b[0;34m.\u001b[0m\u001b[0mappend\u001b[0m\u001b[0;34m(\u001b[0m\u001b[0mdev_a\u001b[0m\u001b[0;34m)\u001b[0m\u001b[0;34m\u001b[0m\u001b[0;34m\u001b[0m\u001b[0m\n\u001b[1;32m    293\u001b[0m \u001b[0;34m\u001b[0m\u001b[0m\n",
      "\u001b[0;32m/usr/local/lib/python3.7/dist-packages/numba/cuda/dispatcher.py\u001b[0m in \u001b[0;36mto_device\u001b[0;34m(self, hostary, stream)\u001b[0m\n\u001b[1;32m    159\u001b[0m \u001b[0;34m\u001b[0m\u001b[0m\n\u001b[1;32m    160\u001b[0m     \u001b[0;32mdef\u001b[0m \u001b[0mto_device\u001b[0m\u001b[0;34m(\u001b[0m\u001b[0mself\u001b[0m\u001b[0;34m,\u001b[0m \u001b[0mhostary\u001b[0m\u001b[0;34m,\u001b[0m \u001b[0mstream\u001b[0m\u001b[0;34m)\u001b[0m\u001b[0;34m:\u001b[0m\u001b[0;34m\u001b[0m\u001b[0;34m\u001b[0m\u001b[0m\n\u001b[0;32m--> 161\u001b[0;31m         \u001b[0;32mreturn\u001b[0m \u001b[0mcuda\u001b[0m\u001b[0;34m.\u001b[0m\u001b[0mto_device\u001b[0m\u001b[0;34m(\u001b[0m\u001b[0mhostary\u001b[0m\u001b[0;34m,\u001b[0m \u001b[0mstream\u001b[0m\u001b[0;34m=\u001b[0m\u001b[0mstream\u001b[0m\u001b[0;34m)\u001b[0m\u001b[0;34m\u001b[0m\u001b[0;34m\u001b[0m\u001b[0m\n\u001b[0m\u001b[1;32m    162\u001b[0m \u001b[0;34m\u001b[0m\u001b[0m\n\u001b[1;32m    163\u001b[0m     \u001b[0;32mdef\u001b[0m \u001b[0mto_host\u001b[0m\u001b[0;34m(\u001b[0m\u001b[0mself\u001b[0m\u001b[0;34m,\u001b[0m \u001b[0mdevary\u001b[0m\u001b[0;34m,\u001b[0m \u001b[0mstream\u001b[0m\u001b[0;34m)\u001b[0m\u001b[0;34m:\u001b[0m\u001b[0;34m\u001b[0m\u001b[0;34m\u001b[0m\u001b[0m\n",
      "\u001b[0;32m/usr/local/lib/python3.7/dist-packages/numba/cuda/cudadrv/devices.py\u001b[0m in \u001b[0;36m_require_cuda_context\u001b[0;34m(*args, **kws)\u001b[0m\n\u001b[1;32m    222\u001b[0m     \u001b[0;32mdef\u001b[0m \u001b[0m_require_cuda_context\u001b[0m\u001b[0;34m(\u001b[0m\u001b[0;34m*\u001b[0m\u001b[0margs\u001b[0m\u001b[0;34m,\u001b[0m \u001b[0;34m**\u001b[0m\u001b[0mkws\u001b[0m\u001b[0;34m)\u001b[0m\u001b[0;34m:\u001b[0m\u001b[0;34m\u001b[0m\u001b[0;34m\u001b[0m\u001b[0m\n\u001b[1;32m    223\u001b[0m         \u001b[0;32mwith\u001b[0m \u001b[0m_runtime\u001b[0m\u001b[0;34m.\u001b[0m\u001b[0mensure_context\u001b[0m\u001b[0;34m(\u001b[0m\u001b[0;34m)\u001b[0m\u001b[0;34m:\u001b[0m\u001b[0;34m\u001b[0m\u001b[0;34m\u001b[0m\u001b[0m\n\u001b[0;32m--> 224\u001b[0;31m             \u001b[0;32mreturn\u001b[0m \u001b[0mfn\u001b[0m\u001b[0;34m(\u001b[0m\u001b[0;34m*\u001b[0m\u001b[0margs\u001b[0m\u001b[0;34m,\u001b[0m \u001b[0;34m**\u001b[0m\u001b[0mkws\u001b[0m\u001b[0;34m)\u001b[0m\u001b[0;34m\u001b[0m\u001b[0;34m\u001b[0m\u001b[0m\n\u001b[0m\u001b[1;32m    225\u001b[0m \u001b[0;34m\u001b[0m\u001b[0m\n\u001b[1;32m    226\u001b[0m     \u001b[0;32mreturn\u001b[0m \u001b[0m_require_cuda_context\u001b[0m\u001b[0;34m\u001b[0m\u001b[0;34m\u001b[0m\u001b[0m\n",
      "\u001b[0;32m/usr/local/lib/python3.7/dist-packages/numba/cuda/api.py\u001b[0m in \u001b[0;36mto_device\u001b[0;34m(obj, stream, copy, to)\u001b[0m\n\u001b[1;32m    108\u001b[0m     \"\"\"\n\u001b[1;32m    109\u001b[0m     \u001b[0;32mif\u001b[0m \u001b[0mto\u001b[0m \u001b[0;32mis\u001b[0m \u001b[0;32mNone\u001b[0m\u001b[0;34m:\u001b[0m\u001b[0;34m\u001b[0m\u001b[0;34m\u001b[0m\u001b[0m\n\u001b[0;32m--> 110\u001b[0;31m         \u001b[0mto\u001b[0m\u001b[0;34m,\u001b[0m \u001b[0mnew\u001b[0m \u001b[0;34m=\u001b[0m \u001b[0mdevicearray\u001b[0m\u001b[0;34m.\u001b[0m\u001b[0mauto_device\u001b[0m\u001b[0;34m(\u001b[0m\u001b[0mobj\u001b[0m\u001b[0;34m,\u001b[0m \u001b[0mstream\u001b[0m\u001b[0;34m=\u001b[0m\u001b[0mstream\u001b[0m\u001b[0;34m,\u001b[0m \u001b[0mcopy\u001b[0m\u001b[0;34m=\u001b[0m\u001b[0mcopy\u001b[0m\u001b[0;34m)\u001b[0m\u001b[0;34m\u001b[0m\u001b[0;34m\u001b[0m\u001b[0m\n\u001b[0m\u001b[1;32m    111\u001b[0m         \u001b[0;32mreturn\u001b[0m \u001b[0mto\u001b[0m\u001b[0;34m\u001b[0m\u001b[0;34m\u001b[0m\u001b[0m\n\u001b[1;32m    112\u001b[0m     \u001b[0;32mif\u001b[0m \u001b[0mcopy\u001b[0m\u001b[0;34m:\u001b[0m\u001b[0;34m\u001b[0m\u001b[0;34m\u001b[0m\u001b[0m\n",
      "\u001b[0;32m/usr/local/lib/python3.7/dist-packages/numba/cuda/cudadrv/devicearray.py\u001b[0m in \u001b[0;36mauto_device\u001b[0;34m(obj, stream, copy)\u001b[0m\n\u001b[1;32m    763\u001b[0m                 \u001b[0mcopy\u001b[0m\u001b[0;34m=\u001b[0m\u001b[0;32mFalse\u001b[0m\u001b[0;34m,\u001b[0m\u001b[0;34m\u001b[0m\u001b[0;34m\u001b[0m\u001b[0m\n\u001b[1;32m    764\u001b[0m                 subok=True)\n\u001b[0;32m--> 765\u001b[0;31m             \u001b[0msentry_contiguous\u001b[0m\u001b[0;34m(\u001b[0m\u001b[0mobj\u001b[0m\u001b[0;34m)\u001b[0m\u001b[0;34m\u001b[0m\u001b[0;34m\u001b[0m\u001b[0m\n\u001b[0m\u001b[1;32m    766\u001b[0m             \u001b[0mdevobj\u001b[0m \u001b[0;34m=\u001b[0m \u001b[0mfrom_array_like\u001b[0m\u001b[0;34m(\u001b[0m\u001b[0mobj\u001b[0m\u001b[0;34m,\u001b[0m \u001b[0mstream\u001b[0m\u001b[0;34m=\u001b[0m\u001b[0mstream\u001b[0m\u001b[0;34m)\u001b[0m\u001b[0;34m\u001b[0m\u001b[0;34m\u001b[0m\u001b[0m\n\u001b[1;32m    767\u001b[0m         \u001b[0;32mif\u001b[0m \u001b[0mcopy\u001b[0m\u001b[0;34m:\u001b[0m\u001b[0;34m\u001b[0m\u001b[0;34m\u001b[0m\u001b[0m\n",
      "\u001b[0;32m/usr/local/lib/python3.7/dist-packages/numba/cuda/cudadrv/devicearray.py\u001b[0m in \u001b[0;36msentry_contiguous\u001b[0;34m(ary)\u001b[0m\n\u001b[1;32m    737\u001b[0m     \u001b[0mcore\u001b[0m \u001b[0;34m=\u001b[0m \u001b[0marray_core\u001b[0m\u001b[0;34m(\u001b[0m\u001b[0mary\u001b[0m\u001b[0;34m)\u001b[0m\u001b[0;34m\u001b[0m\u001b[0;34m\u001b[0m\u001b[0m\n\u001b[1;32m    738\u001b[0m     \u001b[0;32mif\u001b[0m \u001b[0;32mnot\u001b[0m \u001b[0mcore\u001b[0m\u001b[0;34m.\u001b[0m\u001b[0mflags\u001b[0m\u001b[0;34m[\u001b[0m\u001b[0;34m'C_CONTIGUOUS'\u001b[0m\u001b[0;34m]\u001b[0m \u001b[0;32mand\u001b[0m \u001b[0;32mnot\u001b[0m \u001b[0mcore\u001b[0m\u001b[0;34m.\u001b[0m\u001b[0mflags\u001b[0m\u001b[0;34m[\u001b[0m\u001b[0;34m'F_CONTIGUOUS'\u001b[0m\u001b[0;34m]\u001b[0m\u001b[0;34m:\u001b[0m\u001b[0;34m\u001b[0m\u001b[0;34m\u001b[0m\u001b[0m\n\u001b[0;32m--> 739\u001b[0;31m         \u001b[0;32mraise\u001b[0m \u001b[0mValueError\u001b[0m\u001b[0;34m(\u001b[0m\u001b[0merrmsg_contiguous_buffer\u001b[0m\u001b[0;34m)\u001b[0m\u001b[0;34m\u001b[0m\u001b[0;34m\u001b[0m\u001b[0m\n\u001b[0m\u001b[1;32m    740\u001b[0m \u001b[0;34m\u001b[0m\u001b[0m\n\u001b[1;32m    741\u001b[0m \u001b[0;34m\u001b[0m\u001b[0m\n",
      "\u001b[0;31mValueError\u001b[0m: Array contains non-contiguous buffer and cannot be transferred as a single memory region. Please ensure contiguous buffer with numpy .ascontiguousarray()"
     ]
    }
   ],
   "source": [
    "theta = gpu_arctan2(points[:,1], points[:,0])"
   ]
  },
  {
   "cell_type": "code",
   "execution_count": null,
   "metadata": {
    "id": "eOMFIEqMR2cv"
   },
   "outputs": [],
   "source": [
    "x = np.ascontiguousarray(points[:,0]);\n",
    "y = np.ascontiguousarray(points[:,1])"
   ]
  },
  {
   "cell_type": "code",
   "execution_count": null,
   "metadata": {
    "id": "ROmRIGVnR2jV"
   },
   "outputs": [],
   "source": [
    "theta = gpu_arctan2(y, x)"
   ]
  },
  {
   "cell_type": "code",
   "execution_count": null,
   "metadata": {
    "colab": {
     "base_uri": "https://localhost:8080/",
     "height": 265
    },
    "id": "IfdamWY1SBvA",
    "outputId": "bd399da8-d978-4f48-fcf6-3ee86f352c4b"
   },
   "outputs": [
    {
     "data": {
      "image/png": "[encoded data removed]",
      "text/plain": [
       "<Figure size 432x288 with 1 Axes>"
      ]
     },
     "metadata": {
      "needs_background": "light"
     },
     "output_type": "display_data"
    }
   ],
   "source": [
    "_ = plt.hist(theta, bins=200)"
   ]
  },
  {
   "cell_type": "code",
   "execution_count": null,
   "metadata": {
    "id": "xRvJBKt0SDZO"
   },
   "outputs": [],
   "source": [
    "# \"As a general rule, one should remember that CUDA operates on data buffers that are contiguous in memory, like a C array, or a numpy array before any slicing.\"\n",
    "\n",
    "# \"Now let's be a bit more ambitious, and compute theta for 10 million points:\"\n",
    "\n",
    "points = np.random.multivariate_normal([0,0], [[1.,0.9], [0.9,1.]], int(1e7)).astype(np.float32)\n",
    "x = np.ascontiguousarray(points[:,0])\n",
    "y = np.ascontiguousarray(points[:,1])"
   ]
  },
  {
   "cell_type": "code",
   "execution_count": null,
   "metadata": {
    "colab": {
     "base_uri": "https://localhost:8080/"
    },
    "id": "WTlBvqAjSkqP",
    "outputId": "59011dcd-81fc-4d33-ef54-0f1e91e6b37f"
   },
   "outputs": [
    {
     "name": "stdout",
     "output_type": "stream",
     "text": [
      "10 loops, best of 5: 156 ms per loop\n"
     ]
    }
   ],
   "source": [
    "%timeit np.arctan(y, x) # numpy"
   ]
  },
  {
   "cell_type": "code",
   "execution_count": null,
   "metadata": {
    "colab": {
     "base_uri": "https://localhost:8080/"
    },
    "id": "0PMKhzjsS27x",
    "outputId": "9839eb9b-7f5a-4c23-bb61-0f463257897b"
   },
   "outputs": [
    {
     "name": "stdout",
     "output_type": "stream",
     "text": [
      "1 loop, best of 5: 261 ms per loop\n"
     ]
    }
   ],
   "source": [
    "%timeit cpu_arctan2(y, x) # compiled for the CPU "
   ]
  },
  {
   "cell_type": "code",
   "execution_count": null,
   "metadata": {
    "colab": {
     "base_uri": "https://localhost:8080/"
    },
    "id": "DbQoUhWISy6k",
    "outputId": "38bfa12c-c0bd-4747-9ce7-ee31053b715b"
   },
   "outputs": [
    {
     "name": "stdout",
     "output_type": "stream",
     "text": [
      "10 loops, best of 5: 30.6 ms per loop\n"
     ]
    }
   ],
   "source": [
    "%timeit gpu_arctan2(y, x) # compiled for the GPU "
   ]
  },
  {
   "cell_type": "code",
   "execution_count": null,
   "metadata": {
    "colab": {
     "base_uri": "https://localhost:8080/"
    },
    "id": "x1yBb6_qTXZi",
    "outputId": "01427a4d-024f-4288-c4ed-347516518c73"
   },
   "outputs": [
    {
     "name": "stdout",
     "output_type": "stream",
     "text": [
      "1 loop, best of 5: 5.62 s per loop\n"
     ]
    }
   ],
   "source": [
    "%timeit [math.atan2(point[1], point[0]) for point in points]"
   ]
  },
  {
   "cell_type": "markdown",
   "metadata": {
    "id": "SmOKCRcS-K_N"
   },
   "source": [
    "# Section 3: Graph analysis"
   ]
  },
  {
   "cell_type": "markdown",
   "metadata": {
    "id": "q7vyZP8b-ulK"
   },
   "source": [
    "**Context**"
   ]
  },
  {
   "cell_type": "markdown",
   "metadata": {
    "id": "BF6E6v-g-PeO"
   },
   "source": [
    "Historically first and conceptually simplest is degree centrality, which is defined as the number of links incident upon a node (i.e., the number of ties that a node has). The degree can be interpreted in terms of the immediate risk of a node for catching whatever is flowing through the network (such as a virus, or some information). In the case of a directed network (where ties have direction), we usually define two separate measures of degree centrality, namely indegree and outdegree. Accordingly, indegree is a count of the number of ties directed to the node and outdegree is the number of ties that the node directs to others. When ties are associated to some positive aspects such as friendship or collaboration, indegree is often interpreted as a form of popularity, and outdegree as gregariousness.\n",
    "\n",
    "The degree centrality of a vertex $v$ , for a given graph $G := ( V , E )$ with $| V |$ vertices and $| E |$ edges, is defined as:\n",
    "\n",
    "$DegreeCentrality(v) = deg(v)$.\n",
    "\n",
    "Source: [Wikipedia](https://en.wikipedia.org/wiki/Centrality)."
   ]
  },
  {
   "cell_type": "code",
   "execution_count": null,
   "metadata": {
    "id": "KVfMSVJf54v0"
   },
   "outputs": [],
   "source": [
    "import numpy as np\n",
    "from numba import prange, jit"
   ]
  },
  {
   "cell_type": "code",
   "execution_count": null,
   "metadata": {
    "id": "caY-UtX9-OxE"
   },
   "outputs": [],
   "source": []
  },
  {
   "cell_type": "code",
   "execution_count": null,
   "metadata": {
    "id": "FqYfwCLd53AC"
   },
   "outputs": [],
   "source": [
    "adj = np.array([\n",
    "  [0, 1, 0, 1, 1],\n",
    "  [1, 0, 0, 1, 0],\n",
    "  [0, 0, 0, 0, 1],\n",
    "  [1, 1, 0, 0, 1],\n",
    "  [1, 0, 1, 1, 0],\n",
    "])"
   ]
  },
  {
   "cell_type": "code",
   "execution_count": null,
   "metadata": {
    "colab": {
     "base_uri": "https://localhost:8080/"
    },
    "id": "C42Pc6Gl7rdn",
    "outputId": "d70cb553-7821-4617-b980-5a18b5b03e0f"
   },
   "outputs": [
    {
     "data": {
      "text/plain": [
       "array([3, 2, 1, 3, 3])"
      ]
     },
     "execution_count": 14,
     "metadata": {},
     "output_type": "execute_result"
    }
   ],
   "source": [
    "np.sum(adj, axis=0)"
   ]
  },
  {
   "cell_type": "code",
   "execution_count": null,
   "metadata": {
    "colab": {
     "base_uri": "https://localhost:8080/"
    },
    "id": "nudKjZ_E9PpP",
    "outputId": "b3dd5d32-97f3-4778-e424-b64fa515128f"
   },
   "outputs": [
    {
     "name": "stdout",
     "output_type": "stream",
     "text": [
      "The slowest run took 13.58 times longer than the fastest. This could mean that an intermediate result is being cached.\n",
      "100000 loops, best of 5: 3.71 µs per loop\n"
     ]
    }
   ],
   "source": [
    "%timeit np.sum(adj, axis=0)"
   ]
  },
  {
   "cell_type": "code",
   "execution_count": null,
   "metadata": {
    "id": "5VruSIaR57Yg"
   },
   "outputs": [],
   "source": [
    "@jit(nopython=True, parallel=True)\n",
    "def node_degrees(A):\n",
    "    B = np.zeros(shape=A.shape[0])\n",
    "    for i in prange(A.shape[0]):\n",
    "        B[i] += np.sum(A[i,:])\n",
    "    return B\n"
   ]
  },
  {
   "cell_type": "code",
   "execution_count": null,
   "metadata": {
    "colab": {
     "base_uri": "https://localhost:8080/"
    },
    "id": "i-Ff8oNy73s-",
    "outputId": "66fc99f0-ce45-46d4-ab1b-2665c583c3cb"
   },
   "outputs": [
    {
     "name": "stdout",
     "output_type": "stream",
     "text": [
      "The slowest run took 207215.06 times longer than the fastest. This could mean that an intermediate result is being cached.\n",
      "1 loop, best of 5: 2.84 µs per loop\n"
     ]
    }
   ],
   "source": [
    "%timeit node_degrees(adj)"
   ]
  },
  {
   "cell_type": "code",
   "execution_count": null,
   "metadata": {
    "id": "1TENmggn7JQf"
   },
   "outputs": [],
   "source": []
  },
  {
   "cell_type": "markdown",
   "metadata": {},
   "source": [
    "-----"
   ]
  },
  {
   "cell_type": "markdown",
   "metadata": {
    "id": "ciXmiBjIbVH9"
   },
   "source": [
    "# Section 3: A hidden layer implementation for image processing"
   ]
  },
  {
   "cell_type": "markdown",
   "metadata": {
    "id": "pEmPWCOnFOJ_"
   },
   "source": [
    "## 3.1. Introduction"
   ]
  },
  {
   "cell_type": "markdown",
   "metadata": {
    "id": "lHPWGZWkFJE9"
   },
   "source": [
    "![](https://miro.medium.com/max/1400/1*7aroEBBT6eKjARQEdY5dlQ.png)\n",
    "\n",
    "(_Image from [TowardDataScience.com](https://towardsdatascience.com/how-to-build-neural-network-from-scratch-d202b13d52c1)_)."
   ]
  },
  {
   "cell_type": "markdown",
   "metadata": {
    "id": "2UDeyxvKFSK2"
   },
   "source": [
    "Imagine you want to train a neural network for image processing."
   ]
  },
  {
   "cell_type": "markdown",
   "metadata": {
    "id": "B0UaBOKEEKGm"
   },
   "source": [
    "A hidden layer in the network might have to do the following:\n",
    "\n",
    "+ Normalize greyscale values in the image (**input**)\n",
    "+ Weight them (`w`)\n",
    "+ Apply an activation function $f$.\n"
   ]
  },
  {
   "cell_type": "markdown",
   "metadata": {
    "id": "kwKEb3-1Z3yq"
   },
   "source": [
    "You can send an array `x` to GPU by running:\n",
    "\n",
    "```python\n",
    "x_gpu = cuda.to_device(x)\n",
    "```\n",
    "\n",
    "In case you need to store intermediate results in intermediate arrays, you can create them as follows:\n",
    "\n",
    "```python\n",
    "intermediate_gpu = cuda.device_array(shape=(n,), dtype=np.float32)\n",
    "```\n",
    "\n",
    "As you saw, you will have to specify (1) the array size and (2) the data type. In this case, this _\"CUDA-array\"_ has size `n` and its type is `float32`.\n",
    "\n",
    "You can check more data types [here](https://numpy.org/doc/stable/user/basics.types.html)."
   ]
  },
  {
   "cell_type": "markdown",
   "metadata": {
    "id": "tvEPxAf1LzQj"
   },
   "source": [
    "The input vector $x$ represent a greyscale image. It contains values from 0 to 255. \n",
    "\n",
    "Thus, this problem can be solved in three steps:\n",
    "\n",
    "1. Normalizing gray scale vectors: $\\hat{x} = x / 255$ (normilazing grayscale vectors)\n",
    "\n",
    "2. Applying weights: $\\hat{w} = \\hat{x} \\cdot {w}$\n",
    "\n",
    "3. Computing an activation function $f(\\hat{w})$ such that: $f(\\hat{w}) = \\frac{e^\\hat{w} - e^\\hat{w}}{e^\\hat{w} + e^\\hat{w}}$"
   ]
  },
  {
   "cell_type": "markdown",
   "metadata": {
    "id": "qQvuLQSWPB_B"
   },
   "source": [
    "First, we need to create the grayscale vectors ($x$):\n",
    "\n",
    "Next, we will start the weights ($w$)of our network randomly, following a Gaussian distribution with $\\mu = 0.5$, and $\\sigma = 0.1$. Thus, such distribution is centred on 0.5 and with witdh 0.1.\n",
    "\n",
    "Both $x$ and $w$ with be defined as `np.float32`.\n",
    "\n",
    "The implementation with pure NumPy is:"
   ]
  },
  {
   "cell_type": "code",
   "execution_count": null,
   "metadata": {
    "id": "b-owb3HCPEoP"
   },
   "outputs": [],
   "source": [
    "n = 1000000\n",
    "\n",
    "# random values between 0. and 255.\n",
    "x = np.floor(np.random.uniform(0, 256, n).astype(np.float32))\n",
    "# random weights following a Gaussian distribution\n",
    "# centred on 0.5 and with width 0.1\n",
    "w = np.random.normal(.5, .1, n).astype(np.float32)"
   ]
  },
  {
   "cell_type": "markdown",
   "metadata": {
    "id": "IzRGS60qPHB3"
   },
   "source": [
    "And the proper computation of our activation function $f(\\hat{w})$ will be:"
   ]
  },
  {
   "cell_type": "code",
   "execution_count": null,
   "metadata": {
    "id": "IwboV6dkETAD"
   },
   "outputs": [],
   "source": [
    "def normalize(grayscales):\n",
    "    return grayscales / 255\n",
    "\n",
    "def weigh(values, weights):\n",
    "    return values * weights\n",
    "        \n",
    "def activate(values):\n",
    "    return ( np.exp(values) - np.exp(-values) ) / \\\n",
    "            ( np.exp(values) + np.exp(-values) )\n",
    "\n"
   ]
  },
  {
   "cell_type": "code",
   "execution_count": null,
   "metadata": {
    "id": "GhHQXdPIEVk3"
   },
   "outputs": [],
   "source": [
    "%%timeit\n",
    "normalized = normalize(x)\n",
    "weighted = weigh(normalized, w)\n",
    "activated = activate(weighted)"
   ]
  },
  {
   "cell_type": "markdown",
   "metadata": {
    "id": "r4IK5bL_EYI3"
   },
   "source": [
    "## 3.2. The Final Task\n"
   ]
  },
  {
   "cell_type": "markdown",
   "metadata": {
    "id": "nuOTET1SZx0L"
   },
   "source": [
    "## 3.2.1. Solution"
   ]
  },
  {
   "cell_type": "markdown",
   "metadata": {
    "id": "MnPr_vbYZ3yn"
   },
   "source": [
    "For this, we will need to import `cuda` from `numba`."
   ]
  },
  {
   "cell_type": "code",
   "execution_count": null,
   "metadata": {
    "id": "p7czYJyqZ3yp"
   },
   "outputs": [],
   "source": [
    "from numba import cuda, vectorize"
   ]
  },
  {
   "cell_type": "markdown",
   "metadata": {
    "id": "ZR5NcSi8afz2"
   },
   "source": [
    "Then, we can generate some data for `greyscales` and start our network with random `weights`:"
   ]
  },
  {
   "cell_type": "code",
   "execution_count": null,
   "metadata": {
    "id": "zECkK-5Oaet3"
   },
   "outputs": [],
   "source": [
    "n = 1000000\n",
    "\n",
    "# random values between 0. and 255.\n",
    "x = np.floor(np.random.uniform(0, 256, n).astype(np.float32))\n",
    "\n",
    "# random weights following a Gaussian distribution\n",
    "# centred on 0.5 and with width 0.2\n",
    "w = np.random.normal(.5, .2, n).astype(np.float32)"
   ]
  },
  {
   "cell_type": "code",
   "execution_count": null,
   "metadata": {
    "id": "KMf5hPVVaMIw"
   },
   "outputs": [],
   "source": [
    "# Hint: Transfer inputs to the GPU (i.e., x_gpu and w_gpu)\n"
   ]
  },
  {
   "cell_type": "code",
   "execution_count": null,
   "metadata": {
    "id": "hYCmJ-graHSL"
   },
   "outputs": [],
   "source": [
    "# Add a decorator to run it on GPU!\n",
    "def gpu_normalize(x):\n",
    "    return x / 255\n",
    "\n",
    "# Add a decorator to run it on GPU!\n",
    "def gpu_weigh(x, w):\n",
    "    return x * w\n",
    "\n",
    "# Add a decorator to run it on GPU!\n",
    "def gpu_activate(x): \n",
    "    return ( math.exp(x) - math.exp(-x) ) / ( math.exp(x) + math.exp(-x) )"
   ]
  },
  {
   "cell_type": "markdown",
   "metadata": {
    "id": "uWxnj3iRZ3yr"
   },
   "source": [
    "Let's control the transfers to and from the GPU!"
   ]
  },
  {
   "cell_type": "code",
   "execution_count": null,
   "metadata": {
    "id": "YDB8ChAAZ3ys"
   },
   "outputs": [],
   "source": [
    "# create intermediate arrays and output array on the GPU ('device array')\n",
    "# 1) normalized_gpu (shape=n, dtype=np.float32)\n",
    "# 2) weighted_gpu (shape=n, dtype=np.float32)\n",
    "# 3) activated_gpu (shape=n, dtype=np.float32)"
   ]
  },
  {
   "cell_type": "markdown",
   "metadata": {
    "id": "CIX7wYxQbnYv"
   },
   "source": [
    "Do the computation:"
   ]
  },
  {
   "cell_type": "code",
   "execution_count": null,
   "metadata": {
    "id": "4tx9U_0PZ3yt"
   },
   "outputs": [],
   "source": [
    "%%timeit\n",
    "gpu_normalize(x_gpu, out=normalized_gpu)\n",
    "gpu_weigh(normalized_gpu, w_gpu, out=weighted_gpu)\n",
    "gpu_activate(weighted_gpu, out=activated_gpu)"
   ]
  },
  {
   "cell_type": "markdown",
   "metadata": {
    "id": "Xfnvko8ZZ3yv"
   },
   "source": [
    "Finally, we retrieve the results:"
   ]
  },
  {
   "cell_type": "code",
   "execution_count": null,
   "metadata": {
    "id": "n2uvWFVBZ3yz"
   },
   "outputs": [],
   "source": [
    "activated = activated_gpu.copy_to_host()"
   ]
  },
  {
   "cell_type": "code",
   "execution_count": null,
   "metadata": {
    "id": "3jPsbtShbwwI"
   },
   "outputs": [],
   "source": [
    "print(activated)"
   ]
  },
  {
   "cell_type": "markdown",
   "metadata": {
    "id": "QulMzGhNbyx_"
   },
   "source": [
    "---"
   ]
  },
  {
   "cell_type": "markdown",
   "metadata": {
    "id": "kA2p1lsZb39k"
   },
   "source": [
    "## 3.2.1. [DELETE] Solution"
   ]
  },
  {
   "cell_type": "markdown",
   "metadata": {
    "id": "Eu-ZuLV7b39o"
   },
   "source": [
    "For this, we will need to import `cuda` from `numba`."
   ]
  },
  {
   "cell_type": "code",
   "execution_count": null,
   "metadata": {
    "id": "uBZD33C1b39r"
   },
   "outputs": [],
   "source": [
    "from numba import cuda, vectorize\n",
    "import numpy as np\n",
    "import math"
   ]
  },
  {
   "cell_type": "markdown",
   "metadata": {
    "id": "alT5s4-Ub39u"
   },
   "source": [
    "Then, we can generate some data for `greyscales` and start our network with random `weights`:"
   ]
  },
  {
   "cell_type": "code",
   "execution_count": null,
   "metadata": {
    "id": "V5UDO8tpb39w"
   },
   "outputs": [],
   "source": [
    "n = 1000000\n",
    "\n",
    "# random values between 0. and 255.\n",
    "x = np.floor(np.random.uniform(0, 256, n).astype(np.float32))\n",
    "\n",
    "# random weights following a Gaussian distribution\n",
    "# centred on 0.5 and with width 0.2\n",
    "w = np.random.normal(.5, .2, n).astype(np.float32)"
   ]
  },
  {
   "cell_type": "code",
   "execution_count": null,
   "metadata": {
    "id": "13m9nC0qb39y"
   },
   "outputs": [],
   "source": [
    "# Hint: Transfer inputs to the GPU (i.e., greyscales_gpu and weights_gpu)\n",
    "# transfer inputs to the gpu\n",
    "x_gpu = cuda.to_device(x)\n",
    "w_gpu = cuda.to_device(w)\n"
   ]
  },
  {
   "cell_type": "code",
   "execution_count": null,
   "metadata": {
    "id": "xryIlh1ucIWA"
   },
   "outputs": [],
   "source": [
    "normalized_gpu = cuda.device_array(shape=(n,), dtype=np.float32)\n",
    "weighted_gpu = cuda.device_array(shape=(n,), dtype=np.float32)\n",
    "activated_gpu = cuda.device_array(shape=(n,), dtype=np.float32)"
   ]
  },
  {
   "cell_type": "code",
   "execution_count": null,
   "metadata": {
    "id": "Tsz7ltxab390"
   },
   "outputs": [],
   "source": [
    "@vectorize(['float32(float32)'],target='cuda')\n",
    "def gpu_normalize(x):\n",
    "    return x / 255\n",
    "\n",
    "@vectorize(['float32(float32, float32)'],target='cuda')\n",
    "def gpu_weigh(x, w):\n",
    "    return x * w\n",
    "\n",
    "@vectorize(['float32(float32)'],target='cuda')\n",
    "def gpu_activate(x): \n",
    "    return ( math.exp(x) - math.exp(-x) ) / ( math.exp(x) + math.exp(-x) )"
   ]
  },
  {
   "cell_type": "code",
   "execution_count": null,
   "metadata": {
    "colab": {
     "base_uri": "https://localhost:8080/"
    },
    "id": "HWRWe7hUb394",
    "outputId": "7a8c0d36-e5ab-48b5-cd98-1c78e196a180"
   },
   "outputs": [
    {
     "name": "stdout",
     "output_type": "stream",
     "text": [
      "The slowest run took 433.18 times longer than the fastest. This could mean that an intermediate result is being cached.\n",
      "1 loop, best of 5: 1.44 ms per loop\n"
     ]
    }
   ],
   "source": [
    "%%timeit\n",
    "gpu_normalize(x_gpu, out=normalized_gpu)\n",
    "gpu_weigh(normalized_gpu, w_gpu, out=weighted_gpu)\n",
    "gpu_activate(weighted_gpu, out=activated_gpu)"
   ]
  },
  {
   "cell_type": "markdown",
   "metadata": {
    "id": "UObCoIBtb395"
   },
   "source": [
    "Finally, we retrieve the results:"
   ]
  },
  {
   "cell_type": "code",
   "execution_count": null,
   "metadata": {
    "id": "LP26Nc3Ab396"
   },
   "outputs": [],
   "source": [
    "activated = activated_gpu.copy_to_host()"
   ]
  },
  {
   "cell_type": "code",
   "execution_count": null,
   "metadata": {
    "colab": {
     "base_uri": "https://localhost:8080/"
    },
    "id": "7NDKg822b397",
    "outputId": "d3b32270-1523-4a59-e6f7-5cafab3e2235"
   },
   "outputs": [
    {
     "name": "stdout",
     "output_type": "stream",
     "text": [
      "[0.43143082 0.439002   0.03473125 ... 0.10591199 0.01777428 0.5020245 ]\n"
     ]
    }
   ],
   "source": [
    "print(activated)"
   ]
  },
  {
   "cell_type": "markdown",
   "metadata": {
    "id": "Dn3QhTBcKGX1"
   },
   "source": [
    "### 3.2.1. Part 1. Using the GPU decorator."
   ]
  },
  {
   "cell_type": "markdown",
   "metadata": {
    "id": "Csp9Dn9xKFl8"
   },
   "source": [
    "\n",
    "Implement a pararllel version of this algorithm on GPU."
   ]
  },
  {
   "cell_type": "code",
   "execution_count": null,
   "metadata": {
    "id": "9vurk_W2Fhs3"
   },
   "outputs": [],
   "source": [
    "# Add a decorator to run it on GPU!\n",
    "def gpu_normalize(x):\n",
    "    return x / 255\n",
    "\n",
    "# Add a decorator to run it on GPU!\n",
    "def gpu_weigh(x, w):\n",
    "    return x * w\n",
    "\n",
    "# Add a decorator to run it on GPU!\n",
    "def gpu_activate(x): \n",
    "    return ( math.exp(x) - math.exp(-x) ) / ( math.exp(x) + math.exp(-x) )"
   ]
  },
  {
   "cell_type": "markdown",
   "metadata": {
    "id": "onpT790OEdl9"
   },
   "source": [
    "Solution:"
   ]
  },
  {
   "cell_type": "code",
   "execution_count": null,
   "metadata": {
    "id": "h1T0E8I0Eev9"
   },
   "outputs": [],
   "source": [
    "@vectorize(['float32(float32)'],target='cuda')\n",
    "def gpu_normalize(x):\n",
    "    return x / 255\n",
    "\n",
    "@vectorize(['float32(float32, float32)'],target='cuda')\n",
    "def gpu_weigh(x, w):\n",
    "    return x * w\n",
    "\n",
    "@vectorize(['float32(float32)'],target='cuda')\n",
    "def gpu_activate(x): \n",
    "    return ( math.exp(x) - math.exp(-x) ) / ( math.exp(x) + math.exp(-x) )"
   ]
  },
  {
   "cell_type": "code",
   "execution_count": null,
   "metadata": {
    "id": "8UrX4QvjEg-v"
   },
   "outputs": [],
   "source": [
    "%%timeit\n",
    "normalized = gpu_normalize(greyscales)\n",
    "weighted = gpu_weigh(normalized, weights)\n",
    "activated = gpu_activate(weighted)"
   ]
  },
  {
   "cell_type": "markdown",
   "metadata": {
    "id": "hhvQNR7rElWU"
   },
   "source": [
    "\n",
    "\n",
    "That's already quite nice, we gained more than a factor of two!\n",
    "\n",
    "But we realize that we spend time transferring data back and forth between the host and the GPU for nothing:\n",
    "\n",
    "    transfer greyscales to the GPU\n",
    "    transfer normalized to the host, and then back to the GPU, together with weights\n",
    "    transfer weighted to the host, and then back to the GPU\n",
    "    transfer activated to the host\n",
    "\n",
    "Actually, we only need to:\n",
    "\n",
    "    transfer greyscales and weights to the GPU\n",
    "    retrieve activated\n",
    "\n",
    "So let's do that:\n"
   ]
  },
  {
   "cell_type": "code",
   "execution_count": null,
   "metadata": {
    "id": "mxVQ_sseEh31"
   },
   "outputs": [],
   "source": [
    "%%timeit\n",
    "\n",
    "# create intermediate arrays on the GPU\n",
    "normalized_gpu = cuda.device_array(shape=(n,), \n",
    "                               dtype=np.float32)\n",
    "weighted_gpu = cuda.device_array(shape=(n,), \n",
    "                             dtype=np.float32)\n",
    "\n",
    "# note that output device arrays are provided as arguments \n",
    "gpu_normalize(x_gpu, out=normalized_gpu)\n",
    "gpu_weigh(normalized_gpu, w_gpu, out=weighted_gpu)\n",
    "activated = gpu_activate(weighted_gpu)"
   ]
  },
  {
   "cell_type": "markdown",
   "metadata": {
    "id": "vqmNxJ46KQbl"
   },
   "source": [
    "### 3.2.1. Part 2. Controlling data transfers"
   ]
  },
  {
   "cell_type": "code",
   "execution_count": null,
   "metadata": {
    "id": "IPMuRdjzZs1z"
   },
   "outputs": [],
   "source": []
  },
  {
   "cell_type": "markdown",
   "metadata": {
    "id": "bIblYBFxKmpF"
   },
   "source": [
    "For this, we will need to import `cuda` from `numba`."
   ]
  },
  {
   "cell_type": "code",
   "execution_count": null,
   "metadata": {
    "id": "H2jmrBceKrbN"
   },
   "outputs": [],
   "source": [
    "from numba import cuda"
   ]
  },
  {
   "cell_type": "markdown",
   "metadata": {
    "id": "m5rt76SKKaVX"
   },
   "source": [
    "You can send an array `x` to GPU by running:\n",
    "\n",
    "```python\n",
    "x_gpu = cuda.to_device(x)\n",
    "```\n",
    "\n",
    "In case you need to store intermediate results in intermediate arrays, you can create them as follows:\n",
    "\n",
    "```python\n",
    "intermediate_gpu = cuda.device_array(shape=(n,), dtype=np.float32)\n",
    "```\n",
    "\n",
    "As you saw, you will have to specify (1) the array size and (2) the data type. In this case, this _\"CUDA-array\"_ has size `n` and its type is `float32`.\n",
    "\n",
    "You can check more data types [here](https://numpy.org/doc/stable/user/basics.types.html)."
   ]
  },
  {
   "cell_type": "markdown",
   "metadata": {
    "id": "611Wg2PIEqsm"
   },
   "source": [
    "Let's control the transfers to and from the GPU!"
   ]
  },
  {
   "cell_type": "code",
   "execution_count": null,
   "metadata": {
    "id": "mEK2hcFTEpIB"
   },
   "outputs": [],
   "source": [
    "# transfer inputs to the gpu\n",
    "greyscales_gpu = cuda.to_device(greyscales)\n",
    "weights_gpu = cuda.to_device(weights)\n",
    "\n",
    "# create intermediate arrays and output array on the GPU\n",
    "normalized_gpu = cuda.device_array(shape=(n,), \n",
    "                               dtype=np.float32)\n",
    "weighted_gpu = cuda.device_array(shape=(n,), \n",
    "                             dtype=np.float32)\n",
    "activated_gpu = cuda.device_array(shape=(n,), \n",
    "                             dtype=np.float32)"
   ]
  },
  {
   "cell_type": "code",
   "execution_count": null,
   "metadata": {
    "id": "SW_ApBg_EzwA"
   },
   "outputs": [],
   "source": [
    "%%timeit\n",
    "gpu_normalize(greyscales_gpu, out=normalized_gpu)\n",
    "gpu_weigh(normalized_gpu, weights_gpu, out=weighted_gpu)\n",
    "gpu_activate(weighted_gpu, out=activated_gpu)"
   ]
  },
  {
   "cell_type": "markdown",
   "metadata": {
    "id": "fXEbuc4SE1r9"
   },
   "source": [
    "Finally, we retrieve the results:"
   ]
  },
  {
   "cell_type": "code",
   "execution_count": null,
   "metadata": {
    "id": "yNuk30-0E0Y1"
   },
   "outputs": [],
   "source": [
    "activated = activated_gpu.copy_to_host()\n",
    "activated"
   ]
  },
  {
   "cell_type": "markdown",
   "metadata": {
    "id": "NeJ3q-CIJo3x"
   },
   "source": [
    "----"
   ]
  },
  {
   "cell_type": "markdown",
   "metadata": {
    "id": "gGJfhs2-zDzX"
   },
   "source": [
    "# References"
   ]
  },
  {
   "cell_type": "markdown",
   "metadata": {
    "id": "M-wXnSxkzIj_"
   },
   "source": [
    "## I. Scientific articles and books"
   ]
  },
  {
   "cell_type": "markdown",
   "metadata": {
    "id": "4W2Al36ZzIeN"
   },
   "source": [
    "+ Navarro, C. A., Hitschfeld-Kahler, N., & Mateu, L. (2014). A survey on parallel computing and its applications in data-parallel problems using GPU architectures. Communications in Computational Physics, 15(2), 285-329. DOI: [10.1.1.958.9741](https://citeseerx.ist.psu.edu/viewdoc/download?doi=10.1.1.958.9741&rep=rep1&type=pdf).\n",
    "\n"
   ]
  },
  {
   "cell_type": "markdown",
   "metadata": {
    "id": "vwl6FQIVzzAg"
   },
   "source": [
    "## II. Web Tutorials, blogs and articles"
   ]
  },
  {
   "cell_type": "markdown",
   "metadata": {
    "id": "G0vp2qKMzIOV"
   },
   "source": [
    "+ Numba: A High Performance Python Compiler. https://numba.readthedocs.io/."
   ]
  },
  {
   "cell_type": "markdown",
   "metadata": {
    "id": "k8GBK4EI0AGV"
   },
   "source": [
    "## III. Web images and icons"
   ]
  },
  {
   "cell_type": "markdown",
   "metadata": {
    "id": "9YdkDZR80Gu1"
   },
   "source": [
    "+ Fiylo. http://www.fiylo.de\n",
    "+ Syracuse University web-platform. Kid-Friendly Coding Languages and Learning Tools. https://onlinegrad.syracuse.edu/blog/kid-friendly-coding-languages/.\n",
    "+ TheValuable.de. Difference between compiler and interpreter. https://thevaluable.dev/difference-between-compiler-interpreter/.\n",
    "+ Jack Daniel. Medium. Data Preprocessing in Machine Learning Model. https://medium.com/analytics-vidhya/data-preprocessing-in-machine-learning-model-3af34d0f3ceb. \n",
    "+ MyMasterDesigner.com. Exploratory data analysis (EDA) with Python. https://mymasterdesigner.com/2021/05/30/exploratory-data-analysis-eda-with-python/. \n",
    "+ FlatIcon (https://www.flaticon.com/). (Awesome webpage with free download icons 🖤).\n"
   ]
  },
  {
   "cell_type": "markdown",
   "metadata": {
    "id": "pZogGqAW6JS3"
   },
   "source": [
    "## IV. Additional Resources"
   ]
  },
  {
   "cell_type": "markdown",
   "metadata": {
    "id": "AHXooj49K12T"
   },
   "source": [
    "+ Sundnes, J. (2020). Introduction to Scientific Programming with Python (p. 148). Springer Nature. DOI: [10.1007/978-3-030-50356-7](https://doi.org/10.1007/978-3-030-50356-7).\n",
    "+ Stephen Fordham, \"How to use decorators in python by example\". Towards Data Science. https://towardsdatascience.com/how-to-use-decorators-in-python-by-example-b398328163b.\n",
    "\n",
    "+ Teclado ([Youtube channel](https://www.youtube.com/channel/UCINg1S61mpN7dZW8vR2ikCw)).\n",
    "+ Python exercises. w3resourse. [https://www.w3resource.com/python-exercises/](https://www.w3resource.com/python-exercises/).\n"
   ]
  },
  {
   "cell_type": "markdown",
   "metadata": {
    "id": "-JZcx5jK0st3"
   },
   "source": [
    "----\n",
    "\n",
    "Day #1 of the summer course \"_Introduction to High-Performance Computing in Python for Scientists!_\". \n",
    "\n",
    "\n",
    "[Goethe Research Academy for Early Career Researchers (GRADE)](https://www.goethe-university-frankfurt.de/), Goethe University Frankfurt, Germany. June 2022.\n",
    "\n",
    "---"
   ]
  },
  {
   "cell_type": "markdown",
   "metadata": {
    "id": "qJ7mgYBMhRMW"
   },
   "source": [
    "# Troubleshooting"
   ]
  },
  {
   "cell_type": "markdown",
   "metadata": {
    "id": "XgfP-b7olP7Z"
   },
   "source": [
    "#### Installing Numba + CUDA on Google Colab!\n",
    "\n",
    "`(src=https://thedatafrog.com/en/articles/boost-python-gpu/)`\n",
    "\n",
    "We need to add two libraries: `libdevice` and `libnvvm.so`.\n",
    "\n",
    "In order to find it we nee to run:\n"
   ]
  },
  {
   "cell_type": "code",
   "execution_count": null,
   "metadata": {
    "colab": {
     "base_uri": "https://localhost:8080/"
    },
    "id": "ud875YEtJVqE",
    "outputId": "b8298142-a374-4c99-b2e6-274cdccbf96e"
   },
   "outputs": [
    {
     "name": "stdout",
     "output_type": "stream",
     "text": [
      "/usr/local/lib/python3.7/dist-packages/jaxlib/cuda/nvvm/libdevice\n",
      "/usr/local/cuda-11.0/nvvm/libdevice\n",
      "/usr/local/cuda-11.1/nvvm/libdevice\n",
      "/usr/local/cuda-10.0/nvvm/libdevice\n",
      "/usr/local/cuda-10.1/nvvm/libdevice\n",
      "find: ‘/proc/34/task/34/net’: Invalid argument\n",
      "find: ‘/proc/34/net’: Invalid argument\n"
     ]
    }
   ],
   "source": [
    "!find / -iname 'libdevice'"
   ]
  },
  {
   "cell_type": "code",
   "execution_count": null,
   "metadata": {
    "colab": {
     "base_uri": "https://localhost:8080/"
    },
    "id": "ApKCGqXUJVss",
    "outputId": "99401a31-7e3e-4d53-e26c-40feae19e5b6"
   },
   "outputs": [
    {
     "name": "stdout",
     "output_type": "stream",
     "text": [
      "/usr/local/cuda-11.0/nvvm/lib64/libnvvm.so\n",
      "/usr/local/cuda-11.1/nvvm/lib64/libnvvm.so\n",
      "/usr/local/cuda-10.0/nvvm/lib64/libnvvm.so\n",
      "/usr/local/cuda-10.1/nvvm/lib64/libnvvm.so\n",
      "find: ‘/proc/34/task/34/net’: Invalid argument\n",
      "find: ‘/proc/34/net’: Invalid argument\n"
     ]
    }
   ],
   "source": [
    "!find / -iname 'libnvvm.so'"
   ]
  },
  {
   "cell_type": "markdown",
   "metadata": {
    "id": "2AgPcnUWlZhY"
   },
   "source": [
    "Finally, execute the cell below:"
   ]
  },
  {
   "cell_type": "code",
   "execution_count": null,
   "metadata": {
    "id": "D4EYfDnOJVx6"
   },
   "outputs": [],
   "source": [
    "import os\n",
    "os.environ['NUMBAPRO_LIBDEVICE'] = \"/usr/local/lib/python3.7/dist-packages/jaxlib/cuda/nvvm/libdevice\"\n",
    "os.environ['NUMBAPRO_NVVM'] = \"/usr/local/cuda-10.0/nvvm/lib64/libnvvm.so\""
   ]
  },
  {
   "cell_type": "code",
   "execution_count": null,
   "metadata": {
    "id": "qvgC4XWO1zH3"
   },
   "outputs": [],
   "source": []
  }
 ],
 "metadata": {
  "accelerator": "GPU",
  "colab": {
   "collapsed_sections": [],
   "name": "TCR-HPC-D2_github  -  Introduction to HPC and applications in Python.ipynb",
   "provenance": [],
   "toc_visible": true
  },
  "gpuClass": "standard",
  "kernelspec": {
   "display_name": "Python 3",
   "language": "python",
   "name": "python3"
  },
  "language_info": {
   "codemirror_mode": {
    "name": "ipython",
    "version": 3
   },
   "file_extension": ".py",
   "mimetype": "text/x-python",
   "name": "python",
   "nbconvert_exporter": "python",
   "pygments_lexer": "ipython3",
   "version": "3.8.5"
  }
 },
 "nbformat": 4,
 "nbformat_minor": 1
}
